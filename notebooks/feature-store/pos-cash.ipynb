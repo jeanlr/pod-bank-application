{
 "cells": [
  {
   "cell_type": "code",
   "execution_count": 1,
   "id": "a6c87233-cfb2-4748-bc4a-70d557050d1c",
   "metadata": {},
   "outputs": [
    {
     "name": "stderr",
     "output_type": "stream",
     "text": [
      "Setting default log level to \"WARN\".\n",
      "To adjust logging level use sc.setLogLevel(newLevel). For SparkR, use setLogLevel(newLevel).\n",
      "25/07/21 18:04:25 WARN NativeCodeLoader: Unable to load native-hadoop library for your platform... using builtin-java classes where applicable\n"
     ]
    }
   ],
   "source": [
    "import findspark\n",
    "findspark.init()\n",
    "\n",
    "from pyspark.sql import SparkSession\n",
    "from pyspark.sql.functions import col\n",
    "from pyspark.sql.types import IntegerType\n",
    "from pyspark.sql.functions import to_date, lit, date_format\n",
    "\n",
    "try:\n",
    "    spark.stop()\n",
    "except:\n",
    "    pass\n",
    "\n",
    "spark = SparkSession.builder \\\n",
    "    .appName(\"Pos-Cash\") \\\n",
    "    .master(\"spark://spark-master:7077\") \\\n",
    "    .config(\"spark.executor.memory\", \"2g\") \\\n",
    "    .config(\"spark.executor.cores\", \"2\") \\\n",
    "    .config(\"spark.sql.shuffle.partitions\", \"200\") \\\n",
    "    .getOrCreate()"
   ]
  },
  {
   "cell_type": "code",
   "execution_count": 2,
   "id": "8c03d363-74f3-478e-b965-0c65900889b9",
   "metadata": {},
   "outputs": [
    {
     "name": "stderr",
     "output_type": "stream",
     "text": [
      "                                                                                "
     ]
    },
    {
     "name": "stdout",
     "output_type": "stream",
     "text": [
      "Quantidade de linhas: 10001358\n",
      "Quantidade de variaveis (colunas): 8\n",
      "+----------+----------+--------------+--------------+---------------------+--------------------+------+----------+\n",
      "|SK_ID_PREV|SK_ID_CURR|MONTHS_BALANCE|CNT_INSTALMENT|CNT_INSTALMENT_FUTURE|NAME_CONTRACT_STATUS|SK_DPD|SK_DPD_DEF|\n",
      "+----------+----------+--------------+--------------+---------------------+--------------------+------+----------+\n",
      "|1803195   |182943    |-31           |48.0          |45.0                 |Active              |0     |0         |\n",
      "|1715348   |367990    |-33           |36.0          |35.0                 |Active              |0     |0         |\n",
      "|1784872   |397406    |-32           |12.0          |9.0                  |Active              |0     |0         |\n",
      "|1903291   |269225    |-35           |48.0          |42.0                 |Active              |0     |0         |\n",
      "|2341044   |334279    |-35           |36.0          |35.0                 |Active              |0     |0         |\n",
      "+----------+----------+--------------+--------------+---------------------+--------------------+------+----------+\n",
      "only showing top 5 rows\n",
      "\n"
     ]
    }
   ],
   "source": [
    "pos = spark.read.csv(\"/data/raw/POS_CASH_balance.csv\",\n",
    "                               header=True,\n",
    "                               inferSchema=True)\n",
    "\n",
    "pos.createOrReplaceTempView(\"pos\")\n",
    "\n",
    "# Contagem de linhas e colunas\n",
    "num_rows = pos.count()\n",
    "num_columns = len(pos.columns)\n",
    "\n",
    "print(f'Quantidade de linhas: {num_rows}')\n",
    "print(f'Quantidade de variaveis (colunas): {num_columns}')\n",
    "\n",
    "pos.show(5, truncate=False)"
   ]
  },
  {
   "cell_type": "markdown",
   "id": "2b859c9d-1cb1-4965-b591-595fbf81e7f6",
   "metadata": {},
   "source": [
    "## Função para renomear e padronizar palavras"
   ]
  },
  {
   "cell_type": "code",
   "execution_count": 3,
   "id": "81561691-1c71-480c-931f-3764fe2c141b",
   "metadata": {},
   "outputs": [],
   "source": [
    "#Substituir espaço por underline e colocar a palavra em letras maiúsculas.\n",
    "import re\n",
    "\n",
    "def tratamento_palavra(palavra):\n",
    "    palavra_transformada = re.sub(r'\\s', '_', palavra).upper()\n",
    "\n",
    "    return palavra_transformada  \n",
    "\n"
   ]
  },
  {
   "cell_type": "markdown",
   "id": "91d2a16e-617d-4135-926b-fb466fcd4aae",
   "metadata": {},
   "source": [
    "## Renomeando e padronizando palavras da coluna NAME_CONTRACT_STATUS"
   ]
  },
  {
   "cell_type": "code",
   "execution_count": 4,
   "id": "8e07796b-0379-42fe-b52b-be3f5ba65b11",
   "metadata": {},
   "outputs": [
    {
     "name": "stderr",
     "output_type": "stream",
     "text": [
      "[Stage 6:=======>                                                   (1 + 7) / 8]"
     ]
    },
    {
     "name": "stdout",
     "output_type": "stream",
     "text": [
      "['DEMAND', 'APPROVED', 'COMPLETED', 'RETURNED_TO_THE_STORE', 'ACTIVE', 'SIGNED', 'CANCELED', 'XNA', 'AMORTIZED_DEBT']\n"
     ]
    },
    {
     "name": "stderr",
     "output_type": "stream",
     "text": [
      "                                                                                "
     ]
    }
   ],
   "source": [
    "# Extraindo os valores únicos diretamente do DataFrame\n",
    "status = pos.select('NAME_CONTRACT_STATUS').distinct().collect()\n",
    "\n",
    "# Aplicando a função de tratamento de palavra a cada valor único\n",
    "nova_lista = [tratamento_palavra(row['NAME_CONTRACT_STATUS']) for row in status]\n",
    "\n",
    "# Exibindo a lista resultante\n",
    "print(nova_lista)"
   ]
  },
  {
   "cell_type": "markdown",
   "id": "19c2bca3-96b3-40e3-b133-5b39e7b7185e",
   "metadata": {},
   "source": [
    "## Criando variáveis de janela temporal"
   ]
  },
  {
   "cell_type": "code",
   "execution_count": 5,
   "id": "7ef8108c-c9b7-421a-a33d-8f9ed1cf6f10",
   "metadata": {},
   "outputs": [
    {
     "data": {
      "text/plain": [
       "DataFrame[SK_ID_PREV: int, SK_ID_CURR: int, MONTHS_BALANCE: int, CNT_INSTALMENT: double, CNT_INSTALMENT_FUTURE: double, NAME_CONTRACT_STATUS: string, SK_DPD: int, SK_DPD_DEF: int, U3M: int, U6M: int, U12M: int]"
      ]
     },
     "metadata": {},
     "output_type": "display_data"
    }
   ],
   "source": [
    "## Habilitando uso do SparkSQL\n",
    "pos.createOrReplaceTempView(\"dados\")\n",
    "\n",
    "df_temp_01 = spark.sql(\"\"\"\n",
    "SELECT\n",
    "    *,\n",
    "      CASE\n",
    "        WHEN MONTHS_BALANCE >= -3 THEN 1\n",
    "        ELSE 0\n",
    "    END AS U3M,\n",
    "    CASE\n",
    "        WHEN MONTHS_BALANCE >= -6 THEN 1\n",
    "        ELSE 0\n",
    "    END AS U6M,  \n",
    "    CASE\n",
    "        WHEN MONTHS_BALANCE >= -12 THEN 1\n",
    "        ELSE 0\n",
    "    END AS U12M\n",
    "FROM dados\n",
    "ORDER BY `SK_ID_PREV`;\n",
    "\"\"\")\n",
    "df_temp_01.createOrReplaceTempView(\"df_temp_01\")\n",
    "display(df_temp_01.limit(5))"
   ]
  },
  {
   "cell_type": "markdown",
   "id": "3cf07cca-e3a1-44fb-9d3c-279ab016802c",
   "metadata": {},
   "source": [
    "## Criando variáveis de primeira camada"
   ]
  },
  {
   "cell_type": "code",
   "execution_count": 6,
   "id": "7668c557-c5f2-42cd-942a-0f31286803bd",
   "metadata": {},
   "outputs": [
    {
     "name": "stdout",
     "output_type": "stream",
     "text": [
      "Quantidade Total de Variáveis Criadas: 18\n",
      "Nomes das Variáveis Criadas: ['VL_MED_CNT_INSTALMENT_U3M_POS_CASH', 'VL_MED_CNT_INSTALMENT_U6M_POS_CASH', 'VL_MED_CNT_INSTALMENT_U12M_POS_CASH', 'VL_MED_CNT_INSTALMENT_FUTURE_U3M_POS_CASH', 'VL_MED_CNT_INSTALMENT_FUTURE_U6M_POS_CASH', 'VL_MED_CNT_INSTALMENT_FUTURE_U12M_POS_CASH', 'QT_TOT_SK_DPD_U3M_POS_CASH', 'QT_MED_SK_DPD_U3M_POS_CASH', 'QT_TOT_SK_DPD_U6M_POS_CASH', 'QT_MED_SK_DPD_U6M_POS_CASH', 'QT_TOT_SK_DPD_U12M_POS_CASH', 'QT_MED_SK_DPD_U12M_POS_CASH', 'QT_TOT_SK_DPD_DEF_U3M_POS_CASH', 'QT_MED_SK_DPD_DEF_U3M_POS_CASH', 'QT_TOT_SK_DPD_DEF_U6M_POS_CASH', 'QT_MED_SK_DPD_DEF_U6M_POS_CASH', 'QT_TOT_SK_DPD_DEF_U12M_POS_CASH', 'QT_MED_SK_DPD_DEF_U12M_POS_CASH']\n",
      "\n",
      "\n"
     ]
    },
    {
     "name": "stderr",
     "output_type": "stream",
     "text": [
      "[Stage 11:>                                                         (0 + 8) / 8]"
     ]
    },
    {
     "name": "stdout",
     "output_type": "stream",
     "text": [
      "Quantidade de linhas do DataFrame: 936325\n",
      "Quantidade de colunas do DataFrame: 19\n",
      "\n",
      "\n"
     ]
    },
    {
     "name": "stderr",
     "output_type": "stream",
     "text": [
      "                                                                                "
     ]
    },
    {
     "data": {
      "text/plain": [
       "DataFrame[SK_ID_PREV: int, VL_MED_CNT_INSTALMENT_U3M_POS_CASH: double, VL_MED_CNT_INSTALMENT_U6M_POS_CASH: double, VL_MED_CNT_INSTALMENT_U12M_POS_CASH: double, VL_MED_CNT_INSTALMENT_FUTURE_U3M_POS_CASH: double, VL_MED_CNT_INSTALMENT_FUTURE_U6M_POS_CASH: double, VL_MED_CNT_INSTALMENT_FUTURE_U12M_POS_CASH: double, QT_TOT_SK_DPD_U3M_POS_CASH: bigint, QT_MED_SK_DPD_U3M_POS_CASH: double, QT_TOT_SK_DPD_U6M_POS_CASH: bigint, QT_MED_SK_DPD_U6M_POS_CASH: double, QT_TOT_SK_DPD_U12M_POS_CASH: bigint, QT_MED_SK_DPD_U12M_POS_CASH: double, QT_TOT_SK_DPD_DEF_U3M_POS_CASH: bigint, QT_MED_SK_DPD_DEF_U3M_POS_CASH: double, QT_TOT_SK_DPD_DEF_U6M_POS_CASH: bigint, QT_MED_SK_DPD_DEF_U6M_POS_CASH: double, QT_TOT_SK_DPD_DEF_U12M_POS_CASH: bigint, QT_MED_SK_DPD_DEF_U12M_POS_CASH: double]"
      ]
     },
     "metadata": {},
     "output_type": "display_data"
    }
   ],
   "source": [
    "from pyspark.sql.functions import col, round, sum, avg, max, min, when, countDistinct, count, date_format, current_date\n",
    "# Definindo as colunas para a agregação.\n",
    "colunas_agregacao_total = df_temp_01.columns\n",
    "colunas_agregacao_total.remove('SK_ID_CURR')\n",
    "colunas_agregacao_total.remove('SK_ID_PREV')\n",
    "colunas_agregacao_total.remove('MONTHS_BALANCE')\n",
    "colunas_agregacao_total.remove('NAME_CONTRACT_STATUS')\n",
    "\n",
    "# Defindo a lista de colunas de flags.\n",
    "colunas_flags = ['U3M', 'U6M','U12M']\n",
    "\n",
    "# Criando uma lista vazia.\n",
    "expressoes_agregacao = []\n",
    "\n",
    "# Iterando sobre as colunas e criando as variáveis explicativas com as agregações.\n",
    "for coluna in colunas_agregacao_total:\n",
    "  # Verifica se a coluna atual não é uma coluna de flag.\n",
    "  if not any(flag in coluna for flag in colunas_flags):\n",
    "    for flag in colunas_flags:\n",
    "      if 'DPD' in coluna:\n",
    "        expressoes_agregacao.append(round(sum(when(col(flag) == 1, col(coluna))), 2).alias(f'QT_TOT_{coluna.upper()}_{flag.upper()}_POS_CASH'))\n",
    "        expressoes_agregacao.append(round(avg(when(col(flag) == 1, col(coluna))), 2).alias(f'QT_MED_{coluna.upper()}_{flag.upper()}_POS_CASH'))\n",
    "\n",
    "      else:\n",
    "        expressoes_agregacao.append(round(avg(when(col(flag) == 1, col(coluna))), 2).alias(f'VL_MED_{coluna.upper()}_{flag.upper()}_POS_CASH'))\n",
    "\n",
    "\n",
    "# Criando uma tupla com as variáveis criadas.\n",
    "expressoes_agregacao = tuple(expressoes_agregacao)\n",
    "\n",
    "# Aplicando as expressões de agregação.\n",
    "df_temp_02 = df_temp_01.groupBy('SK_ID_PREV').agg(*expressoes_agregacao).orderBy('SK_ID_PREV')\n",
    "\n",
    "\n",
    "# Quantidade e nome das variáveis criadas.\n",
    "nomes_cols = df_temp_02.columns\n",
    "nomes_cols_novas = nomes_cols[1:]\n",
    "print('Quantidade Total de Variáveis Criadas:', len(df_temp_02.columns) - 1)\n",
    "print('Nomes das Variáveis Criadas:', nomes_cols_novas)\n",
    "print('')\n",
    "print('')\n",
    "\n",
    "# Quantidade de linhas do DataFrame.\n",
    "num_rows_df = df_temp_02.count()\n",
    "\n",
    "# Quantidade de colunas do DataFrame.\n",
    "num_columns_df = len(df_temp_02.columns)\n",
    "\n",
    "# Imprimir o resultado de número de linhas e colunas.\n",
    "print(f'Quantidade de linhas do DataFrame: {num_rows_df}')\n",
    "print(f'Quantidade de colunas do DataFrame: {num_columns_df}')\n",
    "print('')\n",
    "print('')\n",
    "\n",
    "# Mostra as 5 primeiras linhas do DataFrame usando display\n",
    "display(df_temp_02.limit(5))"
   ]
  },
  {
   "cell_type": "markdown",
   "id": "99ca9ba6-1e1c-4dea-9577-dd301e4df42b",
   "metadata": {},
   "source": [
    "## Criando variáveis com base na coluna NAME_CONTRACT_STATUS"
   ]
  },
  {
   "cell_type": "code",
   "execution_count": 7,
   "id": "e9498cce-4c43-4d92-9d14-1a517518cf8c",
   "metadata": {},
   "outputs": [
    {
     "name": "stdout",
     "output_type": "stream",
     "text": [
      "Quantidade Total de Variáveis Criadas: 162\n",
      "Nomes das Variáveis Criadas: ['VL_MED_CNT_INSTALMENT_U3M_DEMAND_POS_CASH', 'VL_MED_CNT_INSTALMENT_U6M_DEMAND_POS_CASH', 'VL_MED_CNT_INSTALMENT_U12M_DEMAND_POS_CASH', 'VL_MED_CNT_INSTALMENT_FUTURE_U3M_DEMAND_POS_CASH', 'VL_MED_CNT_INSTALMENT_FUTURE_U6M_DEMAND_POS_CASH', 'VL_MED_CNT_INSTALMENT_FUTURE_U12M_DEMAND_POS_CASH', 'QT_TOT_SK_DPD_U3M_DEMAND_POS_CASH', 'QT_MED_SK_DPD_U3M_DEMAND_POS_CASH', 'QT_TOT_SK_DPD_U6M_DEMAND_POS_CASH', 'QT_MED_SK_DPD_U6M_DEMAND_POS_CASH', 'QT_TOT_SK_DPD_U12M_DEMAND_POS_CASH', 'QT_MED_SK_DPD_U12M_DEMAND_POS_CASH', 'QT_TOT_SK_DPD_DEF_U3M_DEMAND_POS_CASH', 'QT_MED_SK_DPD_DEF_U3M_DEMAND_POS_CASH', 'QT_TOT_SK_DPD_DEF_U6M_DEMAND_POS_CASH', 'QT_MED_SK_DPD_DEF_U6M_DEMAND_POS_CASH', 'QT_TOT_SK_DPD_DEF_U12M_DEMAND_POS_CASH', 'QT_MED_SK_DPD_DEF_U12M_DEMAND_POS_CASH', 'VL_MED_CNT_INSTALMENT_U3M_APPROVED_POS_CASH', 'VL_MED_CNT_INSTALMENT_U6M_APPROVED_POS_CASH', 'VL_MED_CNT_INSTALMENT_U12M_APPROVED_POS_CASH', 'VL_MED_CNT_INSTALMENT_FUTURE_U3M_APPROVED_POS_CASH', 'VL_MED_CNT_INSTALMENT_FUTURE_U6M_APPROVED_POS_CASH', 'VL_MED_CNT_INSTALMENT_FUTURE_U12M_APPROVED_POS_CASH', 'QT_TOT_SK_DPD_U3M_APPROVED_POS_CASH', 'QT_MED_SK_DPD_U3M_APPROVED_POS_CASH', 'QT_TOT_SK_DPD_U6M_APPROVED_POS_CASH', 'QT_MED_SK_DPD_U6M_APPROVED_POS_CASH', 'QT_TOT_SK_DPD_U12M_APPROVED_POS_CASH', 'QT_MED_SK_DPD_U12M_APPROVED_POS_CASH', 'QT_TOT_SK_DPD_DEF_U3M_APPROVED_POS_CASH', 'QT_MED_SK_DPD_DEF_U3M_APPROVED_POS_CASH', 'QT_TOT_SK_DPD_DEF_U6M_APPROVED_POS_CASH', 'QT_MED_SK_DPD_DEF_U6M_APPROVED_POS_CASH', 'QT_TOT_SK_DPD_DEF_U12M_APPROVED_POS_CASH', 'QT_MED_SK_DPD_DEF_U12M_APPROVED_POS_CASH', 'VL_MED_CNT_INSTALMENT_U3M_COMPLETED_POS_CASH', 'VL_MED_CNT_INSTALMENT_U6M_COMPLETED_POS_CASH', 'VL_MED_CNT_INSTALMENT_U12M_COMPLETED_POS_CASH', 'VL_MED_CNT_INSTALMENT_FUTURE_U3M_COMPLETED_POS_CASH', 'VL_MED_CNT_INSTALMENT_FUTURE_U6M_COMPLETED_POS_CASH', 'VL_MED_CNT_INSTALMENT_FUTURE_U12M_COMPLETED_POS_CASH', 'QT_TOT_SK_DPD_U3M_COMPLETED_POS_CASH', 'QT_MED_SK_DPD_U3M_COMPLETED_POS_CASH', 'QT_TOT_SK_DPD_U6M_COMPLETED_POS_CASH', 'QT_MED_SK_DPD_U6M_COMPLETED_POS_CASH', 'QT_TOT_SK_DPD_U12M_COMPLETED_POS_CASH', 'QT_MED_SK_DPD_U12M_COMPLETED_POS_CASH', 'QT_TOT_SK_DPD_DEF_U3M_COMPLETED_POS_CASH', 'QT_MED_SK_DPD_DEF_U3M_COMPLETED_POS_CASH', 'QT_TOT_SK_DPD_DEF_U6M_COMPLETED_POS_CASH', 'QT_MED_SK_DPD_DEF_U6M_COMPLETED_POS_CASH', 'QT_TOT_SK_DPD_DEF_U12M_COMPLETED_POS_CASH', 'QT_MED_SK_DPD_DEF_U12M_COMPLETED_POS_CASH', 'VL_MED_CNT_INSTALMENT_U3M_RETURNED_TO_THE_STORE_POS_CASH', 'VL_MED_CNT_INSTALMENT_U6M_RETURNED_TO_THE_STORE_POS_CASH', 'VL_MED_CNT_INSTALMENT_U12M_RETURNED_TO_THE_STORE_POS_CASH', 'VL_MED_CNT_INSTALMENT_FUTURE_U3M_RETURNED_TO_THE_STORE_POS_CASH', 'VL_MED_CNT_INSTALMENT_FUTURE_U6M_RETURNED_TO_THE_STORE_POS_CASH', 'VL_MED_CNT_INSTALMENT_FUTURE_U12M_RETURNED_TO_THE_STORE_POS_CASH', 'QT_TOT_SK_DPD_U3M_RETURNED_TO_THE_STORE_POS_CASH', 'QT_MED_SK_DPD_U3M_RETURNED_TO_THE_STORE_POS_CASH', 'QT_TOT_SK_DPD_U6M_RETURNED_TO_THE_STORE_POS_CASH', 'QT_MED_SK_DPD_U6M_RETURNED_TO_THE_STORE_POS_CASH', 'QT_TOT_SK_DPD_U12M_RETURNED_TO_THE_STORE_POS_CASH', 'QT_MED_SK_DPD_U12M_RETURNED_TO_THE_STORE_POS_CASH', 'QT_TOT_SK_DPD_DEF_U3M_RETURNED_TO_THE_STORE_POS_CASH', 'QT_MED_SK_DPD_DEF_U3M_RETURNED_TO_THE_STORE_POS_CASH', 'QT_TOT_SK_DPD_DEF_U6M_RETURNED_TO_THE_STORE_POS_CASH', 'QT_MED_SK_DPD_DEF_U6M_RETURNED_TO_THE_STORE_POS_CASH', 'QT_TOT_SK_DPD_DEF_U12M_RETURNED_TO_THE_STORE_POS_CASH', 'QT_MED_SK_DPD_DEF_U12M_RETURNED_TO_THE_STORE_POS_CASH', 'VL_MED_CNT_INSTALMENT_U3M_ACTIVE_POS_CASH', 'VL_MED_CNT_INSTALMENT_U6M_ACTIVE_POS_CASH', 'VL_MED_CNT_INSTALMENT_U12M_ACTIVE_POS_CASH', 'VL_MED_CNT_INSTALMENT_FUTURE_U3M_ACTIVE_POS_CASH', 'VL_MED_CNT_INSTALMENT_FUTURE_U6M_ACTIVE_POS_CASH', 'VL_MED_CNT_INSTALMENT_FUTURE_U12M_ACTIVE_POS_CASH', 'QT_TOT_SK_DPD_U3M_ACTIVE_POS_CASH', 'QT_MED_SK_DPD_U3M_ACTIVE_POS_CASH', 'QT_TOT_SK_DPD_U6M_ACTIVE_POS_CASH', 'QT_MED_SK_DPD_U6M_ACTIVE_POS_CASH', 'QT_TOT_SK_DPD_U12M_ACTIVE_POS_CASH', 'QT_MED_SK_DPD_U12M_ACTIVE_POS_CASH', 'QT_TOT_SK_DPD_DEF_U3M_ACTIVE_POS_CASH', 'QT_MED_SK_DPD_DEF_U3M_ACTIVE_POS_CASH', 'QT_TOT_SK_DPD_DEF_U6M_ACTIVE_POS_CASH', 'QT_MED_SK_DPD_DEF_U6M_ACTIVE_POS_CASH', 'QT_TOT_SK_DPD_DEF_U12M_ACTIVE_POS_CASH', 'QT_MED_SK_DPD_DEF_U12M_ACTIVE_POS_CASH', 'VL_MED_CNT_INSTALMENT_U3M_SIGNED_POS_CASH', 'VL_MED_CNT_INSTALMENT_U6M_SIGNED_POS_CASH', 'VL_MED_CNT_INSTALMENT_U12M_SIGNED_POS_CASH', 'VL_MED_CNT_INSTALMENT_FUTURE_U3M_SIGNED_POS_CASH', 'VL_MED_CNT_INSTALMENT_FUTURE_U6M_SIGNED_POS_CASH', 'VL_MED_CNT_INSTALMENT_FUTURE_U12M_SIGNED_POS_CASH', 'QT_TOT_SK_DPD_U3M_SIGNED_POS_CASH', 'QT_MED_SK_DPD_U3M_SIGNED_POS_CASH', 'QT_TOT_SK_DPD_U6M_SIGNED_POS_CASH', 'QT_MED_SK_DPD_U6M_SIGNED_POS_CASH', 'QT_TOT_SK_DPD_U12M_SIGNED_POS_CASH', 'QT_MED_SK_DPD_U12M_SIGNED_POS_CASH', 'QT_TOT_SK_DPD_DEF_U3M_SIGNED_POS_CASH', 'QT_MED_SK_DPD_DEF_U3M_SIGNED_POS_CASH', 'QT_TOT_SK_DPD_DEF_U6M_SIGNED_POS_CASH', 'QT_MED_SK_DPD_DEF_U6M_SIGNED_POS_CASH', 'QT_TOT_SK_DPD_DEF_U12M_SIGNED_POS_CASH', 'QT_MED_SK_DPD_DEF_U12M_SIGNED_POS_CASH', 'VL_MED_CNT_INSTALMENT_U3M_CANCELED_POS_CASH', 'VL_MED_CNT_INSTALMENT_U6M_CANCELED_POS_CASH', 'VL_MED_CNT_INSTALMENT_U12M_CANCELED_POS_CASH', 'VL_MED_CNT_INSTALMENT_FUTURE_U3M_CANCELED_POS_CASH', 'VL_MED_CNT_INSTALMENT_FUTURE_U6M_CANCELED_POS_CASH', 'VL_MED_CNT_INSTALMENT_FUTURE_U12M_CANCELED_POS_CASH', 'QT_TOT_SK_DPD_U3M_CANCELED_POS_CASH', 'QT_MED_SK_DPD_U3M_CANCELED_POS_CASH', 'QT_TOT_SK_DPD_U6M_CANCELED_POS_CASH', 'QT_MED_SK_DPD_U6M_CANCELED_POS_CASH', 'QT_TOT_SK_DPD_U12M_CANCELED_POS_CASH', 'QT_MED_SK_DPD_U12M_CANCELED_POS_CASH', 'QT_TOT_SK_DPD_DEF_U3M_CANCELED_POS_CASH', 'QT_MED_SK_DPD_DEF_U3M_CANCELED_POS_CASH', 'QT_TOT_SK_DPD_DEF_U6M_CANCELED_POS_CASH', 'QT_MED_SK_DPD_DEF_U6M_CANCELED_POS_CASH', 'QT_TOT_SK_DPD_DEF_U12M_CANCELED_POS_CASH', 'QT_MED_SK_DPD_DEF_U12M_CANCELED_POS_CASH', 'VL_MED_CNT_INSTALMENT_U3M_XNA_POS_CASH', 'VL_MED_CNT_INSTALMENT_U6M_XNA_POS_CASH', 'VL_MED_CNT_INSTALMENT_U12M_XNA_POS_CASH', 'VL_MED_CNT_INSTALMENT_FUTURE_U3M_XNA_POS_CASH', 'VL_MED_CNT_INSTALMENT_FUTURE_U6M_XNA_POS_CASH', 'VL_MED_CNT_INSTALMENT_FUTURE_U12M_XNA_POS_CASH', 'QT_TOT_SK_DPD_U3M_XNA_POS_CASH', 'QT_MED_SK_DPD_U3M_XNA_POS_CASH', 'QT_TOT_SK_DPD_U6M_XNA_POS_CASH', 'QT_MED_SK_DPD_U6M_XNA_POS_CASH', 'QT_TOT_SK_DPD_U12M_XNA_POS_CASH', 'QT_MED_SK_DPD_U12M_XNA_POS_CASH', 'QT_TOT_SK_DPD_DEF_U3M_XNA_POS_CASH', 'QT_MED_SK_DPD_DEF_U3M_XNA_POS_CASH', 'QT_TOT_SK_DPD_DEF_U6M_XNA_POS_CASH', 'QT_MED_SK_DPD_DEF_U6M_XNA_POS_CASH', 'QT_TOT_SK_DPD_DEF_U12M_XNA_POS_CASH', 'QT_MED_SK_DPD_DEF_U12M_XNA_POS_CASH', 'VL_MED_CNT_INSTALMENT_U3M_AMORTIZED_DEBT_POS_CASH', 'VL_MED_CNT_INSTALMENT_U6M_AMORTIZED_DEBT_POS_CASH', 'VL_MED_CNT_INSTALMENT_U12M_AMORTIZED_DEBT_POS_CASH', 'VL_MED_CNT_INSTALMENT_FUTURE_U3M_AMORTIZED_DEBT_POS_CASH', 'VL_MED_CNT_INSTALMENT_FUTURE_U6M_AMORTIZED_DEBT_POS_CASH', 'VL_MED_CNT_INSTALMENT_FUTURE_U12M_AMORTIZED_DEBT_POS_CASH', 'QT_TOT_SK_DPD_U3M_AMORTIZED_DEBT_POS_CASH', 'QT_MED_SK_DPD_U3M_AMORTIZED_DEBT_POS_CASH', 'QT_TOT_SK_DPD_U6M_AMORTIZED_DEBT_POS_CASH', 'QT_MED_SK_DPD_U6M_AMORTIZED_DEBT_POS_CASH', 'QT_TOT_SK_DPD_U12M_AMORTIZED_DEBT_POS_CASH', 'QT_MED_SK_DPD_U12M_AMORTIZED_DEBT_POS_CASH', 'QT_TOT_SK_DPD_DEF_U3M_AMORTIZED_DEBT_POS_CASH', 'QT_MED_SK_DPD_DEF_U3M_AMORTIZED_DEBT_POS_CASH', 'QT_TOT_SK_DPD_DEF_U6M_AMORTIZED_DEBT_POS_CASH', 'QT_MED_SK_DPD_DEF_U6M_AMORTIZED_DEBT_POS_CASH', 'QT_TOT_SK_DPD_DEF_U12M_AMORTIZED_DEBT_POS_CASH', 'QT_MED_SK_DPD_DEF_U12M_AMORTIZED_DEBT_POS_CASH']\n",
      "\n",
      "\n"
     ]
    },
    {
     "name": "stderr",
     "output_type": "stream",
     "text": [
      "[Stage 15:===========================================>              (6 + 2) / 8]"
     ]
    },
    {
     "name": "stdout",
     "output_type": "stream",
     "text": [
      "Quantidade de linhas do DataFrame: 936325\n",
      "Quantidade de colunas do DataFrame: 163\n",
      "\n",
      "\n"
     ]
    },
    {
     "name": "stderr",
     "output_type": "stream",
     "text": [
      "                                                                                "
     ]
    },
    {
     "data": {
      "text/plain": [
       "DataFrame[SK_ID_PREV: int, VL_MED_CNT_INSTALMENT_U3M_DEMAND_POS_CASH: double, VL_MED_CNT_INSTALMENT_U6M_DEMAND_POS_CASH: double, VL_MED_CNT_INSTALMENT_U12M_DEMAND_POS_CASH: double, VL_MED_CNT_INSTALMENT_FUTURE_U3M_DEMAND_POS_CASH: double, VL_MED_CNT_INSTALMENT_FUTURE_U6M_DEMAND_POS_CASH: double, VL_MED_CNT_INSTALMENT_FUTURE_U12M_DEMAND_POS_CASH: double, QT_TOT_SK_DPD_U3M_DEMAND_POS_CASH: bigint, QT_MED_SK_DPD_U3M_DEMAND_POS_CASH: double, QT_TOT_SK_DPD_U6M_DEMAND_POS_CASH: bigint, QT_MED_SK_DPD_U6M_DEMAND_POS_CASH: double, QT_TOT_SK_DPD_U12M_DEMAND_POS_CASH: bigint, QT_MED_SK_DPD_U12M_DEMAND_POS_CASH: double, QT_TOT_SK_DPD_DEF_U3M_DEMAND_POS_CASH: bigint, QT_MED_SK_DPD_DEF_U3M_DEMAND_POS_CASH: double, QT_TOT_SK_DPD_DEF_U6M_DEMAND_POS_CASH: bigint, QT_MED_SK_DPD_DEF_U6M_DEMAND_POS_CASH: double, QT_TOT_SK_DPD_DEF_U12M_DEMAND_POS_CASH: bigint, QT_MED_SK_DPD_DEF_U12M_DEMAND_POS_CASH: double, VL_MED_CNT_INSTALMENT_U3M_APPROVED_POS_CASH: double, VL_MED_CNT_INSTALMENT_U6M_APPROVED_POS_CASH: double, VL_MED_CNT_INSTALMENT_U12M_APPROVED_POS_CASH: double, VL_MED_CNT_INSTALMENT_FUTURE_U3M_APPROVED_POS_CASH: double, VL_MED_CNT_INSTALMENT_FUTURE_U6M_APPROVED_POS_CASH: double, VL_MED_CNT_INSTALMENT_FUTURE_U12M_APPROVED_POS_CASH: double, QT_TOT_SK_DPD_U3M_APPROVED_POS_CASH: bigint, QT_MED_SK_DPD_U3M_APPROVED_POS_CASH: double, QT_TOT_SK_DPD_U6M_APPROVED_POS_CASH: bigint, QT_MED_SK_DPD_U6M_APPROVED_POS_CASH: double, QT_TOT_SK_DPD_U12M_APPROVED_POS_CASH: bigint, QT_MED_SK_DPD_U12M_APPROVED_POS_CASH: double, QT_TOT_SK_DPD_DEF_U3M_APPROVED_POS_CASH: bigint, QT_MED_SK_DPD_DEF_U3M_APPROVED_POS_CASH: double, QT_TOT_SK_DPD_DEF_U6M_APPROVED_POS_CASH: bigint, QT_MED_SK_DPD_DEF_U6M_APPROVED_POS_CASH: double, QT_TOT_SK_DPD_DEF_U12M_APPROVED_POS_CASH: bigint, QT_MED_SK_DPD_DEF_U12M_APPROVED_POS_CASH: double, VL_MED_CNT_INSTALMENT_U3M_COMPLETED_POS_CASH: double, VL_MED_CNT_INSTALMENT_U6M_COMPLETED_POS_CASH: double, VL_MED_CNT_INSTALMENT_U12M_COMPLETED_POS_CASH: double, VL_MED_CNT_INSTALMENT_FUTURE_U3M_COMPLETED_POS_CASH: double, VL_MED_CNT_INSTALMENT_FUTURE_U6M_COMPLETED_POS_CASH: double, VL_MED_CNT_INSTALMENT_FUTURE_U12M_COMPLETED_POS_CASH: double, QT_TOT_SK_DPD_U3M_COMPLETED_POS_CASH: bigint, QT_MED_SK_DPD_U3M_COMPLETED_POS_CASH: double, QT_TOT_SK_DPD_U6M_COMPLETED_POS_CASH: bigint, QT_MED_SK_DPD_U6M_COMPLETED_POS_CASH: double, QT_TOT_SK_DPD_U12M_COMPLETED_POS_CASH: bigint, QT_MED_SK_DPD_U12M_COMPLETED_POS_CASH: double, QT_TOT_SK_DPD_DEF_U3M_COMPLETED_POS_CASH: bigint, QT_MED_SK_DPD_DEF_U3M_COMPLETED_POS_CASH: double, QT_TOT_SK_DPD_DEF_U6M_COMPLETED_POS_CASH: bigint, QT_MED_SK_DPD_DEF_U6M_COMPLETED_POS_CASH: double, QT_TOT_SK_DPD_DEF_U12M_COMPLETED_POS_CASH: bigint, QT_MED_SK_DPD_DEF_U12M_COMPLETED_POS_CASH: double, VL_MED_CNT_INSTALMENT_U3M_RETURNED_TO_THE_STORE_POS_CASH: double, VL_MED_CNT_INSTALMENT_U6M_RETURNED_TO_THE_STORE_POS_CASH: double, VL_MED_CNT_INSTALMENT_U12M_RETURNED_TO_THE_STORE_POS_CASH: double, VL_MED_CNT_INSTALMENT_FUTURE_U3M_RETURNED_TO_THE_STORE_POS_CASH: double, VL_MED_CNT_INSTALMENT_FUTURE_U6M_RETURNED_TO_THE_STORE_POS_CASH: double, VL_MED_CNT_INSTALMENT_FUTURE_U12M_RETURNED_TO_THE_STORE_POS_CASH: double, QT_TOT_SK_DPD_U3M_RETURNED_TO_THE_STORE_POS_CASH: bigint, QT_MED_SK_DPD_U3M_RETURNED_TO_THE_STORE_POS_CASH: double, QT_TOT_SK_DPD_U6M_RETURNED_TO_THE_STORE_POS_CASH: bigint, QT_MED_SK_DPD_U6M_RETURNED_TO_THE_STORE_POS_CASH: double, QT_TOT_SK_DPD_U12M_RETURNED_TO_THE_STORE_POS_CASH: bigint, QT_MED_SK_DPD_U12M_RETURNED_TO_THE_STORE_POS_CASH: double, QT_TOT_SK_DPD_DEF_U3M_RETURNED_TO_THE_STORE_POS_CASH: bigint, QT_MED_SK_DPD_DEF_U3M_RETURNED_TO_THE_STORE_POS_CASH: double, QT_TOT_SK_DPD_DEF_U6M_RETURNED_TO_THE_STORE_POS_CASH: bigint, QT_MED_SK_DPD_DEF_U6M_RETURNED_TO_THE_STORE_POS_CASH: double, QT_TOT_SK_DPD_DEF_U12M_RETURNED_TO_THE_STORE_POS_CASH: bigint, QT_MED_SK_DPD_DEF_U12M_RETURNED_TO_THE_STORE_POS_CASH: double, VL_MED_CNT_INSTALMENT_U3M_ACTIVE_POS_CASH: double, VL_MED_CNT_INSTALMENT_U6M_ACTIVE_POS_CASH: double, VL_MED_CNT_INSTALMENT_U12M_ACTIVE_POS_CASH: double, VL_MED_CNT_INSTALMENT_FUTURE_U3M_ACTIVE_POS_CASH: double, VL_MED_CNT_INSTALMENT_FUTURE_U6M_ACTIVE_POS_CASH: double, VL_MED_CNT_INSTALMENT_FUTURE_U12M_ACTIVE_POS_CASH: double, QT_TOT_SK_DPD_U3M_ACTIVE_POS_CASH: bigint, QT_MED_SK_DPD_U3M_ACTIVE_POS_CASH: double, QT_TOT_SK_DPD_U6M_ACTIVE_POS_CASH: bigint, QT_MED_SK_DPD_U6M_ACTIVE_POS_CASH: double, QT_TOT_SK_DPD_U12M_ACTIVE_POS_CASH: bigint, QT_MED_SK_DPD_U12M_ACTIVE_POS_CASH: double, QT_TOT_SK_DPD_DEF_U3M_ACTIVE_POS_CASH: bigint, QT_MED_SK_DPD_DEF_U3M_ACTIVE_POS_CASH: double, QT_TOT_SK_DPD_DEF_U6M_ACTIVE_POS_CASH: bigint, QT_MED_SK_DPD_DEF_U6M_ACTIVE_POS_CASH: double, QT_TOT_SK_DPD_DEF_U12M_ACTIVE_POS_CASH: bigint, QT_MED_SK_DPD_DEF_U12M_ACTIVE_POS_CASH: double, VL_MED_CNT_INSTALMENT_U3M_SIGNED_POS_CASH: double, VL_MED_CNT_INSTALMENT_U6M_SIGNED_POS_CASH: double, VL_MED_CNT_INSTALMENT_U12M_SIGNED_POS_CASH: double, VL_MED_CNT_INSTALMENT_FUTURE_U3M_SIGNED_POS_CASH: double, VL_MED_CNT_INSTALMENT_FUTURE_U6M_SIGNED_POS_CASH: double, VL_MED_CNT_INSTALMENT_FUTURE_U12M_SIGNED_POS_CASH: double, QT_TOT_SK_DPD_U3M_SIGNED_POS_CASH: bigint, QT_MED_SK_DPD_U3M_SIGNED_POS_CASH: double, QT_TOT_SK_DPD_U6M_SIGNED_POS_CASH: bigint, QT_MED_SK_DPD_U6M_SIGNED_POS_CASH: double, QT_TOT_SK_DPD_U12M_SIGNED_POS_CASH: bigint, QT_MED_SK_DPD_U12M_SIGNED_POS_CASH: double, QT_TOT_SK_DPD_DEF_U3M_SIGNED_POS_CASH: bigint, QT_MED_SK_DPD_DEF_U3M_SIGNED_POS_CASH: double, QT_TOT_SK_DPD_DEF_U6M_SIGNED_POS_CASH: bigint, QT_MED_SK_DPD_DEF_U6M_SIGNED_POS_CASH: double, QT_TOT_SK_DPD_DEF_U12M_SIGNED_POS_CASH: bigint, QT_MED_SK_DPD_DEF_U12M_SIGNED_POS_CASH: double, VL_MED_CNT_INSTALMENT_U3M_CANCELED_POS_CASH: double, VL_MED_CNT_INSTALMENT_U6M_CANCELED_POS_CASH: double, VL_MED_CNT_INSTALMENT_U12M_CANCELED_POS_CASH: double, VL_MED_CNT_INSTALMENT_FUTURE_U3M_CANCELED_POS_CASH: double, VL_MED_CNT_INSTALMENT_FUTURE_U6M_CANCELED_POS_CASH: double, VL_MED_CNT_INSTALMENT_FUTURE_U12M_CANCELED_POS_CASH: double, QT_TOT_SK_DPD_U3M_CANCELED_POS_CASH: bigint, QT_MED_SK_DPD_U3M_CANCELED_POS_CASH: double, QT_TOT_SK_DPD_U6M_CANCELED_POS_CASH: bigint, QT_MED_SK_DPD_U6M_CANCELED_POS_CASH: double, QT_TOT_SK_DPD_U12M_CANCELED_POS_CASH: bigint, QT_MED_SK_DPD_U12M_CANCELED_POS_CASH: double, QT_TOT_SK_DPD_DEF_U3M_CANCELED_POS_CASH: bigint, QT_MED_SK_DPD_DEF_U3M_CANCELED_POS_CASH: double, QT_TOT_SK_DPD_DEF_U6M_CANCELED_POS_CASH: bigint, QT_MED_SK_DPD_DEF_U6M_CANCELED_POS_CASH: double, QT_TOT_SK_DPD_DEF_U12M_CANCELED_POS_CASH: bigint, QT_MED_SK_DPD_DEF_U12M_CANCELED_POS_CASH: double, VL_MED_CNT_INSTALMENT_U3M_XNA_POS_CASH: double, VL_MED_CNT_INSTALMENT_U6M_XNA_POS_CASH: double, VL_MED_CNT_INSTALMENT_U12M_XNA_POS_CASH: double, VL_MED_CNT_INSTALMENT_FUTURE_U3M_XNA_POS_CASH: double, VL_MED_CNT_INSTALMENT_FUTURE_U6M_XNA_POS_CASH: double, VL_MED_CNT_INSTALMENT_FUTURE_U12M_XNA_POS_CASH: double, QT_TOT_SK_DPD_U3M_XNA_POS_CASH: bigint, QT_MED_SK_DPD_U3M_XNA_POS_CASH: double, QT_TOT_SK_DPD_U6M_XNA_POS_CASH: bigint, QT_MED_SK_DPD_U6M_XNA_POS_CASH: double, QT_TOT_SK_DPD_U12M_XNA_POS_CASH: bigint, QT_MED_SK_DPD_U12M_XNA_POS_CASH: double, QT_TOT_SK_DPD_DEF_U3M_XNA_POS_CASH: bigint, QT_MED_SK_DPD_DEF_U3M_XNA_POS_CASH: double, QT_TOT_SK_DPD_DEF_U6M_XNA_POS_CASH: bigint, QT_MED_SK_DPD_DEF_U6M_XNA_POS_CASH: double, QT_TOT_SK_DPD_DEF_U12M_XNA_POS_CASH: bigint, QT_MED_SK_DPD_DEF_U12M_XNA_POS_CASH: double, VL_MED_CNT_INSTALMENT_U3M_AMORTIZED_DEBT_POS_CASH: double, VL_MED_CNT_INSTALMENT_U6M_AMORTIZED_DEBT_POS_CASH: double, VL_MED_CNT_INSTALMENT_U12M_AMORTIZED_DEBT_POS_CASH: double, VL_MED_CNT_INSTALMENT_FUTURE_U3M_AMORTIZED_DEBT_POS_CASH: double, VL_MED_CNT_INSTALMENT_FUTURE_U6M_AMORTIZED_DEBT_POS_CASH: double, VL_MED_CNT_INSTALMENT_FUTURE_U12M_AMORTIZED_DEBT_POS_CASH: double, QT_TOT_SK_DPD_U3M_AMORTIZED_DEBT_POS_CASH: bigint, QT_MED_SK_DPD_U3M_AMORTIZED_DEBT_POS_CASH: double, QT_TOT_SK_DPD_U6M_AMORTIZED_DEBT_POS_CASH: bigint, QT_MED_SK_DPD_U6M_AMORTIZED_DEBT_POS_CASH: double, QT_TOT_SK_DPD_U12M_AMORTIZED_DEBT_POS_CASH: bigint, QT_MED_SK_DPD_U12M_AMORTIZED_DEBT_POS_CASH: double, QT_TOT_SK_DPD_DEF_U3M_AMORTIZED_DEBT_POS_CASH: bigint, QT_MED_SK_DPD_DEF_U3M_AMORTIZED_DEBT_POS_CASH: double, QT_TOT_SK_DPD_DEF_U6M_AMORTIZED_DEBT_POS_CASH: bigint, QT_MED_SK_DPD_DEF_U6M_AMORTIZED_DEBT_POS_CASH: double, QT_TOT_SK_DPD_DEF_U12M_AMORTIZED_DEBT_POS_CASH: bigint, QT_MED_SK_DPD_DEF_U12M_AMORTIZED_DEBT_POS_CASH: double]"
      ]
     },
     "metadata": {},
     "output_type": "display_data"
    }
   ],
   "source": [
    "# Definindo as colunas para agregação.\n",
    "colunas_agregacao_total = df_temp_01.columns\n",
    "colunas_agregacao_total.remove('SK_ID_CURR')\n",
    "colunas_agregacao_total.remove('SK_ID_PREV')\n",
    "colunas_agregacao_total.remove('MONTHS_BALANCE')\n",
    "colunas_agregacao_total.remove('NAME_CONTRACT_STATUS')\n",
    "\n",
    "# Defindo a lista de colunas de flags.\n",
    "colunas_flags = ['U3M', 'U6M','U12M']\n",
    "\n",
    "# Criando uma lista vazia.\n",
    "expressoes_agregacao = []\n",
    "\n",
    "# Iterando sobre as colunas e criando as variáveis explicativas com as agregações.\n",
    "for categoria in nova_lista:\n",
    "  for coluna in colunas_agregacao_total:\n",
    "    # Verifica se a coluna atual não é uma coluna de flag.\n",
    "    if not any(flag in coluna for flag in colunas_flags):\n",
    "      for flag in colunas_flags:\n",
    "        if 'DPD' in coluna:\n",
    "          expressoes_agregacao.append(round(sum(when(col(flag) == 1, col(coluna))), 2).alias(f'QT_TOT_{coluna.upper()}_{flag.upper()}_{categoria}_POS_CASH'))\n",
    "          expressoes_agregacao.append(round(avg(when(col(flag) == 1, col(coluna))), 2).alias(f'QT_MED_{coluna.upper()}_{flag.upper()}_{categoria}_POS_CASH'))\n",
    "        else:\n",
    "          expressoes_agregacao.append(round(avg(when(col(flag) == 1, col(coluna))), 2).alias(f'VL_MED_{coluna.upper()}_{flag.upper()}_{categoria}_POS_CASH'))  \n",
    "\n",
    "# Criando uma tupla com as variáveis criadas.\n",
    "expressoes_agregacao = tuple(expressoes_agregacao)\n",
    "\n",
    "# Aplicando as expressões de agregação.\n",
    "df_temp_03 = df_temp_01.groupBy('SK_ID_PREV').agg(*expressoes_agregacao).orderBy('SK_ID_PREV')\n",
    "\n",
    "\n",
    "# Quantidade e nome das variáveis criadas.\n",
    "nomes_cols = df_temp_03.columns\n",
    "nomes_cols_novas = nomes_cols[1:]\n",
    "print('Quantidade Total de Variáveis Criadas:', len(df_temp_03.columns) - 1)\n",
    "print('Nomes das Variáveis Criadas:', nomes_cols_novas)\n",
    "print('')\n",
    "print('')\n",
    "\n",
    "# Quantidade de linhas do DataFrame.\n",
    "num_rows_df = df_temp_03.count()\n",
    "\n",
    "# Quantidade de colunas do DataFrame.\n",
    "num_columns_df = len(df_temp_03.columns)\n",
    "\n",
    "# Imprimir o resultado de número de linhas e colunas.\n",
    "print(f'Quantidade de linhas do DataFrame: {num_rows_df}')\n",
    "print(f'Quantidade de colunas do DataFrame: {num_columns_df}')\n",
    "print('')\n",
    "print('')\n",
    "\n",
    "\n",
    "# Mostrando o novo DataFrame com as variáveis criadas.\n",
    "display(df_temp_03.limit(5))"
   ]
  },
  {
   "cell_type": "markdown",
   "id": "714fbc8a-9c46-4ad2-9ee7-087c869befb9",
   "metadata": {},
   "source": [
    "## Realizando o join das tabelas criadas"
   ]
  },
  {
   "cell_type": "code",
   "execution_count": 8,
   "id": "7ac0194f-41a6-4c69-925a-7dbe03ccefc6",
   "metadata": {},
   "outputs": [
    {
     "name": "stdout",
     "output_type": "stream",
     "text": [
      "Quantidade Total de Variáveis Criadas: 178\n",
      "Nomes das Variáveis Criadas: ['VL_MED_CNT_INSTALMENT_U3M_POS_CASH', 'VL_MED_CNT_INSTALMENT_U6M_POS_CASH', 'VL_MED_CNT_INSTALMENT_U12M_POS_CASH', 'VL_MED_CNT_INSTALMENT_FUTURE_U3M_POS_CASH', 'VL_MED_CNT_INSTALMENT_FUTURE_U6M_POS_CASH', 'VL_MED_CNT_INSTALMENT_FUTURE_U12M_POS_CASH', 'QT_TOT_SK_DPD_U3M_POS_CASH', 'QT_MED_SK_DPD_U3M_POS_CASH', 'QT_TOT_SK_DPD_U6M_POS_CASH', 'QT_MED_SK_DPD_U6M_POS_CASH', 'QT_TOT_SK_DPD_U12M_POS_CASH', 'QT_MED_SK_DPD_U12M_POS_CASH', 'QT_TOT_SK_DPD_DEF_U3M_POS_CASH', 'QT_MED_SK_DPD_DEF_U3M_POS_CASH', 'QT_TOT_SK_DPD_DEF_U6M_POS_CASH', 'QT_MED_SK_DPD_DEF_U6M_POS_CASH', 'QT_TOT_SK_DPD_DEF_U12M_POS_CASH', 'QT_MED_SK_DPD_DEF_U12M_POS_CASH', 'VL_MED_CNT_INSTALMENT_U3M_DEMAND_POS_CASH', 'VL_MED_CNT_INSTALMENT_U6M_DEMAND_POS_CASH', 'VL_MED_CNT_INSTALMENT_U12M_DEMAND_POS_CASH', 'VL_MED_CNT_INSTALMENT_FUTURE_U3M_DEMAND_POS_CASH', 'VL_MED_CNT_INSTALMENT_FUTURE_U6M_DEMAND_POS_CASH', 'VL_MED_CNT_INSTALMENT_FUTURE_U12M_DEMAND_POS_CASH', 'QT_TOT_SK_DPD_U3M_DEMAND_POS_CASH', 'QT_MED_SK_DPD_U3M_DEMAND_POS_CASH', 'QT_TOT_SK_DPD_U6M_DEMAND_POS_CASH', 'QT_MED_SK_DPD_U6M_DEMAND_POS_CASH', 'QT_TOT_SK_DPD_U12M_DEMAND_POS_CASH', 'QT_MED_SK_DPD_U12M_DEMAND_POS_CASH', 'QT_TOT_SK_DPD_DEF_U3M_DEMAND_POS_CASH', 'QT_MED_SK_DPD_DEF_U3M_DEMAND_POS_CASH', 'QT_TOT_SK_DPD_DEF_U6M_DEMAND_POS_CASH', 'QT_MED_SK_DPD_DEF_U6M_DEMAND_POS_CASH', 'QT_TOT_SK_DPD_DEF_U12M_DEMAND_POS_CASH', 'QT_MED_SK_DPD_DEF_U12M_DEMAND_POS_CASH', 'VL_MED_CNT_INSTALMENT_U3M_APPROVED_POS_CASH', 'VL_MED_CNT_INSTALMENT_U6M_APPROVED_POS_CASH', 'VL_MED_CNT_INSTALMENT_U12M_APPROVED_POS_CASH', 'VL_MED_CNT_INSTALMENT_FUTURE_U3M_APPROVED_POS_CASH', 'VL_MED_CNT_INSTALMENT_FUTURE_U6M_APPROVED_POS_CASH', 'VL_MED_CNT_INSTALMENT_FUTURE_U12M_APPROVED_POS_CASH', 'QT_TOT_SK_DPD_U3M_APPROVED_POS_CASH', 'QT_MED_SK_DPD_U3M_APPROVED_POS_CASH', 'QT_TOT_SK_DPD_U6M_APPROVED_POS_CASH', 'QT_MED_SK_DPD_U6M_APPROVED_POS_CASH', 'QT_TOT_SK_DPD_U12M_APPROVED_POS_CASH', 'QT_MED_SK_DPD_U12M_APPROVED_POS_CASH', 'QT_TOT_SK_DPD_DEF_U3M_APPROVED_POS_CASH', 'QT_MED_SK_DPD_DEF_U3M_APPROVED_POS_CASH', 'QT_TOT_SK_DPD_DEF_U6M_APPROVED_POS_CASH', 'QT_MED_SK_DPD_DEF_U6M_APPROVED_POS_CASH', 'QT_TOT_SK_DPD_DEF_U12M_APPROVED_POS_CASH', 'QT_MED_SK_DPD_DEF_U12M_APPROVED_POS_CASH', 'VL_MED_CNT_INSTALMENT_U3M_COMPLETED_POS_CASH', 'VL_MED_CNT_INSTALMENT_U6M_COMPLETED_POS_CASH', 'VL_MED_CNT_INSTALMENT_U12M_COMPLETED_POS_CASH', 'VL_MED_CNT_INSTALMENT_FUTURE_U3M_COMPLETED_POS_CASH', 'VL_MED_CNT_INSTALMENT_FUTURE_U6M_COMPLETED_POS_CASH', 'VL_MED_CNT_INSTALMENT_FUTURE_U12M_COMPLETED_POS_CASH', 'QT_TOT_SK_DPD_U3M_COMPLETED_POS_CASH', 'QT_MED_SK_DPD_U3M_COMPLETED_POS_CASH', 'QT_TOT_SK_DPD_U6M_COMPLETED_POS_CASH', 'QT_MED_SK_DPD_U6M_COMPLETED_POS_CASH', 'QT_TOT_SK_DPD_U12M_COMPLETED_POS_CASH', 'QT_MED_SK_DPD_U12M_COMPLETED_POS_CASH', 'QT_TOT_SK_DPD_DEF_U3M_COMPLETED_POS_CASH', 'QT_MED_SK_DPD_DEF_U3M_COMPLETED_POS_CASH', 'QT_TOT_SK_DPD_DEF_U6M_COMPLETED_POS_CASH', 'QT_MED_SK_DPD_DEF_U6M_COMPLETED_POS_CASH', 'QT_TOT_SK_DPD_DEF_U12M_COMPLETED_POS_CASH', 'QT_MED_SK_DPD_DEF_U12M_COMPLETED_POS_CASH', 'VL_MED_CNT_INSTALMENT_U3M_RETURNED_TO_THE_STORE_POS_CASH', 'VL_MED_CNT_INSTALMENT_U6M_RETURNED_TO_THE_STORE_POS_CASH', 'VL_MED_CNT_INSTALMENT_U12M_RETURNED_TO_THE_STORE_POS_CASH', 'VL_MED_CNT_INSTALMENT_FUTURE_U3M_RETURNED_TO_THE_STORE_POS_CASH', 'VL_MED_CNT_INSTALMENT_FUTURE_U6M_RETURNED_TO_THE_STORE_POS_CASH', 'VL_MED_CNT_INSTALMENT_FUTURE_U12M_RETURNED_TO_THE_STORE_POS_CASH', 'QT_TOT_SK_DPD_U3M_RETURNED_TO_THE_STORE_POS_CASH', 'QT_MED_SK_DPD_U3M_RETURNED_TO_THE_STORE_POS_CASH', 'QT_TOT_SK_DPD_U6M_RETURNED_TO_THE_STORE_POS_CASH', 'QT_MED_SK_DPD_U6M_RETURNED_TO_THE_STORE_POS_CASH', 'QT_TOT_SK_DPD_U12M_RETURNED_TO_THE_STORE_POS_CASH', 'QT_MED_SK_DPD_U12M_RETURNED_TO_THE_STORE_POS_CASH', 'QT_TOT_SK_DPD_DEF_U3M_RETURNED_TO_THE_STORE_POS_CASH', 'QT_MED_SK_DPD_DEF_U3M_RETURNED_TO_THE_STORE_POS_CASH', 'QT_TOT_SK_DPD_DEF_U6M_RETURNED_TO_THE_STORE_POS_CASH', 'QT_MED_SK_DPD_DEF_U6M_RETURNED_TO_THE_STORE_POS_CASH', 'QT_TOT_SK_DPD_DEF_U12M_RETURNED_TO_THE_STORE_POS_CASH', 'QT_MED_SK_DPD_DEF_U12M_RETURNED_TO_THE_STORE_POS_CASH', 'VL_MED_CNT_INSTALMENT_U3M_ACTIVE_POS_CASH', 'VL_MED_CNT_INSTALMENT_U6M_ACTIVE_POS_CASH', 'VL_MED_CNT_INSTALMENT_U12M_ACTIVE_POS_CASH', 'VL_MED_CNT_INSTALMENT_FUTURE_U3M_ACTIVE_POS_CASH', 'VL_MED_CNT_INSTALMENT_FUTURE_U6M_ACTIVE_POS_CASH', 'VL_MED_CNT_INSTALMENT_FUTURE_U12M_ACTIVE_POS_CASH', 'QT_TOT_SK_DPD_U3M_ACTIVE_POS_CASH', 'QT_MED_SK_DPD_U3M_ACTIVE_POS_CASH', 'QT_TOT_SK_DPD_U6M_ACTIVE_POS_CASH', 'QT_MED_SK_DPD_U6M_ACTIVE_POS_CASH', 'QT_TOT_SK_DPD_U12M_ACTIVE_POS_CASH', 'QT_MED_SK_DPD_U12M_ACTIVE_POS_CASH', 'QT_TOT_SK_DPD_DEF_U3M_ACTIVE_POS_CASH', 'QT_MED_SK_DPD_DEF_U3M_ACTIVE_POS_CASH', 'QT_TOT_SK_DPD_DEF_U6M_ACTIVE_POS_CASH', 'QT_MED_SK_DPD_DEF_U6M_ACTIVE_POS_CASH', 'QT_TOT_SK_DPD_DEF_U12M_ACTIVE_POS_CASH', 'QT_MED_SK_DPD_DEF_U12M_ACTIVE_POS_CASH', 'VL_MED_CNT_INSTALMENT_U3M_SIGNED_POS_CASH', 'VL_MED_CNT_INSTALMENT_U6M_SIGNED_POS_CASH', 'VL_MED_CNT_INSTALMENT_U12M_SIGNED_POS_CASH', 'VL_MED_CNT_INSTALMENT_FUTURE_U3M_SIGNED_POS_CASH', 'VL_MED_CNT_INSTALMENT_FUTURE_U6M_SIGNED_POS_CASH', 'VL_MED_CNT_INSTALMENT_FUTURE_U12M_SIGNED_POS_CASH', 'QT_TOT_SK_DPD_U3M_SIGNED_POS_CASH', 'QT_MED_SK_DPD_U3M_SIGNED_POS_CASH', 'QT_TOT_SK_DPD_U6M_SIGNED_POS_CASH', 'QT_MED_SK_DPD_U6M_SIGNED_POS_CASH', 'QT_TOT_SK_DPD_U12M_SIGNED_POS_CASH', 'QT_MED_SK_DPD_U12M_SIGNED_POS_CASH', 'QT_TOT_SK_DPD_DEF_U3M_SIGNED_POS_CASH', 'QT_MED_SK_DPD_DEF_U3M_SIGNED_POS_CASH', 'QT_TOT_SK_DPD_DEF_U6M_SIGNED_POS_CASH', 'QT_MED_SK_DPD_DEF_U6M_SIGNED_POS_CASH', 'QT_TOT_SK_DPD_DEF_U12M_SIGNED_POS_CASH', 'QT_MED_SK_DPD_DEF_U12M_SIGNED_POS_CASH', 'VL_MED_CNT_INSTALMENT_U3M_CANCELED_POS_CASH', 'VL_MED_CNT_INSTALMENT_U6M_CANCELED_POS_CASH', 'VL_MED_CNT_INSTALMENT_U12M_CANCELED_POS_CASH', 'VL_MED_CNT_INSTALMENT_FUTURE_U3M_CANCELED_POS_CASH', 'VL_MED_CNT_INSTALMENT_FUTURE_U6M_CANCELED_POS_CASH', 'VL_MED_CNT_INSTALMENT_FUTURE_U12M_CANCELED_POS_CASH', 'QT_TOT_SK_DPD_U3M_CANCELED_POS_CASH', 'QT_MED_SK_DPD_U3M_CANCELED_POS_CASH', 'QT_TOT_SK_DPD_U6M_CANCELED_POS_CASH', 'QT_MED_SK_DPD_U6M_CANCELED_POS_CASH', 'QT_TOT_SK_DPD_U12M_CANCELED_POS_CASH', 'QT_MED_SK_DPD_U12M_CANCELED_POS_CASH', 'QT_TOT_SK_DPD_DEF_U3M_CANCELED_POS_CASH', 'QT_MED_SK_DPD_DEF_U3M_CANCELED_POS_CASH', 'QT_TOT_SK_DPD_DEF_U6M_CANCELED_POS_CASH', 'QT_MED_SK_DPD_DEF_U6M_CANCELED_POS_CASH', 'QT_TOT_SK_DPD_DEF_U12M_CANCELED_POS_CASH', 'QT_MED_SK_DPD_DEF_U12M_CANCELED_POS_CASH', 'VL_MED_CNT_INSTALMENT_U3M_XNA_POS_CASH', 'VL_MED_CNT_INSTALMENT_U6M_XNA_POS_CASH', 'VL_MED_CNT_INSTALMENT_U12M_XNA_POS_CASH', 'VL_MED_CNT_INSTALMENT_FUTURE_U3M_XNA_POS_CASH', 'VL_MED_CNT_INSTALMENT_FUTURE_U6M_XNA_POS_CASH', 'VL_MED_CNT_INSTALMENT_FUTURE_U12M_XNA_POS_CASH', 'QT_TOT_SK_DPD_U3M_XNA_POS_CASH', 'QT_MED_SK_DPD_U3M_XNA_POS_CASH', 'QT_TOT_SK_DPD_U6M_XNA_POS_CASH', 'QT_MED_SK_DPD_U6M_XNA_POS_CASH', 'QT_TOT_SK_DPD_U12M_XNA_POS_CASH', 'QT_MED_SK_DPD_U12M_XNA_POS_CASH', 'QT_TOT_SK_DPD_DEF_U3M_XNA_POS_CASH', 'QT_MED_SK_DPD_DEF_U3M_XNA_POS_CASH', 'QT_TOT_SK_DPD_DEF_U6M_XNA_POS_CASH', 'QT_MED_SK_DPD_DEF_U6M_XNA_POS_CASH', 'QT_TOT_SK_DPD_DEF_U12M_XNA_POS_CASH', 'QT_MED_SK_DPD_DEF_U12M_XNA_POS_CASH', 'VL_MED_CNT_INSTALMENT_U3M_AMORTIZED_DEBT_POS_CASH', 'VL_MED_CNT_INSTALMENT_U6M_AMORTIZED_DEBT_POS_CASH', 'VL_MED_CNT_INSTALMENT_U12M_AMORTIZED_DEBT_POS_CASH', 'VL_MED_CNT_INSTALMENT_FUTURE_U3M_AMORTIZED_DEBT_POS_CASH', 'VL_MED_CNT_INSTALMENT_FUTURE_U6M_AMORTIZED_DEBT_POS_CASH', 'VL_MED_CNT_INSTALMENT_FUTURE_U12M_AMORTIZED_DEBT_POS_CASH', 'QT_TOT_SK_DPD_U3M_AMORTIZED_DEBT_POS_CASH', 'QT_MED_SK_DPD_U3M_AMORTIZED_DEBT_POS_CASH', 'QT_TOT_SK_DPD_U6M_AMORTIZED_DEBT_POS_CASH', 'QT_MED_SK_DPD_U6M_AMORTIZED_DEBT_POS_CASH', 'QT_TOT_SK_DPD_U12M_AMORTIZED_DEBT_POS_CASH', 'QT_MED_SK_DPD_U12M_AMORTIZED_DEBT_POS_CASH', 'QT_TOT_SK_DPD_DEF_U3M_AMORTIZED_DEBT_POS_CASH', 'QT_MED_SK_DPD_DEF_U3M_AMORTIZED_DEBT_POS_CASH', 'QT_TOT_SK_DPD_DEF_U6M_AMORTIZED_DEBT_POS_CASH', 'QT_MED_SK_DPD_DEF_U6M_AMORTIZED_DEBT_POS_CASH']\n",
      "\n",
      "\n"
     ]
    },
    {
     "name": "stderr",
     "output_type": "stream",
     "text": [
      "[Stage 23:===========================================>              (6 + 2) / 8]"
     ]
    },
    {
     "name": "stdout",
     "output_type": "stream",
     "text": [
      "Quantidade de linhas do DataFrame: 936325\n",
      "Quantidade de colunas do DataFrame: 181\n",
      "\n",
      "\n"
     ]
    },
    {
     "name": "stderr",
     "output_type": "stream",
     "text": [
      "                                                                                "
     ]
    },
    {
     "data": {
      "text/plain": [
       "DataFrame[SK_ID_PREV: int, VL_MED_CNT_INSTALMENT_U3M_POS_CASH: double, VL_MED_CNT_INSTALMENT_U6M_POS_CASH: double, VL_MED_CNT_INSTALMENT_U12M_POS_CASH: double, VL_MED_CNT_INSTALMENT_FUTURE_U3M_POS_CASH: double, VL_MED_CNT_INSTALMENT_FUTURE_U6M_POS_CASH: double, VL_MED_CNT_INSTALMENT_FUTURE_U12M_POS_CASH: double, QT_TOT_SK_DPD_U3M_POS_CASH: bigint, QT_MED_SK_DPD_U3M_POS_CASH: double, QT_TOT_SK_DPD_U6M_POS_CASH: bigint, QT_MED_SK_DPD_U6M_POS_CASH: double, QT_TOT_SK_DPD_U12M_POS_CASH: bigint, QT_MED_SK_DPD_U12M_POS_CASH: double, QT_TOT_SK_DPD_DEF_U3M_POS_CASH: bigint, QT_MED_SK_DPD_DEF_U3M_POS_CASH: double, QT_TOT_SK_DPD_DEF_U6M_POS_CASH: bigint, QT_MED_SK_DPD_DEF_U6M_POS_CASH: double, QT_TOT_SK_DPD_DEF_U12M_POS_CASH: bigint, QT_MED_SK_DPD_DEF_U12M_POS_CASH: double, VL_MED_CNT_INSTALMENT_U3M_DEMAND_POS_CASH: double, VL_MED_CNT_INSTALMENT_U6M_DEMAND_POS_CASH: double, VL_MED_CNT_INSTALMENT_U12M_DEMAND_POS_CASH: double, VL_MED_CNT_INSTALMENT_FUTURE_U3M_DEMAND_POS_CASH: double, VL_MED_CNT_INSTALMENT_FUTURE_U6M_DEMAND_POS_CASH: double, VL_MED_CNT_INSTALMENT_FUTURE_U12M_DEMAND_POS_CASH: double, QT_TOT_SK_DPD_U3M_DEMAND_POS_CASH: bigint, QT_MED_SK_DPD_U3M_DEMAND_POS_CASH: double, QT_TOT_SK_DPD_U6M_DEMAND_POS_CASH: bigint, QT_MED_SK_DPD_U6M_DEMAND_POS_CASH: double, QT_TOT_SK_DPD_U12M_DEMAND_POS_CASH: bigint, QT_MED_SK_DPD_U12M_DEMAND_POS_CASH: double, QT_TOT_SK_DPD_DEF_U3M_DEMAND_POS_CASH: bigint, QT_MED_SK_DPD_DEF_U3M_DEMAND_POS_CASH: double, QT_TOT_SK_DPD_DEF_U6M_DEMAND_POS_CASH: bigint, QT_MED_SK_DPD_DEF_U6M_DEMAND_POS_CASH: double, QT_TOT_SK_DPD_DEF_U12M_DEMAND_POS_CASH: bigint, QT_MED_SK_DPD_DEF_U12M_DEMAND_POS_CASH: double, VL_MED_CNT_INSTALMENT_U3M_APPROVED_POS_CASH: double, VL_MED_CNT_INSTALMENT_U6M_APPROVED_POS_CASH: double, VL_MED_CNT_INSTALMENT_U12M_APPROVED_POS_CASH: double, VL_MED_CNT_INSTALMENT_FUTURE_U3M_APPROVED_POS_CASH: double, VL_MED_CNT_INSTALMENT_FUTURE_U6M_APPROVED_POS_CASH: double, VL_MED_CNT_INSTALMENT_FUTURE_U12M_APPROVED_POS_CASH: double, QT_TOT_SK_DPD_U3M_APPROVED_POS_CASH: bigint, QT_MED_SK_DPD_U3M_APPROVED_POS_CASH: double, QT_TOT_SK_DPD_U6M_APPROVED_POS_CASH: bigint, QT_MED_SK_DPD_U6M_APPROVED_POS_CASH: double, QT_TOT_SK_DPD_U12M_APPROVED_POS_CASH: bigint, QT_MED_SK_DPD_U12M_APPROVED_POS_CASH: double, QT_TOT_SK_DPD_DEF_U3M_APPROVED_POS_CASH: bigint, QT_MED_SK_DPD_DEF_U3M_APPROVED_POS_CASH: double, QT_TOT_SK_DPD_DEF_U6M_APPROVED_POS_CASH: bigint, QT_MED_SK_DPD_DEF_U6M_APPROVED_POS_CASH: double, QT_TOT_SK_DPD_DEF_U12M_APPROVED_POS_CASH: bigint, QT_MED_SK_DPD_DEF_U12M_APPROVED_POS_CASH: double, VL_MED_CNT_INSTALMENT_U3M_COMPLETED_POS_CASH: double, VL_MED_CNT_INSTALMENT_U6M_COMPLETED_POS_CASH: double, VL_MED_CNT_INSTALMENT_U12M_COMPLETED_POS_CASH: double, VL_MED_CNT_INSTALMENT_FUTURE_U3M_COMPLETED_POS_CASH: double, VL_MED_CNT_INSTALMENT_FUTURE_U6M_COMPLETED_POS_CASH: double, VL_MED_CNT_INSTALMENT_FUTURE_U12M_COMPLETED_POS_CASH: double, QT_TOT_SK_DPD_U3M_COMPLETED_POS_CASH: bigint, QT_MED_SK_DPD_U3M_COMPLETED_POS_CASH: double, QT_TOT_SK_DPD_U6M_COMPLETED_POS_CASH: bigint, QT_MED_SK_DPD_U6M_COMPLETED_POS_CASH: double, QT_TOT_SK_DPD_U12M_COMPLETED_POS_CASH: bigint, QT_MED_SK_DPD_U12M_COMPLETED_POS_CASH: double, QT_TOT_SK_DPD_DEF_U3M_COMPLETED_POS_CASH: bigint, QT_MED_SK_DPD_DEF_U3M_COMPLETED_POS_CASH: double, QT_TOT_SK_DPD_DEF_U6M_COMPLETED_POS_CASH: bigint, QT_MED_SK_DPD_DEF_U6M_COMPLETED_POS_CASH: double, QT_TOT_SK_DPD_DEF_U12M_COMPLETED_POS_CASH: bigint, QT_MED_SK_DPD_DEF_U12M_COMPLETED_POS_CASH: double, VL_MED_CNT_INSTALMENT_U3M_RETURNED_TO_THE_STORE_POS_CASH: double, VL_MED_CNT_INSTALMENT_U6M_RETURNED_TO_THE_STORE_POS_CASH: double, VL_MED_CNT_INSTALMENT_U12M_RETURNED_TO_THE_STORE_POS_CASH: double, VL_MED_CNT_INSTALMENT_FUTURE_U3M_RETURNED_TO_THE_STORE_POS_CASH: double, VL_MED_CNT_INSTALMENT_FUTURE_U6M_RETURNED_TO_THE_STORE_POS_CASH: double, VL_MED_CNT_INSTALMENT_FUTURE_U12M_RETURNED_TO_THE_STORE_POS_CASH: double, QT_TOT_SK_DPD_U3M_RETURNED_TO_THE_STORE_POS_CASH: bigint, QT_MED_SK_DPD_U3M_RETURNED_TO_THE_STORE_POS_CASH: double, QT_TOT_SK_DPD_U6M_RETURNED_TO_THE_STORE_POS_CASH: bigint, QT_MED_SK_DPD_U6M_RETURNED_TO_THE_STORE_POS_CASH: double, QT_TOT_SK_DPD_U12M_RETURNED_TO_THE_STORE_POS_CASH: bigint, QT_MED_SK_DPD_U12M_RETURNED_TO_THE_STORE_POS_CASH: double, QT_TOT_SK_DPD_DEF_U3M_RETURNED_TO_THE_STORE_POS_CASH: bigint, QT_MED_SK_DPD_DEF_U3M_RETURNED_TO_THE_STORE_POS_CASH: double, QT_TOT_SK_DPD_DEF_U6M_RETURNED_TO_THE_STORE_POS_CASH: bigint, QT_MED_SK_DPD_DEF_U6M_RETURNED_TO_THE_STORE_POS_CASH: double, QT_TOT_SK_DPD_DEF_U12M_RETURNED_TO_THE_STORE_POS_CASH: bigint, QT_MED_SK_DPD_DEF_U12M_RETURNED_TO_THE_STORE_POS_CASH: double, VL_MED_CNT_INSTALMENT_U3M_ACTIVE_POS_CASH: double, VL_MED_CNT_INSTALMENT_U6M_ACTIVE_POS_CASH: double, VL_MED_CNT_INSTALMENT_U12M_ACTIVE_POS_CASH: double, VL_MED_CNT_INSTALMENT_FUTURE_U3M_ACTIVE_POS_CASH: double, VL_MED_CNT_INSTALMENT_FUTURE_U6M_ACTIVE_POS_CASH: double, VL_MED_CNT_INSTALMENT_FUTURE_U12M_ACTIVE_POS_CASH: double, QT_TOT_SK_DPD_U3M_ACTIVE_POS_CASH: bigint, QT_MED_SK_DPD_U3M_ACTIVE_POS_CASH: double, QT_TOT_SK_DPD_U6M_ACTIVE_POS_CASH: bigint, QT_MED_SK_DPD_U6M_ACTIVE_POS_CASH: double, QT_TOT_SK_DPD_U12M_ACTIVE_POS_CASH: bigint, QT_MED_SK_DPD_U12M_ACTIVE_POS_CASH: double, QT_TOT_SK_DPD_DEF_U3M_ACTIVE_POS_CASH: bigint, QT_MED_SK_DPD_DEF_U3M_ACTIVE_POS_CASH: double, QT_TOT_SK_DPD_DEF_U6M_ACTIVE_POS_CASH: bigint, QT_MED_SK_DPD_DEF_U6M_ACTIVE_POS_CASH: double, QT_TOT_SK_DPD_DEF_U12M_ACTIVE_POS_CASH: bigint, QT_MED_SK_DPD_DEF_U12M_ACTIVE_POS_CASH: double, VL_MED_CNT_INSTALMENT_U3M_SIGNED_POS_CASH: double, VL_MED_CNT_INSTALMENT_U6M_SIGNED_POS_CASH: double, VL_MED_CNT_INSTALMENT_U12M_SIGNED_POS_CASH: double, VL_MED_CNT_INSTALMENT_FUTURE_U3M_SIGNED_POS_CASH: double, VL_MED_CNT_INSTALMENT_FUTURE_U6M_SIGNED_POS_CASH: double, VL_MED_CNT_INSTALMENT_FUTURE_U12M_SIGNED_POS_CASH: double, QT_TOT_SK_DPD_U3M_SIGNED_POS_CASH: bigint, QT_MED_SK_DPD_U3M_SIGNED_POS_CASH: double, QT_TOT_SK_DPD_U6M_SIGNED_POS_CASH: bigint, QT_MED_SK_DPD_U6M_SIGNED_POS_CASH: double, QT_TOT_SK_DPD_U12M_SIGNED_POS_CASH: bigint, QT_MED_SK_DPD_U12M_SIGNED_POS_CASH: double, QT_TOT_SK_DPD_DEF_U3M_SIGNED_POS_CASH: bigint, QT_MED_SK_DPD_DEF_U3M_SIGNED_POS_CASH: double, QT_TOT_SK_DPD_DEF_U6M_SIGNED_POS_CASH: bigint, QT_MED_SK_DPD_DEF_U6M_SIGNED_POS_CASH: double, QT_TOT_SK_DPD_DEF_U12M_SIGNED_POS_CASH: bigint, QT_MED_SK_DPD_DEF_U12M_SIGNED_POS_CASH: double, VL_MED_CNT_INSTALMENT_U3M_CANCELED_POS_CASH: double, VL_MED_CNT_INSTALMENT_U6M_CANCELED_POS_CASH: double, VL_MED_CNT_INSTALMENT_U12M_CANCELED_POS_CASH: double, VL_MED_CNT_INSTALMENT_FUTURE_U3M_CANCELED_POS_CASH: double, VL_MED_CNT_INSTALMENT_FUTURE_U6M_CANCELED_POS_CASH: double, VL_MED_CNT_INSTALMENT_FUTURE_U12M_CANCELED_POS_CASH: double, QT_TOT_SK_DPD_U3M_CANCELED_POS_CASH: bigint, QT_MED_SK_DPD_U3M_CANCELED_POS_CASH: double, QT_TOT_SK_DPD_U6M_CANCELED_POS_CASH: bigint, QT_MED_SK_DPD_U6M_CANCELED_POS_CASH: double, QT_TOT_SK_DPD_U12M_CANCELED_POS_CASH: bigint, QT_MED_SK_DPD_U12M_CANCELED_POS_CASH: double, QT_TOT_SK_DPD_DEF_U3M_CANCELED_POS_CASH: bigint, QT_MED_SK_DPD_DEF_U3M_CANCELED_POS_CASH: double, QT_TOT_SK_DPD_DEF_U6M_CANCELED_POS_CASH: bigint, QT_MED_SK_DPD_DEF_U6M_CANCELED_POS_CASH: double, QT_TOT_SK_DPD_DEF_U12M_CANCELED_POS_CASH: bigint, QT_MED_SK_DPD_DEF_U12M_CANCELED_POS_CASH: double, VL_MED_CNT_INSTALMENT_U3M_XNA_POS_CASH: double, VL_MED_CNT_INSTALMENT_U6M_XNA_POS_CASH: double, VL_MED_CNT_INSTALMENT_U12M_XNA_POS_CASH: double, VL_MED_CNT_INSTALMENT_FUTURE_U3M_XNA_POS_CASH: double, VL_MED_CNT_INSTALMENT_FUTURE_U6M_XNA_POS_CASH: double, VL_MED_CNT_INSTALMENT_FUTURE_U12M_XNA_POS_CASH: double, QT_TOT_SK_DPD_U3M_XNA_POS_CASH: bigint, QT_MED_SK_DPD_U3M_XNA_POS_CASH: double, QT_TOT_SK_DPD_U6M_XNA_POS_CASH: bigint, QT_MED_SK_DPD_U6M_XNA_POS_CASH: double, QT_TOT_SK_DPD_U12M_XNA_POS_CASH: bigint, QT_MED_SK_DPD_U12M_XNA_POS_CASH: double, QT_TOT_SK_DPD_DEF_U3M_XNA_POS_CASH: bigint, QT_MED_SK_DPD_DEF_U3M_XNA_POS_CASH: double, QT_TOT_SK_DPD_DEF_U6M_XNA_POS_CASH: bigint, QT_MED_SK_DPD_DEF_U6M_XNA_POS_CASH: double, QT_TOT_SK_DPD_DEF_U12M_XNA_POS_CASH: bigint, QT_MED_SK_DPD_DEF_U12M_XNA_POS_CASH: double, VL_MED_CNT_INSTALMENT_U3M_AMORTIZED_DEBT_POS_CASH: double, VL_MED_CNT_INSTALMENT_U6M_AMORTIZED_DEBT_POS_CASH: double, VL_MED_CNT_INSTALMENT_U12M_AMORTIZED_DEBT_POS_CASH: double, VL_MED_CNT_INSTALMENT_FUTURE_U3M_AMORTIZED_DEBT_POS_CASH: double, VL_MED_CNT_INSTALMENT_FUTURE_U6M_AMORTIZED_DEBT_POS_CASH: double, VL_MED_CNT_INSTALMENT_FUTURE_U12M_AMORTIZED_DEBT_POS_CASH: double, QT_TOT_SK_DPD_U3M_AMORTIZED_DEBT_POS_CASH: bigint, QT_MED_SK_DPD_U3M_AMORTIZED_DEBT_POS_CASH: double, QT_TOT_SK_DPD_U6M_AMORTIZED_DEBT_POS_CASH: bigint, QT_MED_SK_DPD_U6M_AMORTIZED_DEBT_POS_CASH: double, QT_TOT_SK_DPD_U12M_AMORTIZED_DEBT_POS_CASH: bigint, QT_MED_SK_DPD_U12M_AMORTIZED_DEBT_POS_CASH: double, QT_TOT_SK_DPD_DEF_U3M_AMORTIZED_DEBT_POS_CASH: bigint, QT_MED_SK_DPD_DEF_U3M_AMORTIZED_DEBT_POS_CASH: double, QT_TOT_SK_DPD_DEF_U6M_AMORTIZED_DEBT_POS_CASH: bigint, QT_MED_SK_DPD_DEF_U6M_AMORTIZED_DEBT_POS_CASH: double, QT_TOT_SK_DPD_DEF_U12M_AMORTIZED_DEBT_POS_CASH: bigint, QT_MED_SK_DPD_DEF_U12M_AMORTIZED_DEBT_POS_CASH: double]"
      ]
     },
     "metadata": {},
     "output_type": "display_data"
    }
   ],
   "source": [
    "from pyspark.sql.functions import col, round, sum, avg, max, min, when, countDistinct, count, date_format, current_date\n",
    "# Fazendo o join das duas tabelas criadas.\n",
    "df_temp_04 = df_temp_02.join(df_temp_03, 'SK_ID_PREV')\n",
    "\n",
    "\n",
    "# Quantidade e nome das variáveis criadas.\n",
    "nomes_cols = df_temp_04.columns\n",
    "nomes_cols_novas = nomes_cols[1:-2]\n",
    "print('Quantidade Total de Variáveis Criadas:', len(df_temp_04.columns) - 3)\n",
    "print('Nomes das Variáveis Criadas:', nomes_cols_novas)\n",
    "print('')\n",
    "print('')\n",
    "\n",
    "# Quantidade de linhas do DataFrame.\n",
    "num_rows_df = df_temp_04.count()\n",
    "\n",
    "# Quantidade de colunas do DataFrame.\n",
    "num_columns_df = len(df_temp_04.columns)\n",
    "\n",
    "# Imprimir o resultado de número de linhas e colunas.\n",
    "print(f'Quantidade de linhas do DataFrame: {num_rows_df}')\n",
    "print(f'Quantidade de colunas do DataFrame: {num_columns_df}')\n",
    "print('')\n",
    "print('')\n",
    "\n",
    "# Mostrando o novo DataFrame com as variáveis criadas.\n",
    "display(df_temp_04.limit(5))"
   ]
  },
  {
   "cell_type": "code",
   "execution_count": 9,
   "id": "a6732ff9-f02d-4060-a53d-57d3b3400871",
   "metadata": {
    "scrolled": true
   },
   "outputs": [
    {
     "name": "stderr",
     "output_type": "stream",
     "text": [
      "25/07/21 18:05:05 WARN SparkStringUtils: Truncated the string representation of a plan since it was too large. This behavior can be adjusted by setting 'spark.sql.debug.maxToStringFields'.\n",
      "                                                                                "
     ]
    }
   ],
   "source": [
    "(df_temp_04.repartition(1)\n",
    "     .write\n",
    "     .mode(\"overwrite\")\n",
    "     .option(\"compression\", \"snappy\")\n",
    "     .parquet('/data/books/pos-cash'))"
   ]
  },
  {
   "cell_type": "code",
   "execution_count": 10,
   "id": "f8614cf6-4237-426c-aa62-252cbecdafba",
   "metadata": {},
   "outputs": [],
   "source": [
    "spark.stop()"
   ]
  }
 ],
 "metadata": {
  "kernelspec": {
   "display_name": "Python 3 (ipykernel)",
   "language": "python",
   "name": "python3"
  },
  "language_info": {
   "codemirror_mode": {
    "name": "ipython",
    "version": 3
   },
   "file_extension": ".py",
   "mimetype": "text/x-python",
   "name": "python",
   "nbconvert_exporter": "python",
   "pygments_lexer": "ipython3",
   "version": "3.9.2"
  }
 },
 "nbformat": 4,
 "nbformat_minor": 5
}
