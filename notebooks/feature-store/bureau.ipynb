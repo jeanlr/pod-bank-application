{
 "cells": [
  {
   "cell_type": "code",
   "execution_count": 1,
   "id": "2b196ce8-3907-43b5-9d93-f58e0f825791",
   "metadata": {},
   "outputs": [
    {
     "name": "stderr",
     "output_type": "stream",
     "text": [
      "Setting default log level to \"WARN\".\n",
      "To adjust logging level use sc.setLogLevel(newLevel). For SparkR, use setLogLevel(newLevel).\n",
      "25/07/21 12:19:18 WARN NativeCodeLoader: Unable to load native-hadoop library for your platform... using builtin-java classes where applicable\n"
     ]
    }
   ],
   "source": [
    "import findspark\n",
    "findspark.init()\n",
    "\n",
    "from pyspark.sql import SparkSession\n",
    "from pyspark.sql.functions import col\n",
    "from pyspark.sql.types import IntegerType\n",
    "from pyspark.sql.functions import to_date, lit, date_format\n",
    "\n",
    "try:\n",
    "    spark.stop()\n",
    "except:\n",
    "    pass\n",
    "\n",
    "spark = SparkSession.builder \\\n",
    "    .appName(\"Bureau\") \\\n",
    "    .master(\"spark://spark-master:7077\") \\\n",
    "    .config(\"spark.executor.memory\", \"2g\") \\\n",
    "    .config(\"spark.executor.cores\", \"2\") \\\n",
    "    .getOrCreate()"
   ]
  },
  {
   "cell_type": "code",
   "execution_count": 2,
   "id": "c3dbefb7-0427-4e8e-ab05-a624500b6812",
   "metadata": {},
   "outputs": [
    {
     "name": "stderr",
     "output_type": "stream",
     "text": [
      "                                                                                "
     ]
    },
    {
     "name": "stdout",
     "output_type": "stream",
     "text": [
      "Quantidade de linhas: 1716428\n",
      "Quantidade de variaveis (colunas): 17\n",
      "+----------+------------+-------------+---------------+-----------+------------------+-------------------+-----------------+----------------------+------------------+--------------+-------------------+--------------------+----------------------+---------------+------------------+-----------+\n",
      "|SK_ID_CURR|SK_ID_BUREAU|CREDIT_ACTIVE|CREDIT_CURRENCY|DAYS_CREDIT|CREDIT_DAY_OVERDUE|DAYS_CREDIT_ENDDATE|DAYS_ENDDATE_FACT|AMT_CREDIT_MAX_OVERDUE|CNT_CREDIT_PROLONG|AMT_CREDIT_SUM|AMT_CREDIT_SUM_DEBT|AMT_CREDIT_SUM_LIMIT|AMT_CREDIT_SUM_OVERDUE|CREDIT_TYPE    |DAYS_CREDIT_UPDATE|AMT_ANNUITY|\n",
      "+----------+------------+-------------+---------------+-----------+------------------+-------------------+-----------------+----------------------+------------------+--------------+-------------------+--------------------+----------------------+---------------+------------------+-----------+\n",
      "|215354    |5714462     |Closed       |currency 1     |-497       |0                 |-153.0             |-153.0           |NULL                  |0                 |91323.0       |0.0                |NULL                |0.0                   |Consumer credit|-131              |NULL       |\n",
      "|215354    |5714463     |Active       |currency 1     |-208       |0                 |1075.0             |NULL             |NULL                  |0                 |225000.0      |171342.0           |NULL                |0.0                   |Credit card    |-20               |NULL       |\n",
      "|215354    |5714464     |Active       |currency 1     |-203       |0                 |528.0              |NULL             |NULL                  |0                 |464323.5      |NULL               |NULL                |0.0                   |Consumer credit|-16               |NULL       |\n",
      "|215354    |5714465     |Active       |currency 1     |-203       |0                 |NULL               |NULL             |NULL                  |0                 |90000.0       |NULL               |NULL                |0.0                   |Credit card    |-16               |NULL       |\n",
      "|215354    |5714466     |Active       |currency 1     |-629       |0                 |1197.0             |NULL             |77674.5               |0                 |2700000.0     |NULL               |NULL                |0.0                   |Consumer credit|-21               |NULL       |\n",
      "+----------+------------+-------------+---------------+-----------+------------------+-------------------+-----------------+----------------------+------------------+--------------+-------------------+--------------------+----------------------+---------------+------------------+-----------+\n",
      "only showing top 5 rows\n",
      "\n"
     ]
    }
   ],
   "source": [
    "\n",
    "bureau = spark.read.csv(\"/data/raw/bureau.csv\",\n",
    "                               header=True,\n",
    "                               inferSchema=True)\n",
    "\n",
    "bureau.createOrReplaceTempView(\"bureau\")\n",
    "\n",
    "# Contagem de linhas e colunas\n",
    "num_rows = bureau.count()\n",
    "num_columns = len(bureau.columns)\n",
    "\n",
    "print(f'Quantidade de linhas: {num_rows}')\n",
    "print(f'Quantidade de variaveis (colunas): {num_columns}')\n",
    "\n",
    "bureau.show(5, truncate=False)"
   ]
  },
  {
   "cell_type": "markdown",
   "id": "59d4b0fe-7310-4dfd-af8f-80510eee1c58",
   "metadata": {},
   "source": [
    "## Lendo os dados da base bureau_balance"
   ]
  },
  {
   "cell_type": "code",
   "execution_count": 3,
   "id": "8dccb517-e0b1-4eaa-b842-931dcc5146e7",
   "metadata": {},
   "outputs": [],
   "source": [
    "file_path = \"/data/books/bureau_balance\"\n",
    "bureau_balance = spark.read.parquet(file_path)  "
   ]
  },
  {
   "cell_type": "code",
   "execution_count": 4,
   "id": "fb0dce1e-6342-4ee2-a70a-16e7ec53a918",
   "metadata": {},
   "outputs": [],
   "source": [
    "df_temp_05 = bureau.join(bureau_balance, on='SK_ID_BUREAU', how='left')"
   ]
  },
  {
   "cell_type": "code",
   "execution_count": 5,
   "id": "bae822e0-218f-473d-afee-862dd16cf8ef",
   "metadata": {},
   "outputs": [],
   "source": [
    "from pyspark.sql.functions import upper\n",
    "\n",
    "# Converte os valores da coluna para maiúsculas\n",
    "df_temp_05 = df_temp_05.withColumn(\"CREDIT_ACTIVE\", upper(df_temp_05[\"CREDIT_ACTIVE\"]))\n",
    "df_temp_05 = df_temp_05.withColumn(\"CREDIT_CURRENCY\", upper(df_temp_05[\"CREDIT_CURRENCY\"]))\n",
    "df_temp_05 = df_temp_05.withColumn(\"CREDIT_TYPE\", upper(df_temp_05[\"CREDIT_TYPE\"]))"
   ]
  },
  {
   "cell_type": "markdown",
   "id": "39c35555-cd57-4ca4-bd72-bf6b4b987447",
   "metadata": {},
   "source": [
    "## Criando variáveis de flag temporal"
   ]
  },
  {
   "cell_type": "code",
   "execution_count": 6,
   "id": "2f44f5f2-0f09-401b-9246-4302f144c3f9",
   "metadata": {},
   "outputs": [
    {
     "name": "stderr",
     "output_type": "stream",
     "text": [
      "25/07/21 12:24:21 WARN SparkStringUtils: Truncated the string representation of a plan since it was too large. This behavior can be adjusted by setting 'spark.sql.debug.maxToStringFields'.\n",
      "                                                                                "
     ]
    },
    {
     "name": "stdout",
     "output_type": "stream",
     "text": [
      "+------------+----------+-------------+---------------+-----------+------------------+-------------------+-----------------+----------------------+------------------+--------------+-------------------+--------------------+----------------------+---------------+------------------+-----------+----------------------------+-----------------------------+-----------------------------+-----------------------------+----------------------------+-----------------------------+-----------------------------+-----------------------------+----------------------------+-----------------------------+-----------------------------+-----------------------------+----------------------------+-----------------------------+-----------------------------+-----------------------------+----------------------------+-----------------------------+-----------------------------+-----------------------------+----------------------------+-----------------------------+-----------------------------+-----------------------------+----------------------------+-----------------------------+-----------------------------+-----------------------------+----------------------------+-----------------------------+-----------------------------+-----------------------------+----------------------------+-----------------------------+-----------------------------+-----------------------------+----------------------------+-----------------------------+-----------------------------+-----------------------------+----------------------------+-----------------------------+-----------------------------+-----------------------------+----------------------------+-----------------------------+-----------------------------+-----------------------------+-----------------------------+------------------------------+------------------------------+------------------------------+-----------------------------+------------------------------+------------------------------+------------------------------+-----------------------------+------------------------------+------------------------------+------------------------------+-----------------------------+------------------------------+------------------------------+------------------------------+---+---+---+----+\n",
      "|SK_ID_BUREAU|SK_ID_CURR|CREDIT_ACTIVE|CREDIT_CURRENCY|DAYS_CREDIT|CREDIT_DAY_OVERDUE|DAYS_CREDIT_ENDDATE|DAYS_ENDDATE_FACT|AMT_CREDIT_MAX_OVERDUE|CNT_CREDIT_PROLONG|AMT_CREDIT_SUM|AMT_CREDIT_SUM_DEBT|AMT_CREDIT_SUM_LIMIT|AMT_CREDIT_SUM_OVERDUE|    CREDIT_TYPE|DAYS_CREDIT_UPDATE|AMT_ANNUITY|QT_TT_STATUS_C_U3M_BUREAU_BL|QT_MED_STATUS_C_U3M_BUREAU_BL|QT_MAX_STATUS_C_U3M_BUREAU_BL|QT_MIN_STATUS_C_U3M_BUREAU_BL|QT_TT_STATUS_0_U3M_BUREAU_BL|QT_MED_STATUS_0_U3M_BUREAU_BL|QT_MAX_STATUS_0_U3M_BUREAU_BL|QT_MIN_STATUS_0_U3M_BUREAU_BL|QT_TT_STATUS_X_U3M_BUREAU_BL|QT_MED_STATUS_X_U3M_BUREAU_BL|QT_MAX_STATUS_X_U3M_BUREAU_BL|QT_MIN_STATUS_X_U3M_BUREAU_BL|QT_TT_STATUS_1_U3M_BUREAU_BL|QT_MED_STATUS_1_U3M_BUREAU_BL|QT_MAX_STATUS_1_U3M_BUREAU_BL|QT_MIN_STATUS_1_U3M_BUREAU_BL|QT_TT_STATUS_C_U6M_BUREAU_BL|QT_MED_STATUS_C_U6M_BUREAU_BL|QT_MAX_STATUS_C_U6M_BUREAU_BL|QT_MIN_STATUS_C_U6M_BUREAU_BL|QT_TT_STATUS_0_U6M_BUREAU_BL|QT_MED_STATUS_0_U6M_BUREAU_BL|QT_MAX_STATUS_0_U6M_BUREAU_BL|QT_MIN_STATUS_0_U6M_BUREAU_BL|QT_TT_STATUS_X_U6M_BUREAU_BL|QT_MED_STATUS_X_U6M_BUREAU_BL|QT_MAX_STATUS_X_U6M_BUREAU_BL|QT_MIN_STATUS_X_U6M_BUREAU_BL|QT_TT_STATUS_1_U6M_BUREAU_BL|QT_MED_STATUS_1_U6M_BUREAU_BL|QT_MAX_STATUS_1_U6M_BUREAU_BL|QT_MIN_STATUS_1_U6M_BUREAU_BL|QT_TT_STATUS_C_U9M_BUREAU_BL|QT_MED_STATUS_C_U9M_BUREAU_BL|QT_MAX_STATUS_C_U9M_BUREAU_BL|QT_MIN_STATUS_C_U9M_BUREAU_BL|QT_TT_STATUS_0_U9M_BUREAU_BL|QT_MED_STATUS_0_U9M_BUREAU_BL|QT_MAX_STATUS_0_U9M_BUREAU_BL|QT_MIN_STATUS_0_U9M_BUREAU_BL|QT_TT_STATUS_X_U9M_BUREAU_BL|QT_MED_STATUS_X_U9M_BUREAU_BL|QT_MAX_STATUS_X_U9M_BUREAU_BL|QT_MIN_STATUS_X_U9M_BUREAU_BL|QT_TT_STATUS_1_U9M_BUREAU_BL|QT_MED_STATUS_1_U9M_BUREAU_BL|QT_MAX_STATUS_1_U9M_BUREAU_BL|QT_MIN_STATUS_1_U9M_BUREAU_BL|QT_TT_STATUS_C_U12M_BUREAU_BL|QT_MED_STATUS_C_U12M_BUREAU_BL|QT_MAX_STATUS_C_U12M_BUREAU_BL|QT_MIN_STATUS_C_U12M_BUREAU_BL|QT_TT_STATUS_0_U12M_BUREAU_BL|QT_MED_STATUS_0_U12M_BUREAU_BL|QT_MAX_STATUS_0_U12M_BUREAU_BL|QT_MIN_STATUS_0_U12M_BUREAU_BL|QT_TT_STATUS_X_U12M_BUREAU_BL|QT_MED_STATUS_X_U12M_BUREAU_BL|QT_MAX_STATUS_X_U12M_BUREAU_BL|QT_MIN_STATUS_X_U12M_BUREAU_BL|QT_TT_STATUS_1_U12M_BUREAU_BL|QT_MED_STATUS_1_U12M_BUREAU_BL|QT_MAX_STATUS_1_U12M_BUREAU_BL|QT_MIN_STATUS_1_U12M_BUREAU_BL|U3M|U6M|U9M|U12M|\n",
      "+------------+----------+-------------+---------------+-----------+------------------+-------------------+-----------------+----------------------+------------------+--------------+-------------------+--------------------+----------------------+---------------+------------------+-----------+----------------------------+-----------------------------+-----------------------------+-----------------------------+----------------------------+-----------------------------+-----------------------------+-----------------------------+----------------------------+-----------------------------+-----------------------------+-----------------------------+----------------------------+-----------------------------+-----------------------------+-----------------------------+----------------------------+-----------------------------+-----------------------------+-----------------------------+----------------------------+-----------------------------+-----------------------------+-----------------------------+----------------------------+-----------------------------+-----------------------------+-----------------------------+----------------------------+-----------------------------+-----------------------------+-----------------------------+----------------------------+-----------------------------+-----------------------------+-----------------------------+----------------------------+-----------------------------+-----------------------------+-----------------------------+----------------------------+-----------------------------+-----------------------------+-----------------------------+----------------------------+-----------------------------+-----------------------------+-----------------------------+-----------------------------+------------------------------+------------------------------+------------------------------+-----------------------------+------------------------------+------------------------------+------------------------------+-----------------------------+------------------------------+------------------------------+------------------------------+-----------------------------+------------------------------+------------------------------+------------------------------+---+---+---+----+\n",
      "|     5000000|    166497|       CLOSED|     CURRENCY 1|      -2918|                 0|            -2613.0|          -2639.0|                  NULL|                 0|       29443.5|                0.0|                NULL|                   0.0|CONSUMER CREDIT|             -2512|       NULL|                        NULL|                         NULL|                         NULL|                         NULL|                        NULL|                         NULL|                         NULL|                         NULL|                        NULL|                         NULL|                         NULL|                         NULL|                        NULL|                         NULL|                         NULL|                         NULL|                        NULL|                         NULL|                         NULL|                         NULL|                        NULL|                         NULL|                         NULL|                         NULL|                        NULL|                         NULL|                         NULL|                         NULL|                        NULL|                         NULL|                         NULL|                         NULL|                        NULL|                         NULL|                         NULL|                         NULL|                        NULL|                         NULL|                         NULL|                         NULL|                        NULL|                         NULL|                         NULL|                         NULL|                        NULL|                         NULL|                         NULL|                         NULL|                         NULL|                          NULL|                          NULL|                          NULL|                         NULL|                          NULL|                          NULL|                          NULL|                         NULL|                          NULL|                          NULL|                          NULL|                         NULL|                          NULL|                          NULL|                          NULL|  0|  0|  0|   0|\n",
      "|     5000001|    166497|       CLOSED|     CURRENCY 1|      -1015|                 0|             -831.0|           -891.0|              2223.855|                 0|       13810.5|                0.0|                 0.0|                   0.0|CONSUMER CREDIT|              -891|       NULL|                        NULL|                         NULL|                         NULL|                         NULL|                        NULL|                         NULL|                         NULL|                         NULL|                        NULL|                         NULL|                         NULL|                         NULL|                        NULL|                         NULL|                         NULL|                         NULL|                        NULL|                         NULL|                         NULL|                         NULL|                        NULL|                         NULL|                         NULL|                         NULL|                        NULL|                         NULL|                         NULL|                         NULL|                        NULL|                         NULL|                         NULL|                         NULL|                        NULL|                         NULL|                         NULL|                         NULL|                        NULL|                         NULL|                         NULL|                         NULL|                        NULL|                         NULL|                         NULL|                         NULL|                        NULL|                         NULL|                         NULL|                         NULL|                         NULL|                          NULL|                          NULL|                          NULL|                         NULL|                          NULL|                          NULL|                          NULL|                         NULL|                          NULL|                          NULL|                          NULL|                         NULL|                          NULL|                          NULL|                          NULL|  0|  0|  0|   0|\n",
      "|     5000002|    166497|       CLOSED|     CURRENCY 1|       -149|                 0|              -26.0|            -26.0|                   0.0|                 0|       13455.0|                0.0|                 0.0|                   0.0|CONSUMER CREDIT|               -23|       NULL|                        NULL|                         NULL|                         NULL|                         NULL|                        NULL|                         NULL|                         NULL|                         NULL|                        NULL|                         NULL|                         NULL|                         NULL|                        NULL|                         NULL|                         NULL|                         NULL|                        NULL|                         NULL|                         NULL|                         NULL|                        NULL|                         NULL|                         NULL|                         NULL|                        NULL|                         NULL|                         NULL|                         NULL|                        NULL|                         NULL|                         NULL|                         NULL|                        NULL|                         NULL|                         NULL|                         NULL|                        NULL|                         NULL|                         NULL|                         NULL|                        NULL|                         NULL|                         NULL|                         NULL|                        NULL|                         NULL|                         NULL|                         NULL|                         NULL|                          NULL|                          NULL|                          NULL|                         NULL|                          NULL|                          NULL|                          NULL|                         NULL|                          NULL|                          NULL|                          NULL|                         NULL|                          NULL|                          NULL|                          NULL|  0|  1|  1|   1|\n",
      "|     5000003|    166497|       CLOSED|     CURRENCY 1|       -135|                 0|              230.0|            -42.0|                   0.0|                 0|       37350.0|                0.0|                 0.0|                   0.0|CONSUMER CREDIT|               -42|       NULL|                        NULL|                         NULL|                         NULL|                         NULL|                        NULL|                         NULL|                         NULL|                         NULL|                        NULL|                         NULL|                         NULL|                         NULL|                        NULL|                         NULL|                         NULL|                         NULL|                        NULL|                         NULL|                         NULL|                         NULL|                        NULL|                         NULL|                         NULL|                         NULL|                        NULL|                         NULL|                         NULL|                         NULL|                        NULL|                         NULL|                         NULL|                         NULL|                        NULL|                         NULL|                         NULL|                         NULL|                        NULL|                         NULL|                         NULL|                         NULL|                        NULL|                         NULL|                         NULL|                         NULL|                        NULL|                         NULL|                         NULL|                         NULL|                         NULL|                          NULL|                          NULL|                          NULL|                         NULL|                          NULL|                          NULL|                          NULL|                         NULL|                          NULL|                          NULL|                          NULL|                         NULL|                          NULL|                          NULL|                          NULL|  0|  1|  1|   1|\n",
      "|     5000004|    166497|       ACTIVE|     CURRENCY 1|        -47|                 0|              320.0|             NULL|                   0.0|                 0|     315127.62|          315127.62|                 0.0|                   0.0|CONSUMER CREDIT|               -17|       NULL|                        NULL|                         NULL|                         NULL|                         NULL|                        NULL|                         NULL|                         NULL|                         NULL|                        NULL|                         NULL|                         NULL|                         NULL|                        NULL|                         NULL|                         NULL|                         NULL|                        NULL|                         NULL|                         NULL|                         NULL|                        NULL|                         NULL|                         NULL|                         NULL|                        NULL|                         NULL|                         NULL|                         NULL|                        NULL|                         NULL|                         NULL|                         NULL|                        NULL|                         NULL|                         NULL|                         NULL|                        NULL|                         NULL|                         NULL|                         NULL|                        NULL|                         NULL|                         NULL|                         NULL|                        NULL|                         NULL|                         NULL|                         NULL|                         NULL|                          NULL|                          NULL|                          NULL|                         NULL|                          NULL|                          NULL|                          NULL|                         NULL|                          NULL|                          NULL|                          NULL|                         NULL|                          NULL|                          NULL|                          NULL|  1|  1|  1|   1|\n",
      "+------------+----------+-------------+---------------+-----------+------------------+-------------------+-----------------+----------------------+------------------+--------------+-------------------+--------------------+----------------------+---------------+------------------+-----------+----------------------------+-----------------------------+-----------------------------+-----------------------------+----------------------------+-----------------------------+-----------------------------+-----------------------------+----------------------------+-----------------------------+-----------------------------+-----------------------------+----------------------------+-----------------------------+-----------------------------+-----------------------------+----------------------------+-----------------------------+-----------------------------+-----------------------------+----------------------------+-----------------------------+-----------------------------+-----------------------------+----------------------------+-----------------------------+-----------------------------+-----------------------------+----------------------------+-----------------------------+-----------------------------+-----------------------------+----------------------------+-----------------------------+-----------------------------+-----------------------------+----------------------------+-----------------------------+-----------------------------+-----------------------------+----------------------------+-----------------------------+-----------------------------+-----------------------------+----------------------------+-----------------------------+-----------------------------+-----------------------------+-----------------------------+------------------------------+------------------------------+------------------------------+-----------------------------+------------------------------+------------------------------+------------------------------+-----------------------------+------------------------------+------------------------------+------------------------------+-----------------------------+------------------------------+------------------------------+------------------------------+---+---+---+----+\n",
      "only showing top 5 rows\n",
      "\n"
     ]
    }
   ],
   "source": [
    "df_temp_05.createOrReplaceTempView(\"dados\")\n",
    "\n",
    "df_temp_01 = spark.sql(\"\"\"\n",
    "SELECT\n",
    "    *,\n",
    "      CASE\n",
    "        WHEN DAYS_CREDIT >= -90 THEN 1\n",
    "        ELSE 0\n",
    "    END AS U3M,\n",
    "    CASE\n",
    "        WHEN DAYS_CREDIT >= -180 THEN 1\n",
    "        ELSE 0\n",
    "    END AS U6M,\n",
    "    CASE\n",
    "        WHEN DAYS_CREDIT >= -270 THEN 1\n",
    "        ELSE 0\n",
    "    END AS U9M,    \n",
    "    CASE\n",
    "        WHEN DAYS_CREDIT >= -360 THEN 1\n",
    "        ELSE 0\n",
    "    END AS U12M\n",
    "FROM dados\n",
    "ORDER BY `SK_ID_BUREAU`;\n",
    "\"\"\")\n",
    "df_temp_01.createOrReplaceTempView(\"df_temp_01\")\n",
    "df_temp_01.show(5)\n"
   ]
  },
  {
   "cell_type": "code",
   "execution_count": 7,
   "id": "220b7de5-5b3f-4e59-9b7e-843567040d2e",
   "metadata": {},
   "outputs": [
    {
     "name": "stderr",
     "output_type": "stream",
     "text": [
      "                                                                                "
     ]
    }
   ],
   "source": [
    "qtd_linhas = df_temp_01.count()"
   ]
  },
  {
   "cell_type": "code",
   "execution_count": 8,
   "id": "f59e8e2d-0be1-4e87-b606-94b93c0ea7e0",
   "metadata": {},
   "outputs": [
    {
     "name": "stderr",
     "output_type": "stream",
     "text": [
      "[Stage 17:=========>                                                (1 + 5) / 6]"
     ]
    },
    {
     "name": "stdout",
     "output_type": "stream",
     "text": [
      "+-------------+-------+-----------+\n",
      "|CREDIT_ACTIVE|VOLUME |VOL_PERCENT|\n",
      "+-------------+-------+-----------+\n",
      "|CLOSED       |1079273|62.88      |\n",
      "|ACTIVE       |630607 |36.74      |\n",
      "|SOLD         |6527   |0.38       |\n",
      "|BAD DEBT     |21     |0.0        |\n",
      "+-------------+-------+-----------+\n",
      "\n"
     ]
    },
    {
     "name": "stderr",
     "output_type": "stream",
     "text": [
      "                                                                                "
     ]
    }
   ],
   "source": [
    "\n",
    "spark.sql(\"\"\"\n",
    "            Select\n",
    "                CREDIT_ACTIVE,\n",
    "                count(*) as VOLUME,\n",
    "                round(100*(count(*)/{}),2) as VOL_PERCENT\n",
    "            from \n",
    "                df_temp_01\n",
    "            group by \n",
    "                CREDIT_ACTIVE\n",
    "            order by \n",
    "                VOLUME desc\n",
    "\"\"\".format(qtd_linhas)).show(50,False)\n"
   ]
  },
  {
   "cell_type": "code",
   "execution_count": 9,
   "id": "6f008581-83c0-44c9-a406-dcf8cdf5ab02",
   "metadata": {},
   "outputs": [
    {
     "name": "stderr",
     "output_type": "stream",
     "text": [
      "[Stage 24:========>                                                 (1 + 6) / 7]"
     ]
    },
    {
     "name": "stdout",
     "output_type": "stream",
     "text": [
      "+------------+----------+-------------+---------------+-----------+------------------+-------------------+-----------------+----------------------+------------------+--------------+-------------------+--------------------+----------------------+---------------+------------------+-----------+----------------------------+-----------------------------+-----------------------------+-----------------------------+----------------------------+-----------------------------+-----------------------------+-----------------------------+----------------------------+-----------------------------+-----------------------------+-----------------------------+----------------------------+-----------------------------+-----------------------------+-----------------------------+----------------------------+-----------------------------+-----------------------------+-----------------------------+----------------------------+-----------------------------+-----------------------------+-----------------------------+----------------------------+-----------------------------+-----------------------------+-----------------------------+----------------------------+-----------------------------+-----------------------------+-----------------------------+----------------------------+-----------------------------+-----------------------------+-----------------------------+----------------------------+-----------------------------+-----------------------------+-----------------------------+----------------------------+-----------------------------+-----------------------------+-----------------------------+----------------------------+-----------------------------+-----------------------------+-----------------------------+-----------------------------+------------------------------+------------------------------+------------------------------+-----------------------------+------------------------------+------------------------------+------------------------------+-----------------------------+------------------------------+------------------------------+------------------------------+-----------------------------+------------------------------+------------------------------+------------------------------+---+---+---+----+------------+------------+\n",
      "|SK_ID_BUREAU|SK_ID_CURR|CREDIT_ACTIVE|CREDIT_CURRENCY|DAYS_CREDIT|CREDIT_DAY_OVERDUE|DAYS_CREDIT_ENDDATE|DAYS_ENDDATE_FACT|AMT_CREDIT_MAX_OVERDUE|CNT_CREDIT_PROLONG|AMT_CREDIT_SUM|AMT_CREDIT_SUM_DEBT|AMT_CREDIT_SUM_LIMIT|AMT_CREDIT_SUM_OVERDUE|    CREDIT_TYPE|DAYS_CREDIT_UPDATE|AMT_ANNUITY|QT_TT_STATUS_C_U3M_BUREAU_BL|QT_MED_STATUS_C_U3M_BUREAU_BL|QT_MAX_STATUS_C_U3M_BUREAU_BL|QT_MIN_STATUS_C_U3M_BUREAU_BL|QT_TT_STATUS_0_U3M_BUREAU_BL|QT_MED_STATUS_0_U3M_BUREAU_BL|QT_MAX_STATUS_0_U3M_BUREAU_BL|QT_MIN_STATUS_0_U3M_BUREAU_BL|QT_TT_STATUS_X_U3M_BUREAU_BL|QT_MED_STATUS_X_U3M_BUREAU_BL|QT_MAX_STATUS_X_U3M_BUREAU_BL|QT_MIN_STATUS_X_U3M_BUREAU_BL|QT_TT_STATUS_1_U3M_BUREAU_BL|QT_MED_STATUS_1_U3M_BUREAU_BL|QT_MAX_STATUS_1_U3M_BUREAU_BL|QT_MIN_STATUS_1_U3M_BUREAU_BL|QT_TT_STATUS_C_U6M_BUREAU_BL|QT_MED_STATUS_C_U6M_BUREAU_BL|QT_MAX_STATUS_C_U6M_BUREAU_BL|QT_MIN_STATUS_C_U6M_BUREAU_BL|QT_TT_STATUS_0_U6M_BUREAU_BL|QT_MED_STATUS_0_U6M_BUREAU_BL|QT_MAX_STATUS_0_U6M_BUREAU_BL|QT_MIN_STATUS_0_U6M_BUREAU_BL|QT_TT_STATUS_X_U6M_BUREAU_BL|QT_MED_STATUS_X_U6M_BUREAU_BL|QT_MAX_STATUS_X_U6M_BUREAU_BL|QT_MIN_STATUS_X_U6M_BUREAU_BL|QT_TT_STATUS_1_U6M_BUREAU_BL|QT_MED_STATUS_1_U6M_BUREAU_BL|QT_MAX_STATUS_1_U6M_BUREAU_BL|QT_MIN_STATUS_1_U6M_BUREAU_BL|QT_TT_STATUS_C_U9M_BUREAU_BL|QT_MED_STATUS_C_U9M_BUREAU_BL|QT_MAX_STATUS_C_U9M_BUREAU_BL|QT_MIN_STATUS_C_U9M_BUREAU_BL|QT_TT_STATUS_0_U9M_BUREAU_BL|QT_MED_STATUS_0_U9M_BUREAU_BL|QT_MAX_STATUS_0_U9M_BUREAU_BL|QT_MIN_STATUS_0_U9M_BUREAU_BL|QT_TT_STATUS_X_U9M_BUREAU_BL|QT_MED_STATUS_X_U9M_BUREAU_BL|QT_MAX_STATUS_X_U9M_BUREAU_BL|QT_MIN_STATUS_X_U9M_BUREAU_BL|QT_TT_STATUS_1_U9M_BUREAU_BL|QT_MED_STATUS_1_U9M_BUREAU_BL|QT_MAX_STATUS_1_U9M_BUREAU_BL|QT_MIN_STATUS_1_U9M_BUREAU_BL|QT_TT_STATUS_C_U12M_BUREAU_BL|QT_MED_STATUS_C_U12M_BUREAU_BL|QT_MAX_STATUS_C_U12M_BUREAU_BL|QT_MIN_STATUS_C_U12M_BUREAU_BL|QT_TT_STATUS_0_U12M_BUREAU_BL|QT_MED_STATUS_0_U12M_BUREAU_BL|QT_MAX_STATUS_0_U12M_BUREAU_BL|QT_MIN_STATUS_0_U12M_BUREAU_BL|QT_TT_STATUS_X_U12M_BUREAU_BL|QT_MED_STATUS_X_U12M_BUREAU_BL|QT_MAX_STATUS_X_U12M_BUREAU_BL|QT_MIN_STATUS_X_U12M_BUREAU_BL|QT_TT_STATUS_1_U12M_BUREAU_BL|QT_MED_STATUS_1_U12M_BUREAU_BL|QT_MAX_STATUS_1_U12M_BUREAU_BL|QT_MIN_STATUS_1_U12M_BUREAU_BL|U3M|U6M|U9M|U12M|CRED_ACT_CLD|CRED_ACT_ACT|\n",
      "+------------+----------+-------------+---------------+-----------+------------------+-------------------+-----------------+----------------------+------------------+--------------+-------------------+--------------------+----------------------+---------------+------------------+-----------+----------------------------+-----------------------------+-----------------------------+-----------------------------+----------------------------+-----------------------------+-----------------------------+-----------------------------+----------------------------+-----------------------------+-----------------------------+-----------------------------+----------------------------+-----------------------------+-----------------------------+-----------------------------+----------------------------+-----------------------------+-----------------------------+-----------------------------+----------------------------+-----------------------------+-----------------------------+-----------------------------+----------------------------+-----------------------------+-----------------------------+-----------------------------+----------------------------+-----------------------------+-----------------------------+-----------------------------+----------------------------+-----------------------------+-----------------------------+-----------------------------+----------------------------+-----------------------------+-----------------------------+-----------------------------+----------------------------+-----------------------------+-----------------------------+-----------------------------+----------------------------+-----------------------------+-----------------------------+-----------------------------+-----------------------------+------------------------------+------------------------------+------------------------------+-----------------------------+------------------------------+------------------------------+------------------------------+-----------------------------+------------------------------+------------------------------+------------------------------+-----------------------------+------------------------------+------------------------------+------------------------------+---+---+---+----+------------+------------+\n",
      "|     5000000|    166497|       CLOSED|     CURRENCY 1|      -2918|                 0|            -2613.0|          -2639.0|                  NULL|                 0|       29443.5|                0.0|                NULL|                   0.0|CONSUMER CREDIT|             -2512|       NULL|                        NULL|                         NULL|                         NULL|                         NULL|                        NULL|                         NULL|                         NULL|                         NULL|                        NULL|                         NULL|                         NULL|                         NULL|                        NULL|                         NULL|                         NULL|                         NULL|                        NULL|                         NULL|                         NULL|                         NULL|                        NULL|                         NULL|                         NULL|                         NULL|                        NULL|                         NULL|                         NULL|                         NULL|                        NULL|                         NULL|                         NULL|                         NULL|                        NULL|                         NULL|                         NULL|                         NULL|                        NULL|                         NULL|                         NULL|                         NULL|                        NULL|                         NULL|                         NULL|                         NULL|                        NULL|                         NULL|                         NULL|                         NULL|                         NULL|                          NULL|                          NULL|                          NULL|                         NULL|                          NULL|                          NULL|                          NULL|                         NULL|                          NULL|                          NULL|                          NULL|                         NULL|                          NULL|                          NULL|                          NULL|  0|  0|  0|   0|           1|           0|\n",
      "|     5000001|    166497|       CLOSED|     CURRENCY 1|      -1015|                 0|             -831.0|           -891.0|              2223.855|                 0|       13810.5|                0.0|                 0.0|                   0.0|CONSUMER CREDIT|              -891|       NULL|                        NULL|                         NULL|                         NULL|                         NULL|                        NULL|                         NULL|                         NULL|                         NULL|                        NULL|                         NULL|                         NULL|                         NULL|                        NULL|                         NULL|                         NULL|                         NULL|                        NULL|                         NULL|                         NULL|                         NULL|                        NULL|                         NULL|                         NULL|                         NULL|                        NULL|                         NULL|                         NULL|                         NULL|                        NULL|                         NULL|                         NULL|                         NULL|                        NULL|                         NULL|                         NULL|                         NULL|                        NULL|                         NULL|                         NULL|                         NULL|                        NULL|                         NULL|                         NULL|                         NULL|                        NULL|                         NULL|                         NULL|                         NULL|                         NULL|                          NULL|                          NULL|                          NULL|                         NULL|                          NULL|                          NULL|                          NULL|                         NULL|                          NULL|                          NULL|                          NULL|                         NULL|                          NULL|                          NULL|                          NULL|  0|  0|  0|   0|           1|           0|\n",
      "|     5000002|    166497|       CLOSED|     CURRENCY 1|       -149|                 0|              -26.0|            -26.0|                   0.0|                 0|       13455.0|                0.0|                 0.0|                   0.0|CONSUMER CREDIT|               -23|       NULL|                        NULL|                         NULL|                         NULL|                         NULL|                        NULL|                         NULL|                         NULL|                         NULL|                        NULL|                         NULL|                         NULL|                         NULL|                        NULL|                         NULL|                         NULL|                         NULL|                        NULL|                         NULL|                         NULL|                         NULL|                        NULL|                         NULL|                         NULL|                         NULL|                        NULL|                         NULL|                         NULL|                         NULL|                        NULL|                         NULL|                         NULL|                         NULL|                        NULL|                         NULL|                         NULL|                         NULL|                        NULL|                         NULL|                         NULL|                         NULL|                        NULL|                         NULL|                         NULL|                         NULL|                        NULL|                         NULL|                         NULL|                         NULL|                         NULL|                          NULL|                          NULL|                          NULL|                         NULL|                          NULL|                          NULL|                          NULL|                         NULL|                          NULL|                          NULL|                          NULL|                         NULL|                          NULL|                          NULL|                          NULL|  0|  1|  1|   1|           1|           0|\n",
      "|     5000003|    166497|       CLOSED|     CURRENCY 1|       -135|                 0|              230.0|            -42.0|                   0.0|                 0|       37350.0|                0.0|                 0.0|                   0.0|CONSUMER CREDIT|               -42|       NULL|                        NULL|                         NULL|                         NULL|                         NULL|                        NULL|                         NULL|                         NULL|                         NULL|                        NULL|                         NULL|                         NULL|                         NULL|                        NULL|                         NULL|                         NULL|                         NULL|                        NULL|                         NULL|                         NULL|                         NULL|                        NULL|                         NULL|                         NULL|                         NULL|                        NULL|                         NULL|                         NULL|                         NULL|                        NULL|                         NULL|                         NULL|                         NULL|                        NULL|                         NULL|                         NULL|                         NULL|                        NULL|                         NULL|                         NULL|                         NULL|                        NULL|                         NULL|                         NULL|                         NULL|                        NULL|                         NULL|                         NULL|                         NULL|                         NULL|                          NULL|                          NULL|                          NULL|                         NULL|                          NULL|                          NULL|                          NULL|                         NULL|                          NULL|                          NULL|                          NULL|                         NULL|                          NULL|                          NULL|                          NULL|  0|  1|  1|   1|           1|           0|\n",
      "|     5000004|    166497|       ACTIVE|     CURRENCY 1|        -47|                 0|              320.0|             NULL|                   0.0|                 0|     315127.62|          315127.62|                 0.0|                   0.0|CONSUMER CREDIT|               -17|       NULL|                        NULL|                         NULL|                         NULL|                         NULL|                        NULL|                         NULL|                         NULL|                         NULL|                        NULL|                         NULL|                         NULL|                         NULL|                        NULL|                         NULL|                         NULL|                         NULL|                        NULL|                         NULL|                         NULL|                         NULL|                        NULL|                         NULL|                         NULL|                         NULL|                        NULL|                         NULL|                         NULL|                         NULL|                        NULL|                         NULL|                         NULL|                         NULL|                        NULL|                         NULL|                         NULL|                         NULL|                        NULL|                         NULL|                         NULL|                         NULL|                        NULL|                         NULL|                         NULL|                         NULL|                        NULL|                         NULL|                         NULL|                         NULL|                         NULL|                          NULL|                          NULL|                          NULL|                         NULL|                          NULL|                          NULL|                          NULL|                         NULL|                          NULL|                          NULL|                          NULL|                         NULL|                          NULL|                          NULL|                          NULL|  1|  1|  1|   1|           0|           1|\n",
      "+------------+----------+-------------+---------------+-----------+------------------+-------------------+-----------------+----------------------+------------------+--------------+-------------------+--------------------+----------------------+---------------+------------------+-----------+----------------------------+-----------------------------+-----------------------------+-----------------------------+----------------------------+-----------------------------+-----------------------------+-----------------------------+----------------------------+-----------------------------+-----------------------------+-----------------------------+----------------------------+-----------------------------+-----------------------------+-----------------------------+----------------------------+-----------------------------+-----------------------------+-----------------------------+----------------------------+-----------------------------+-----------------------------+-----------------------------+----------------------------+-----------------------------+-----------------------------+-----------------------------+----------------------------+-----------------------------+-----------------------------+-----------------------------+----------------------------+-----------------------------+-----------------------------+-----------------------------+----------------------------+-----------------------------+-----------------------------+-----------------------------+----------------------------+-----------------------------+-----------------------------+-----------------------------+----------------------------+-----------------------------+-----------------------------+-----------------------------+-----------------------------+------------------------------+------------------------------+------------------------------+-----------------------------+------------------------------+------------------------------+------------------------------+-----------------------------+------------------------------+------------------------------+------------------------------+-----------------------------+------------------------------+------------------------------+------------------------------+---+---+---+----+------------+------------+\n",
      "only showing top 5 rows\n",
      "\n"
     ]
    },
    {
     "name": "stderr",
     "output_type": "stream",
     "text": [
      "                                                                                "
     ]
    }
   ],
   "source": [
    "df_temp_01.createOrReplaceTempView(\"df_temp_01\")\n",
    "\n",
    "df_temp_02 = spark.sql(\"\"\"\n",
    "SELECT\n",
    "    *,\n",
    "      CASE\n",
    "        WHEN CREDIT_ACTIVE = \"CLOSED\" THEN 1\n",
    "        ELSE 0\n",
    "    END AS CRED_ACT_CLD,\n",
    "    CASE\n",
    "        WHEN CREDIT_ACTIVE = \"ACTIVE\" THEN 1\n",
    "        ELSE 0\n",
    "    END AS CRED_ACT_ACT\n",
    "FROM df_temp_01\n",
    "ORDER BY `SK_ID_BUREAU`;\n",
    "\"\"\")\n",
    "df_temp_02.createOrReplaceTempView(\"df_temp_01\")\n",
    "df_temp_02.show(5)"
   ]
  },
  {
   "cell_type": "code",
   "execution_count": 10,
   "id": "54014007-31a8-4c2f-8c54-b060900aa9dc",
   "metadata": {},
   "outputs": [
    {
     "name": "stderr",
     "output_type": "stream",
     "text": [
      "                                                                                "
     ]
    }
   ],
   "source": [
    "qtd_linhas = df_temp_02.count()"
   ]
  },
  {
   "cell_type": "code",
   "execution_count": 12,
   "id": "120373ab-b4e4-4a22-9603-7c9601a9c456",
   "metadata": {},
   "outputs": [
    {
     "name": "stderr",
     "output_type": "stream",
     "text": [
      "[Stage 30:===================>                                      (2 + 4) / 6]"
     ]
    },
    {
     "name": "stdout",
     "output_type": "stream",
     "text": [
      "+---------------+-------+-----------+\n",
      "|CREDIT_CURRENCY|VOLUME |VOL_PERCENT|\n",
      "+---------------+-------+-----------+\n",
      "|CURRENCY 1     |1715020|99.92      |\n",
      "|CURRENCY 2     |1224   |0.07       |\n",
      "|CURRENCY 3     |174    |0.01       |\n",
      "|CURRENCY 4     |10     |0.0        |\n",
      "+---------------+-------+-----------+\n",
      "\n"
     ]
    },
    {
     "name": "stderr",
     "output_type": "stream",
     "text": [
      "                                                                                "
     ]
    }
   ],
   "source": [
    "\n",
    "spark.sql(\"\"\"\n",
    "            Select\n",
    "                CREDIT_CURRENCY,\n",
    "                count(*) as VOLUME,\n",
    "                round(100*(count(*)/{}),2) as VOL_PERCENT\n",
    "            from \n",
    "                df_temp_01\n",
    "            group by \n",
    "                CREDIT_CURRENCY\n",
    "            order by \n",
    "                VOLUME desc\n",
    "\"\"\".format(qtd_linhas)).show(50,False)"
   ]
  },
  {
   "cell_type": "code",
   "execution_count": 13,
   "id": "e2b622b4-d88e-4a21-b78c-fccd57a0f0c1",
   "metadata": {},
   "outputs": [
    {
     "name": "stderr",
     "output_type": "stream",
     "text": [
      "                                                                                "
     ]
    },
    {
     "name": "stdout",
     "output_type": "stream",
     "text": [
      "+------------+----------+-------------+---------------+-----------+------------------+-------------------+-----------------+----------------------+------------------+--------------+-------------------+--------------------+----------------------+---------------+------------------+-----------+----------------------------+-----------------------------+-----------------------------+-----------------------------+----------------------------+-----------------------------+-----------------------------+-----------------------------+----------------------------+-----------------------------+-----------------------------+-----------------------------+----------------------------+-----------------------------+-----------------------------+-----------------------------+----------------------------+-----------------------------+-----------------------------+-----------------------------+----------------------------+-----------------------------+-----------------------------+-----------------------------+----------------------------+-----------------------------+-----------------------------+-----------------------------+----------------------------+-----------------------------+-----------------------------+-----------------------------+----------------------------+-----------------------------+-----------------------------+-----------------------------+----------------------------+-----------------------------+-----------------------------+-----------------------------+----------------------------+-----------------------------+-----------------------------+-----------------------------+----------------------------+-----------------------------+-----------------------------+-----------------------------+-----------------------------+------------------------------+------------------------------+------------------------------+-----------------------------+------------------------------+------------------------------+------------------------------+-----------------------------+------------------------------+------------------------------+------------------------------+-----------------------------+------------------------------+------------------------------+------------------------------+---+---+---+----+------------+------------+-----------+\n",
      "|SK_ID_BUREAU|SK_ID_CURR|CREDIT_ACTIVE|CREDIT_CURRENCY|DAYS_CREDIT|CREDIT_DAY_OVERDUE|DAYS_CREDIT_ENDDATE|DAYS_ENDDATE_FACT|AMT_CREDIT_MAX_OVERDUE|CNT_CREDIT_PROLONG|AMT_CREDIT_SUM|AMT_CREDIT_SUM_DEBT|AMT_CREDIT_SUM_LIMIT|AMT_CREDIT_SUM_OVERDUE|    CREDIT_TYPE|DAYS_CREDIT_UPDATE|AMT_ANNUITY|QT_TT_STATUS_C_U3M_BUREAU_BL|QT_MED_STATUS_C_U3M_BUREAU_BL|QT_MAX_STATUS_C_U3M_BUREAU_BL|QT_MIN_STATUS_C_U3M_BUREAU_BL|QT_TT_STATUS_0_U3M_BUREAU_BL|QT_MED_STATUS_0_U3M_BUREAU_BL|QT_MAX_STATUS_0_U3M_BUREAU_BL|QT_MIN_STATUS_0_U3M_BUREAU_BL|QT_TT_STATUS_X_U3M_BUREAU_BL|QT_MED_STATUS_X_U3M_BUREAU_BL|QT_MAX_STATUS_X_U3M_BUREAU_BL|QT_MIN_STATUS_X_U3M_BUREAU_BL|QT_TT_STATUS_1_U3M_BUREAU_BL|QT_MED_STATUS_1_U3M_BUREAU_BL|QT_MAX_STATUS_1_U3M_BUREAU_BL|QT_MIN_STATUS_1_U3M_BUREAU_BL|QT_TT_STATUS_C_U6M_BUREAU_BL|QT_MED_STATUS_C_U6M_BUREAU_BL|QT_MAX_STATUS_C_U6M_BUREAU_BL|QT_MIN_STATUS_C_U6M_BUREAU_BL|QT_TT_STATUS_0_U6M_BUREAU_BL|QT_MED_STATUS_0_U6M_BUREAU_BL|QT_MAX_STATUS_0_U6M_BUREAU_BL|QT_MIN_STATUS_0_U6M_BUREAU_BL|QT_TT_STATUS_X_U6M_BUREAU_BL|QT_MED_STATUS_X_U6M_BUREAU_BL|QT_MAX_STATUS_X_U6M_BUREAU_BL|QT_MIN_STATUS_X_U6M_BUREAU_BL|QT_TT_STATUS_1_U6M_BUREAU_BL|QT_MED_STATUS_1_U6M_BUREAU_BL|QT_MAX_STATUS_1_U6M_BUREAU_BL|QT_MIN_STATUS_1_U6M_BUREAU_BL|QT_TT_STATUS_C_U9M_BUREAU_BL|QT_MED_STATUS_C_U9M_BUREAU_BL|QT_MAX_STATUS_C_U9M_BUREAU_BL|QT_MIN_STATUS_C_U9M_BUREAU_BL|QT_TT_STATUS_0_U9M_BUREAU_BL|QT_MED_STATUS_0_U9M_BUREAU_BL|QT_MAX_STATUS_0_U9M_BUREAU_BL|QT_MIN_STATUS_0_U9M_BUREAU_BL|QT_TT_STATUS_X_U9M_BUREAU_BL|QT_MED_STATUS_X_U9M_BUREAU_BL|QT_MAX_STATUS_X_U9M_BUREAU_BL|QT_MIN_STATUS_X_U9M_BUREAU_BL|QT_TT_STATUS_1_U9M_BUREAU_BL|QT_MED_STATUS_1_U9M_BUREAU_BL|QT_MAX_STATUS_1_U9M_BUREAU_BL|QT_MIN_STATUS_1_U9M_BUREAU_BL|QT_TT_STATUS_C_U12M_BUREAU_BL|QT_MED_STATUS_C_U12M_BUREAU_BL|QT_MAX_STATUS_C_U12M_BUREAU_BL|QT_MIN_STATUS_C_U12M_BUREAU_BL|QT_TT_STATUS_0_U12M_BUREAU_BL|QT_MED_STATUS_0_U12M_BUREAU_BL|QT_MAX_STATUS_0_U12M_BUREAU_BL|QT_MIN_STATUS_0_U12M_BUREAU_BL|QT_TT_STATUS_X_U12M_BUREAU_BL|QT_MED_STATUS_X_U12M_BUREAU_BL|QT_MAX_STATUS_X_U12M_BUREAU_BL|QT_MIN_STATUS_X_U12M_BUREAU_BL|QT_TT_STATUS_1_U12M_BUREAU_BL|QT_MED_STATUS_1_U12M_BUREAU_BL|QT_MAX_STATUS_1_U12M_BUREAU_BL|QT_MIN_STATUS_1_U12M_BUREAU_BL|U3M|U6M|U9M|U12M|CRED_ACT_CLD|CRED_ACT_ACT|CRED_CURR_1|\n",
      "+------------+----------+-------------+---------------+-----------+------------------+-------------------+-----------------+----------------------+------------------+--------------+-------------------+--------------------+----------------------+---------------+------------------+-----------+----------------------------+-----------------------------+-----------------------------+-----------------------------+----------------------------+-----------------------------+-----------------------------+-----------------------------+----------------------------+-----------------------------+-----------------------------+-----------------------------+----------------------------+-----------------------------+-----------------------------+-----------------------------+----------------------------+-----------------------------+-----------------------------+-----------------------------+----------------------------+-----------------------------+-----------------------------+-----------------------------+----------------------------+-----------------------------+-----------------------------+-----------------------------+----------------------------+-----------------------------+-----------------------------+-----------------------------+----------------------------+-----------------------------+-----------------------------+-----------------------------+----------------------------+-----------------------------+-----------------------------+-----------------------------+----------------------------+-----------------------------+-----------------------------+-----------------------------+----------------------------+-----------------------------+-----------------------------+-----------------------------+-----------------------------+------------------------------+------------------------------+------------------------------+-----------------------------+------------------------------+------------------------------+------------------------------+-----------------------------+------------------------------+------------------------------+------------------------------+-----------------------------+------------------------------+------------------------------+------------------------------+---+---+---+----+------------+------------+-----------+\n",
      "|     5000000|    166497|       CLOSED|     CURRENCY 1|      -2918|                 0|            -2613.0|          -2639.0|                  NULL|                 0|       29443.5|                0.0|                NULL|                   0.0|CONSUMER CREDIT|             -2512|       NULL|                        NULL|                         NULL|                         NULL|                         NULL|                        NULL|                         NULL|                         NULL|                         NULL|                        NULL|                         NULL|                         NULL|                         NULL|                        NULL|                         NULL|                         NULL|                         NULL|                        NULL|                         NULL|                         NULL|                         NULL|                        NULL|                         NULL|                         NULL|                         NULL|                        NULL|                         NULL|                         NULL|                         NULL|                        NULL|                         NULL|                         NULL|                         NULL|                        NULL|                         NULL|                         NULL|                         NULL|                        NULL|                         NULL|                         NULL|                         NULL|                        NULL|                         NULL|                         NULL|                         NULL|                        NULL|                         NULL|                         NULL|                         NULL|                         NULL|                          NULL|                          NULL|                          NULL|                         NULL|                          NULL|                          NULL|                          NULL|                         NULL|                          NULL|                          NULL|                          NULL|                         NULL|                          NULL|                          NULL|                          NULL|  0|  0|  0|   0|           1|           0|          1|\n",
      "|     5000001|    166497|       CLOSED|     CURRENCY 1|      -1015|                 0|             -831.0|           -891.0|              2223.855|                 0|       13810.5|                0.0|                 0.0|                   0.0|CONSUMER CREDIT|              -891|       NULL|                        NULL|                         NULL|                         NULL|                         NULL|                        NULL|                         NULL|                         NULL|                         NULL|                        NULL|                         NULL|                         NULL|                         NULL|                        NULL|                         NULL|                         NULL|                         NULL|                        NULL|                         NULL|                         NULL|                         NULL|                        NULL|                         NULL|                         NULL|                         NULL|                        NULL|                         NULL|                         NULL|                         NULL|                        NULL|                         NULL|                         NULL|                         NULL|                        NULL|                         NULL|                         NULL|                         NULL|                        NULL|                         NULL|                         NULL|                         NULL|                        NULL|                         NULL|                         NULL|                         NULL|                        NULL|                         NULL|                         NULL|                         NULL|                         NULL|                          NULL|                          NULL|                          NULL|                         NULL|                          NULL|                          NULL|                          NULL|                         NULL|                          NULL|                          NULL|                          NULL|                         NULL|                          NULL|                          NULL|                          NULL|  0|  0|  0|   0|           1|           0|          1|\n",
      "|     5000002|    166497|       CLOSED|     CURRENCY 1|       -149|                 0|              -26.0|            -26.0|                   0.0|                 0|       13455.0|                0.0|                 0.0|                   0.0|CONSUMER CREDIT|               -23|       NULL|                        NULL|                         NULL|                         NULL|                         NULL|                        NULL|                         NULL|                         NULL|                         NULL|                        NULL|                         NULL|                         NULL|                         NULL|                        NULL|                         NULL|                         NULL|                         NULL|                        NULL|                         NULL|                         NULL|                         NULL|                        NULL|                         NULL|                         NULL|                         NULL|                        NULL|                         NULL|                         NULL|                         NULL|                        NULL|                         NULL|                         NULL|                         NULL|                        NULL|                         NULL|                         NULL|                         NULL|                        NULL|                         NULL|                         NULL|                         NULL|                        NULL|                         NULL|                         NULL|                         NULL|                        NULL|                         NULL|                         NULL|                         NULL|                         NULL|                          NULL|                          NULL|                          NULL|                         NULL|                          NULL|                          NULL|                          NULL|                         NULL|                          NULL|                          NULL|                          NULL|                         NULL|                          NULL|                          NULL|                          NULL|  0|  1|  1|   1|           1|           0|          1|\n",
      "|     5000003|    166497|       CLOSED|     CURRENCY 1|       -135|                 0|              230.0|            -42.0|                   0.0|                 0|       37350.0|                0.0|                 0.0|                   0.0|CONSUMER CREDIT|               -42|       NULL|                        NULL|                         NULL|                         NULL|                         NULL|                        NULL|                         NULL|                         NULL|                         NULL|                        NULL|                         NULL|                         NULL|                         NULL|                        NULL|                         NULL|                         NULL|                         NULL|                        NULL|                         NULL|                         NULL|                         NULL|                        NULL|                         NULL|                         NULL|                         NULL|                        NULL|                         NULL|                         NULL|                         NULL|                        NULL|                         NULL|                         NULL|                         NULL|                        NULL|                         NULL|                         NULL|                         NULL|                        NULL|                         NULL|                         NULL|                         NULL|                        NULL|                         NULL|                         NULL|                         NULL|                        NULL|                         NULL|                         NULL|                         NULL|                         NULL|                          NULL|                          NULL|                          NULL|                         NULL|                          NULL|                          NULL|                          NULL|                         NULL|                          NULL|                          NULL|                          NULL|                         NULL|                          NULL|                          NULL|                          NULL|  0|  1|  1|   1|           1|           0|          1|\n",
      "|     5000004|    166497|       ACTIVE|     CURRENCY 1|        -47|                 0|              320.0|             NULL|                   0.0|                 0|     315127.62|          315127.62|                 0.0|                   0.0|CONSUMER CREDIT|               -17|       NULL|                        NULL|                         NULL|                         NULL|                         NULL|                        NULL|                         NULL|                         NULL|                         NULL|                        NULL|                         NULL|                         NULL|                         NULL|                        NULL|                         NULL|                         NULL|                         NULL|                        NULL|                         NULL|                         NULL|                         NULL|                        NULL|                         NULL|                         NULL|                         NULL|                        NULL|                         NULL|                         NULL|                         NULL|                        NULL|                         NULL|                         NULL|                         NULL|                        NULL|                         NULL|                         NULL|                         NULL|                        NULL|                         NULL|                         NULL|                         NULL|                        NULL|                         NULL|                         NULL|                         NULL|                        NULL|                         NULL|                         NULL|                         NULL|                         NULL|                          NULL|                          NULL|                          NULL|                         NULL|                          NULL|                          NULL|                          NULL|                         NULL|                          NULL|                          NULL|                          NULL|                         NULL|                          NULL|                          NULL|                          NULL|  1|  1|  1|   1|           0|           1|          1|\n",
      "+------------+----------+-------------+---------------+-----------+------------------+-------------------+-----------------+----------------------+------------------+--------------+-------------------+--------------------+----------------------+---------------+------------------+-----------+----------------------------+-----------------------------+-----------------------------+-----------------------------+----------------------------+-----------------------------+-----------------------------+-----------------------------+----------------------------+-----------------------------+-----------------------------+-----------------------------+----------------------------+-----------------------------+-----------------------------+-----------------------------+----------------------------+-----------------------------+-----------------------------+-----------------------------+----------------------------+-----------------------------+-----------------------------+-----------------------------+----------------------------+-----------------------------+-----------------------------+-----------------------------+----------------------------+-----------------------------+-----------------------------+-----------------------------+----------------------------+-----------------------------+-----------------------------+-----------------------------+----------------------------+-----------------------------+-----------------------------+-----------------------------+----------------------------+-----------------------------+-----------------------------+-----------------------------+----------------------------+-----------------------------+-----------------------------+-----------------------------+-----------------------------+------------------------------+------------------------------+------------------------------+-----------------------------+------------------------------+------------------------------+------------------------------+-----------------------------+------------------------------+------------------------------+------------------------------+-----------------------------+------------------------------+------------------------------+------------------------------+---+---+---+----+------------+------------+-----------+\n",
      "only showing top 5 rows\n",
      "\n"
     ]
    }
   ],
   "source": [
    "df_temp_02.createOrReplaceTempView(\"df_temp_02\")\n",
    "\n",
    "df_temp_03 = spark.sql(\"\"\"\n",
    "SELECT\n",
    "    *,\n",
    "      CASE\n",
    "        WHEN CREDIT_CURRENCY = \"CURRENCY 1\" THEN 1\n",
    "        ELSE 0\n",
    "    END AS CRED_CURR_1\n",
    "FROM df_temp_02\n",
    "ORDER BY `SK_ID_BUREAU`;\n",
    "\"\"\")\n",
    "df_temp_03.createOrReplaceTempView(\"df_temp_02\")\n",
    "df_temp_03.show(5)"
   ]
  },
  {
   "cell_type": "markdown",
   "id": "c51d10f5-6edb-46bf-8c67-b46b5f34093c",
   "metadata": {},
   "source": [
    "## Criando váriaveis de primeira camada"
   ]
  },
  {
   "cell_type": "code",
   "execution_count": 14,
   "id": "798d3f07-f762-4cf9-a3e0-c00017c979b7",
   "metadata": {},
   "outputs": [
    {
     "name": "stdout",
     "output_type": "stream",
     "text": [
      "Quantidade Total de Variáveis Criadas: 154\n",
      "Nomes das Variáveis Criadas: ['QT_MAX_CREDIT_DAY_OVERDUE_U3M_BUREAU', 'QT_MIN_CREDIT_DAY_OVERDUE_U3M_BUREAU', 'QT_MAX_DAYS_CREDIT_ENDDATE_U3M_BUREAU', 'QT_MIN_DAYS_CREDIT_ENDDATE_U3M_BUREAU', 'QT_MAX_DAYS_ENDDATE_FACT_U3M_BUREAU', 'QT_MIN_DAYS_ENDDATE_FACT_U3M_BUREAU', 'VL_TOT_AMT_CREDIT_MAX_OVERDUE_U3M_BUREAU', 'VL_MED_AMT_CREDIT_MAX_OVERDUE_U3M_BUREAU', 'VL_TOT_CNT_CREDIT_PROLONG_U3M_BUREAU', 'VL_MED_CNT_CREDIT_PROLONG_U3M_BUREAU', 'VL_TOT_AMT_CREDIT_SUM_U3M_BUREAU', 'VL_MED_AMT_CREDIT_SUM_U3M_BUREAU', 'VL_TOT_AMT_CREDIT_SUM_DEBT_U3M_BUREAU', 'VL_MED_AMT_CREDIT_SUM_DEBT_U3M_BUREAU', 'VL_TOT_AMT_CREDIT_SUM_LIMIT_U3M_BUREAU', 'VL_MED_AMT_CREDIT_SUM_LIMIT_U3M_BUREAU', 'VL_TOT_AMT_CREDIT_SUM_OVERDUE_U3M_BUREAU', 'VL_MED_AMT_CREDIT_SUM_OVERDUE_U3M_BUREAU', 'QT_MAX_DAYS_CREDIT_UPDATE_U3M_BUREAU', 'QT_MIN_DAYS_CREDIT_UPDATE_U3M_BUREAU', 'VL_TOT_AMT_ANNUITY_U3M_BUREAU', 'VL_MED_AMT_ANNUITY_U3M_BUREAU', 'QT_MAX_CREDIT_DAY_OVERDUE_U6M_BUREAU', 'QT_MIN_CREDIT_DAY_OVERDUE_U6M_BUREAU', 'QT_MAX_DAYS_CREDIT_ENDDATE_U6M_BUREAU', 'QT_MIN_DAYS_CREDIT_ENDDATE_U6M_BUREAU', 'QT_MAX_DAYS_ENDDATE_FACT_U6M_BUREAU', 'QT_MIN_DAYS_ENDDATE_FACT_U6M_BUREAU', 'VL_TOT_AMT_CREDIT_MAX_OVERDUE_U6M_BUREAU', 'VL_MED_AMT_CREDIT_MAX_OVERDUE_U6M_BUREAU', 'VL_TOT_CNT_CREDIT_PROLONG_U6M_BUREAU', 'VL_MED_CNT_CREDIT_PROLONG_U6M_BUREAU', 'VL_TOT_AMT_CREDIT_SUM_U6M_BUREAU', 'VL_MED_AMT_CREDIT_SUM_U6M_BUREAU', 'VL_TOT_AMT_CREDIT_SUM_DEBT_U6M_BUREAU', 'VL_MED_AMT_CREDIT_SUM_DEBT_U6M_BUREAU', 'VL_TOT_AMT_CREDIT_SUM_LIMIT_U6M_BUREAU', 'VL_MED_AMT_CREDIT_SUM_LIMIT_U6M_BUREAU', 'VL_TOT_AMT_CREDIT_SUM_OVERDUE_U6M_BUREAU', 'VL_MED_AMT_CREDIT_SUM_OVERDUE_U6M_BUREAU', 'QT_MAX_DAYS_CREDIT_UPDATE_U6M_BUREAU', 'QT_MIN_DAYS_CREDIT_UPDATE_U6M_BUREAU', 'VL_TOT_AMT_ANNUITY_U6M_BUREAU', 'VL_MED_AMT_ANNUITY_U6M_BUREAU', 'QT_MAX_CREDIT_DAY_OVERDUE_U9M_BUREAU', 'QT_MIN_CREDIT_DAY_OVERDUE_U9M_BUREAU', 'QT_MAX_DAYS_CREDIT_ENDDATE_U9M_BUREAU', 'QT_MIN_DAYS_CREDIT_ENDDATE_U9M_BUREAU', 'QT_MAX_DAYS_ENDDATE_FACT_U9M_BUREAU', 'QT_MIN_DAYS_ENDDATE_FACT_U9M_BUREAU', 'VL_TOT_AMT_CREDIT_MAX_OVERDUE_U9M_BUREAU', 'VL_MED_AMT_CREDIT_MAX_OVERDUE_U9M_BUREAU', 'VL_TOT_CNT_CREDIT_PROLONG_U9M_BUREAU', 'VL_MED_CNT_CREDIT_PROLONG_U9M_BUREAU', 'VL_TOT_AMT_CREDIT_SUM_U9M_BUREAU', 'VL_MED_AMT_CREDIT_SUM_U9M_BUREAU', 'VL_TOT_AMT_CREDIT_SUM_DEBT_U9M_BUREAU', 'VL_MED_AMT_CREDIT_SUM_DEBT_U9M_BUREAU', 'VL_TOT_AMT_CREDIT_SUM_LIMIT_U9M_BUREAU', 'VL_MED_AMT_CREDIT_SUM_LIMIT_U9M_BUREAU', 'VL_TOT_AMT_CREDIT_SUM_OVERDUE_U9M_BUREAU', 'VL_MED_AMT_CREDIT_SUM_OVERDUE_U9M_BUREAU', 'QT_MAX_DAYS_CREDIT_UPDATE_U9M_BUREAU', 'QT_MIN_DAYS_CREDIT_UPDATE_U9M_BUREAU', 'VL_TOT_AMT_ANNUITY_U9M_BUREAU', 'VL_MED_AMT_ANNUITY_U9M_BUREAU', 'QT_MAX_CREDIT_DAY_OVERDUE_U12M_BUREAU', 'QT_MIN_CREDIT_DAY_OVERDUE_U12M_BUREAU', 'QT_MAX_DAYS_CREDIT_ENDDATE_U12M_BUREAU', 'QT_MIN_DAYS_CREDIT_ENDDATE_U12M_BUREAU', 'QT_MAX_DAYS_ENDDATE_FACT_U12M_BUREAU', 'QT_MIN_DAYS_ENDDATE_FACT_U12M_BUREAU', 'VL_TOT_AMT_CREDIT_MAX_OVERDUE_U12M_BUREAU', 'VL_MED_AMT_CREDIT_MAX_OVERDUE_U12M_BUREAU', 'VL_TOT_CNT_CREDIT_PROLONG_U12M_BUREAU', 'VL_MED_CNT_CREDIT_PROLONG_U12M_BUREAU', 'VL_TOT_AMT_CREDIT_SUM_U12M_BUREAU', 'VL_MED_AMT_CREDIT_SUM_U12M_BUREAU', 'VL_TOT_AMT_CREDIT_SUM_DEBT_U12M_BUREAU', 'VL_MED_AMT_CREDIT_SUM_DEBT_U12M_BUREAU', 'VL_TOT_AMT_CREDIT_SUM_LIMIT_U12M_BUREAU', 'VL_MED_AMT_CREDIT_SUM_LIMIT_U12M_BUREAU', 'VL_TOT_AMT_CREDIT_SUM_OVERDUE_U12M_BUREAU', 'VL_MED_AMT_CREDIT_SUM_OVERDUE_U12M_BUREAU', 'QT_MAX_DAYS_CREDIT_UPDATE_U12M_BUREAU', 'QT_MIN_DAYS_CREDIT_UPDATE_U12M_BUREAU', 'VL_TOT_AMT_ANNUITY_U12M_BUREAU', 'VL_MED_AMT_ANNUITY_U12M_BUREAU', 'QT_MAX_CREDIT_DAY_OVERDUE_CRED_ACT_CLD_BUREAU', 'QT_MIN_CREDIT_DAY_OVERDUE_CRED_ACT_CLD_BUREAU', 'QT_MAX_DAYS_CREDIT_ENDDATE_CRED_ACT_CLD_BUREAU', 'QT_MIN_DAYS_CREDIT_ENDDATE_CRED_ACT_CLD_BUREAU', 'QT_MAX_DAYS_ENDDATE_FACT_CRED_ACT_CLD_BUREAU', 'QT_MIN_DAYS_ENDDATE_FACT_CRED_ACT_CLD_BUREAU', 'VL_TOT_AMT_CREDIT_MAX_OVERDUE_CRED_ACT_CLD_BUREAU', 'VL_MED_AMT_CREDIT_MAX_OVERDUE_CRED_ACT_CLD_BUREAU', 'VL_TOT_CNT_CREDIT_PROLONG_CRED_ACT_CLD_BUREAU', 'VL_MED_CNT_CREDIT_PROLONG_CRED_ACT_CLD_BUREAU', 'VL_TOT_AMT_CREDIT_SUM_CRED_ACT_CLD_BUREAU', 'VL_MED_AMT_CREDIT_SUM_CRED_ACT_CLD_BUREAU', 'VL_TOT_AMT_CREDIT_SUM_DEBT_CRED_ACT_CLD_BUREAU', 'VL_MED_AMT_CREDIT_SUM_DEBT_CRED_ACT_CLD_BUREAU', 'VL_TOT_AMT_CREDIT_SUM_LIMIT_CRED_ACT_CLD_BUREAU', 'VL_MED_AMT_CREDIT_SUM_LIMIT_CRED_ACT_CLD_BUREAU', 'VL_TOT_AMT_CREDIT_SUM_OVERDUE_CRED_ACT_CLD_BUREAU', 'VL_MED_AMT_CREDIT_SUM_OVERDUE_CRED_ACT_CLD_BUREAU', 'QT_MAX_DAYS_CREDIT_UPDATE_CRED_ACT_CLD_BUREAU', 'QT_MIN_DAYS_CREDIT_UPDATE_CRED_ACT_CLD_BUREAU', 'VL_TOT_AMT_ANNUITY_CRED_ACT_CLD_BUREAU', 'VL_MED_AMT_ANNUITY_CRED_ACT_CLD_BUREAU', 'QT_MAX_CREDIT_DAY_OVERDUE_CRED_ACT_ACT_BUREAU', 'QT_MIN_CREDIT_DAY_OVERDUE_CRED_ACT_ACT_BUREAU', 'QT_MAX_DAYS_CREDIT_ENDDATE_CRED_ACT_ACT_BUREAU', 'QT_MIN_DAYS_CREDIT_ENDDATE_CRED_ACT_ACT_BUREAU', 'QT_MAX_DAYS_ENDDATE_FACT_CRED_ACT_ACT_BUREAU', 'QT_MIN_DAYS_ENDDATE_FACT_CRED_ACT_ACT_BUREAU', 'VL_TOT_AMT_CREDIT_MAX_OVERDUE_CRED_ACT_ACT_BUREAU', 'VL_MED_AMT_CREDIT_MAX_OVERDUE_CRED_ACT_ACT_BUREAU', 'VL_TOT_CNT_CREDIT_PROLONG_CRED_ACT_ACT_BUREAU', 'VL_MED_CNT_CREDIT_PROLONG_CRED_ACT_ACT_BUREAU', 'VL_TOT_AMT_CREDIT_SUM_CRED_ACT_ACT_BUREAU', 'VL_MED_AMT_CREDIT_SUM_CRED_ACT_ACT_BUREAU', 'VL_TOT_AMT_CREDIT_SUM_DEBT_CRED_ACT_ACT_BUREAU', 'VL_MED_AMT_CREDIT_SUM_DEBT_CRED_ACT_ACT_BUREAU', 'VL_TOT_AMT_CREDIT_SUM_LIMIT_CRED_ACT_ACT_BUREAU', 'VL_MED_AMT_CREDIT_SUM_LIMIT_CRED_ACT_ACT_BUREAU', 'VL_TOT_AMT_CREDIT_SUM_OVERDUE_CRED_ACT_ACT_BUREAU', 'VL_MED_AMT_CREDIT_SUM_OVERDUE_CRED_ACT_ACT_BUREAU', 'QT_MAX_DAYS_CREDIT_UPDATE_CRED_ACT_ACT_BUREAU', 'QT_MIN_DAYS_CREDIT_UPDATE_CRED_ACT_ACT_BUREAU', 'VL_TOT_AMT_ANNUITY_CRED_ACT_ACT_BUREAU', 'VL_MED_AMT_ANNUITY_CRED_ACT_ACT_BUREAU', 'QT_MAX_CREDIT_DAY_OVERDUE_CRED_CURR_1_BUREAU', 'QT_MIN_CREDIT_DAY_OVERDUE_CRED_CURR_1_BUREAU', 'QT_MAX_DAYS_CREDIT_ENDDATE_CRED_CURR_1_BUREAU', 'QT_MIN_DAYS_CREDIT_ENDDATE_CRED_CURR_1_BUREAU', 'QT_MAX_DAYS_ENDDATE_FACT_CRED_CURR_1_BUREAU', 'QT_MIN_DAYS_ENDDATE_FACT_CRED_CURR_1_BUREAU', 'VL_TOT_AMT_CREDIT_MAX_OVERDUE_CRED_CURR_1_BUREAU', 'VL_MED_AMT_CREDIT_MAX_OVERDUE_CRED_CURR_1_BUREAU', 'VL_TOT_CNT_CREDIT_PROLONG_CRED_CURR_1_BUREAU', 'VL_MED_CNT_CREDIT_PROLONG_CRED_CURR_1_BUREAU', 'VL_TOT_AMT_CREDIT_SUM_CRED_CURR_1_BUREAU', 'VL_MED_AMT_CREDIT_SUM_CRED_CURR_1_BUREAU', 'VL_TOT_AMT_CREDIT_SUM_DEBT_CRED_CURR_1_BUREAU', 'VL_MED_AMT_CREDIT_SUM_DEBT_CRED_CURR_1_BUREAU', 'VL_TOT_AMT_CREDIT_SUM_LIMIT_CRED_CURR_1_BUREAU', 'VL_MED_AMT_CREDIT_SUM_LIMIT_CRED_CURR_1_BUREAU', 'VL_TOT_AMT_CREDIT_SUM_OVERDUE_CRED_CURR_1_BUREAU', 'VL_MED_AMT_CREDIT_SUM_OVERDUE_CRED_CURR_1_BUREAU', 'QT_MAX_DAYS_CREDIT_UPDATE_CRED_CURR_1_BUREAU', 'QT_MIN_DAYS_CREDIT_UPDATE_CRED_CURR_1_BUREAU', 'VL_TOT_AMT_ANNUITY_CRED_CURR_1_BUREAU', 'VL_MED_AMT_ANNUITY_CRED_CURR_1_BUREAU']\n",
      "\n",
      "\n"
     ]
    },
    {
     "name": "stderr",
     "output_type": "stream",
     "text": [
      "[Stage 39:======================================>                   (4 + 2) / 6]"
     ]
    },
    {
     "name": "stdout",
     "output_type": "stream",
     "text": [
      "Quantidade de linhas do DataFrame: 305811\n",
      "Quantidade de colunas do DataFrame: 155\n",
      "\n",
      "\n"
     ]
    },
    {
     "name": "stderr",
     "output_type": "stream",
     "text": [
      "                                                                                "
     ]
    }
   ],
   "source": [
    "from pyspark.sql.functions import col, round, sum, avg, max, min, when\n",
    "\n",
    "# Função para gerar expressões de agregação com flags\n",
    "def gerar_expressoes_agregacao_com_flags(colunas_agregacao_total, colunas_flags):\n",
    "    expressoes_agregacao = []\n",
    "\n",
    "    for flag in colunas_flags:\n",
    "        for coluna in colunas_agregacao_total:\n",
    "            if 'DAY' in coluna:\n",
    "                expressoes_agregacao.append(round(max(when(col(flag) == 1, col(coluna))), 2).alias(f\"QT_MAX_{coluna.upper()}_{flag.upper()}_BUREAU\"))\n",
    "                expressoes_agregacao.append(round(min(when(col(flag) == 1, col(coluna))), 2).alias(f\"QT_MIN_{coluna.upper()}_{flag.upper()}_BUREAU\"))\n",
    "            else:\n",
    "                expressoes_agregacao.append(round(sum(when(col(flag) == 1, col(coluna))), 2).alias(f\"VL_TOT_{coluna.upper()}_{flag.upper()}_BUREAU\"))\n",
    "                expressoes_agregacao.append(round(avg(when(col(flag) == 1, col(coluna))), 2).alias(f\"VL_MED_{coluna.upper()}_{flag.upper()}_BUREAU\"))\n",
    "\n",
    "    return expressoes_agregacao\n",
    "\n",
    "# Função para gerar expressões de agregação sem flags, apenas com categorias\n",
    "def gerar_expressoes_agregacao_sem_flags(colunas_agregacao_total, colunas_cat):\n",
    "    expressoes_agregacao = []\n",
    "\n",
    "    for cat in colunas_cat:\n",
    "        for coluna in colunas_agregacao_total:\n",
    "            if 'DAY' in coluna:\n",
    "                expressoes_agregacao.append(round(max(when(col(cat) == 1, col(coluna))), 2).alias(f\"QT_MAX_{coluna.upper()}_{cat.upper()}_BUREAU\"))\n",
    "                expressoes_agregacao.append(round(min(when(col(cat) == 1, col(coluna))), 2).alias(f\"QT_MIN_{coluna.upper()}_{cat.upper()}_BUREAU\"))\n",
    "            else:\n",
    "                expressoes_agregacao.append(round(sum(when(col(cat) == 1, col(coluna))), 2).alias(f\"VL_TOT_{coluna.upper()}_{cat.upper()}_BUREAU\"))\n",
    "                expressoes_agregacao.append(round(avg(when(col(cat) == 1, col(coluna))), 2).alias(f\"VL_MED_{coluna.upper()}_{cat.upper()}_BUREAU\"))\n",
    "\n",
    "    return expressoes_agregacao\n",
    "\n",
    "# Definir as colunas para agregação\n",
    "colunas_agregacao_total = ['CREDIT_DAY_OVERDUE', 'DAYS_CREDIT_ENDDATE', 'DAYS_ENDDATE_FACT', 'AMT_CREDIT_MAX_OVERDUE',\n",
    "                           'CNT_CREDIT_PROLONG', 'AMT_CREDIT_SUM', 'AMT_CREDIT_SUM_DEBT',\n",
    "                           'AMT_CREDIT_SUM_LIMIT', 'AMT_CREDIT_SUM_OVERDUE', 'DAYS_CREDIT_UPDATE', 'AMT_ANNUITY']\n",
    "\n",
    "colunas_flags = ['U3M','U6M', 'U9M', 'U12M']\n",
    "colunas_cat1 = ['CRED_ACT_CLD', 'CRED_ACT_ACT']\n",
    "colunas_cat2 = ['CRED_CURR_1']\n",
    "\n",
    "# Gerar expressões de agregação para flags\n",
    "expressoes_agregacao_flags = gerar_expressoes_agregacao_com_flags(colunas_agregacao_total, colunas_flags)\n",
    "\n",
    "# Gerar expressões de agregação para categorias (sem flags)\n",
    "expressoes_agregacao_cat1 = gerar_expressoes_agregacao_sem_flags(colunas_agregacao_total, colunas_cat1)\n",
    "expressoes_agregacao_cat2 = gerar_expressoes_agregacao_sem_flags(colunas_agregacao_total, colunas_cat2)\n",
    "\n",
    "# Combinar todas as expressões de agregação\n",
    "expressoes_agregacao = expressoes_agregacao_flags + expressoes_agregacao_cat1 + expressoes_agregacao_cat2\n",
    "\n",
    "# Aplicar as expressões de agregação\n",
    "df_temp_04 = df_temp_03.groupBy(\"SK_ID_CURR\").agg(*expressoes_agregacao).orderBy(\"SK_ID_CURR\")\n",
    "\n",
    "\n",
    "# Quantidade e nome das variáveis criadas.\n",
    "nomes_cols = df_temp_04.columns\n",
    "nomes_cols_novas = nomes_cols[1:]\n",
    "print('Quantidade Total de Variáveis Criadas:', len(df_temp_04.columns) - 1)\n",
    "print('Nomes das Variáveis Criadas:', nomes_cols_novas)\n",
    "print('')\n",
    "print('')\n",
    "\n",
    "# Quantidade de linhas do DataFrame.\n",
    "num_rows_df = df_temp_04.count()\n",
    "\n",
    "# Quantidade de colunas do DataFrame.\n",
    "num_columns_df = len(df_temp_04.columns)\n",
    "\n",
    "# Imprimir o resultado de número de linhas e colunas.\n",
    "print(f'Quantidade de linhas do DataFrame: {num_rows_df}')\n",
    "print(f'Quantidade de colunas do DataFrame: {num_columns_df}')\n",
    "print('')\n",
    "print('')"
   ]
  },
  {
   "cell_type": "code",
   "execution_count": 15,
   "id": "c7ee2dbb-e179-461e-8c94-b7d697d785b5",
   "metadata": {},
   "outputs": [
    {
     "name": "stderr",
     "output_type": "stream",
     "text": [
      "                                                                                "
     ]
    }
   ],
   "source": [
    "df_temp_04.write.mode(\"overwrite\").parquet('/data/books/bureau')\n"
   ]
  },
  {
   "cell_type": "code",
   "execution_count": 16,
   "id": "63563cf4-adc3-4149-b229-67b622ec93b0",
   "metadata": {},
   "outputs": [],
   "source": [
    "spark.stop()"
   ]
  }
 ],
 "metadata": {
  "kernelspec": {
   "display_name": "Python 3 (ipykernel)",
   "language": "python",
   "name": "python3"
  },
  "language_info": {
   "codemirror_mode": {
    "name": "ipython",
    "version": 3
   },
   "file_extension": ".py",
   "mimetype": "text/x-python",
   "name": "python",
   "nbconvert_exporter": "python",
   "pygments_lexer": "ipython3",
   "version": "3.9.2"
  }
 },
 "nbformat": 4,
 "nbformat_minor": 5
}
