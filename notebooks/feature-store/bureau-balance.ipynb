{
 "cells": [
  {
   "cell_type": "code",
   "execution_count": 1,
   "id": "73a236e8-4519-4dd5-b210-b56d81f73522",
   "metadata": {},
   "outputs": [
    {
     "name": "stderr",
     "output_type": "stream",
     "text": [
      "Setting default log level to \"WARN\".\n",
      "To adjust logging level use sc.setLogLevel(newLevel). For SparkR, use setLogLevel(newLevel).\n",
      "25/07/21 12:03:09 WARN NativeCodeLoader: Unable to load native-hadoop library for your platform... using builtin-java classes where applicable\n"
     ]
    }
   ],
   "source": [
    "import findspark\n",
    "findspark.init()\n",
    "\n",
    "from pyspark.sql import SparkSession\n",
    "from pyspark.sql.functions import col\n",
    "from pyspark.sql.types import IntegerType\n",
    "from pyspark.sql.functions import to_date, lit, date_format\n",
    "\n",
    "try:\n",
    "    spark.stop()\n",
    "except:\n",
    "    pass\n",
    "\n",
    "spark = SparkSession.builder \\\n",
    "    .appName(\"Bureau-Balance\") \\\n",
    "    .master(\"spark://spark-master:7077\") \\\n",
    "    .config(\"spark.executor.memory\", \"2g\") \\\n",
    "    .config(\"spark.executor.cores\", \"2\") \\\n",
    "    .getOrCreate()"
   ]
  },
  {
   "cell_type": "code",
   "execution_count": 7,
   "id": "75410742-c70e-43d2-a7f5-81e4ebcf3536",
   "metadata": {},
   "outputs": [
    {
     "name": "stderr",
     "output_type": "stream",
     "text": [
      "                                                                                "
     ]
    },
    {
     "name": "stdout",
     "output_type": "stream",
     "text": [
      "Quantidade de linhas: 27299925\n",
      "Quantidade de variaveis (colunas): 3\n",
      "+------------+--------------+------+\n",
      "|SK_ID_BUREAU|MONTHS_BALANCE|STATUS|\n",
      "+------------+--------------+------+\n",
      "|5715448     |0             |C     |\n",
      "|5715448     |-1            |C     |\n",
      "|5715448     |-2            |C     |\n",
      "|5715448     |-3            |C     |\n",
      "|5715448     |-4            |C     |\n",
      "+------------+--------------+------+\n",
      "only showing top 5 rows\n",
      "\n"
     ]
    }
   ],
   "source": [
    "\n",
    "bureau_bl = spark.read.csv(\"/data/raw/bureau_balance.csv\",\n",
    "                               header=True,\n",
    "                               inferSchema=True)\n",
    "\n",
    "bureau_bl.createOrReplaceTempView(\"bureau_bl\")\n",
    "\n",
    "# Contagem de linhas e colunas\n",
    "num_rows = bureau_bl.count()\n",
    "num_columns = len(bureau_bl.columns)\n",
    "\n",
    "print(f'Quantidade de linhas: {num_rows}')\n",
    "print(f'Quantidade de variaveis (colunas): {num_columns}')\n",
    "\n",
    "bureau_bl.show(5, truncate=False)\n"
   ]
  },
  {
   "cell_type": "markdown",
   "id": "6a251954-514f-4869-92fc-258b2b66a310",
   "metadata": {},
   "source": [
    "## Criando variáveis de flag temporal"
   ]
  },
  {
   "cell_type": "code",
   "execution_count": 15,
   "id": "bd56033a-7e48-4cf0-a9b5-480bd3489574",
   "metadata": {},
   "outputs": [
    {
     "name": "stderr",
     "output_type": "stream",
     "text": [
      "[Stage 20:=========>                                                (1 + 5) / 6]"
     ]
    },
    {
     "name": "stdout",
     "output_type": "stream",
     "text": [
      "+------------+--------------+------+---+---+---+----+\n",
      "|SK_ID_BUREAU|MONTHS_BALANCE|STATUS|U3M|U6M|U9M|U12M|\n",
      "+------------+--------------+------+---+---+---+----+\n",
      "|     5001709|             0|     C|  1|  1|  1|   1|\n",
      "|     5001709|            -5|     C|  0|  1|  1|   1|\n",
      "|     5001709|            -1|     C|  1|  1|  1|   1|\n",
      "|     5001709|            -2|     C|  1|  1|  1|   1|\n",
      "|     5001709|            -3|     C|  1|  1|  1|   1|\n",
      "+------------+--------------+------+---+---+---+----+\n",
      "only showing top 5 rows\n",
      "\n"
     ]
    },
    {
     "name": "stderr",
     "output_type": "stream",
     "text": [
      "                                                                                "
     ]
    }
   ],
   "source": [
    "\n",
    "df_temp_01 = spark.sql(\"\"\"\n",
    "SELECT\n",
    "    *,\n",
    "      CASE\n",
    "        WHEN MONTHS_BALANCE >= -3 THEN 1\n",
    "        ELSE 0\n",
    "    END AS U3M,\n",
    "    CASE\n",
    "        WHEN MONTHS_BALANCE >= -6 THEN 1\n",
    "        ELSE 0\n",
    "    END AS U6M,\n",
    "    CASE\n",
    "        WHEN MONTHS_BALANCE >= -9 THEN 1\n",
    "        ELSE 0\n",
    "    END AS U9M,\n",
    "    CASE\n",
    "        WHEN MONTHS_BALANCE >= -12 THEN 1\n",
    "        ELSE 0\n",
    "    END AS U12M\n",
    "FROM bureau_bl\n",
    "ORDER BY `SK_ID_BUREAU`;\n",
    "\"\"\")\n",
    "df_temp_01.createOrReplaceTempView(\"df_temp_01\")\n",
    "df_temp_01.show(5)\n",
    "\n"
   ]
  },
  {
   "cell_type": "code",
   "execution_count": 12,
   "id": "32d508b2-c789-4838-8e40-41cc758a1bf4",
   "metadata": {},
   "outputs": [
    {
     "name": "stderr",
     "output_type": "stream",
     "text": [
      "                                                                                "
     ]
    }
   ],
   "source": [
    "qtd_linhas = df_temp_01.count()"
   ]
  },
  {
   "cell_type": "code",
   "execution_count": 13,
   "id": "0f9b6423-f8e4-4c2b-ab42-09ccc213ceef",
   "metadata": {},
   "outputs": [
    {
     "name": "stderr",
     "output_type": "stream",
     "text": [
      "[Stage 16:======================================>                   (4 + 2) / 6]"
     ]
    },
    {
     "name": "stdout",
     "output_type": "stream",
     "text": [
      "+------+--------+-----------+\n",
      "|STATUS|VOLUME  |VOL_PERCENT|\n",
      "+------+--------+-----------+\n",
      "|C     |13646993|49.99      |\n",
      "|0     |7499507 |27.47      |\n",
      "|X     |5810482 |21.28      |\n",
      "|1     |242347  |0.89       |\n",
      "|5     |62406   |0.23       |\n",
      "|2     |23419   |0.09       |\n",
      "|3     |8924    |0.03       |\n",
      "|4     |5847    |0.02       |\n",
      "+------+--------+-----------+\n",
      "\n"
     ]
    },
    {
     "name": "stderr",
     "output_type": "stream",
     "text": [
      "                                                                                "
     ]
    }
   ],
   "source": [
    "\n",
    "spark.sql(\"\"\"\n",
    "            Select\n",
    "                STATUS,\n",
    "                count(*) as VOLUME,\n",
    "                round(100*(count(*)/{}),2) as VOL_PERCENT\n",
    "            from \n",
    "                df_temp_01\n",
    "            group by \n",
    "                STATUS\n",
    "            order by \n",
    "                VOLUME desc\n",
    "\"\"\".format(qtd_linhas)).show(50,False)\n"
   ]
  },
  {
   "cell_type": "code",
   "execution_count": 16,
   "id": "98b13c5b-6d91-46cc-ac52-2d4832878756",
   "metadata": {},
   "outputs": [
    {
     "name": "stderr",
     "output_type": "stream",
     "text": [
      "[Stage 21:================================================>         (5 + 1) / 6]"
     ]
    },
    {
     "name": "stdout",
     "output_type": "stream",
     "text": [
      "+------------+--------------+------+---+---+---+----+--------+--------+--------+--------+\n",
      "|SK_ID_BUREAU|MONTHS_BALANCE|STATUS|U3M|U6M|U9M|U12M|STATUS_C|STATUS_0|STATUS_X|STATUS_1|\n",
      "+------------+--------------+------+---+---+---+----+--------+--------+--------+--------+\n",
      "|     5001709|             0|     C|  1|  1|  1|   1|       1|       0|       0|       0|\n",
      "|     5001709|            -5|     C|  0|  1|  1|   1|       1|       0|       0|       0|\n",
      "|     5001709|            -1|     C|  1|  1|  1|   1|       1|       0|       0|       0|\n",
      "|     5001709|            -2|     C|  1|  1|  1|   1|       1|       0|       0|       0|\n",
      "|     5001709|            -3|     C|  1|  1|  1|   1|       1|       0|       0|       0|\n",
      "+------------+--------------+------+---+---+---+----+--------+--------+--------+--------+\n",
      "only showing top 5 rows\n",
      "\n"
     ]
    },
    {
     "name": "stderr",
     "output_type": "stream",
     "text": [
      "                                                                                "
     ]
    }
   ],
   "source": [
    "\n",
    "df_temp_02 = spark.sql(\"\"\"\n",
    "SELECT\n",
    "    *,\n",
    "      CASE\n",
    "        WHEN STATUS = \"C\" THEN 1\n",
    "        ELSE 0\n",
    "    END AS STATUS_C,\n",
    "    CASE\n",
    "        WHEN STATUS = \"0\" THEN 1\n",
    "        ELSE 0\n",
    "    END AS STATUS_0,\n",
    "    CASE\n",
    "        WHEN STATUS = \"X\" THEN 1\n",
    "        ELSE 0\n",
    "    END AS STATUS_X,\n",
    "    CASE\n",
    "        WHEN STATUS = \"1\" THEN 1\n",
    "        ELSE 0\n",
    "    END AS STATUS_1\n",
    "FROM df_temp_01\n",
    "ORDER BY `SK_ID_BUREAU`;\n",
    "\"\"\")\n",
    "df_temp_02.createOrReplaceTempView(\"df_temp_01\")\n",
    "df_temp_02.show(5)"
   ]
  },
  {
   "cell_type": "markdown",
   "id": "cd00eb2b-a090-4897-97a9-f4e8e7409d1e",
   "metadata": {},
   "source": [
    "## Criando variáveis de primeira camada"
   ]
  },
  {
   "cell_type": "code",
   "execution_count": 17,
   "id": "f84eb7d1-68e1-48c0-a075-c8a942ef7503",
   "metadata": {},
   "outputs": [
    {
     "name": "stdout",
     "output_type": "stream",
     "text": [
      "Quantidade Total de Variáveis Criadas: 64\n",
      "Nomes das Variáveis Criadas: ['QT_TT_STATUS_C_U3M_BUREAU_BL', 'QT_MED_STATUS_C_U3M_BUREAU_BL', 'QT_MAX_STATUS_C_U3M_BUREAU_BL', 'QT_MIN_STATUS_C_U3M_BUREAU_BL', 'QT_TT_STATUS_0_U3M_BUREAU_BL', 'QT_MED_STATUS_0_U3M_BUREAU_BL', 'QT_MAX_STATUS_0_U3M_BUREAU_BL', 'QT_MIN_STATUS_0_U3M_BUREAU_BL', 'QT_TT_STATUS_X_U3M_BUREAU_BL', 'QT_MED_STATUS_X_U3M_BUREAU_BL', 'QT_MAX_STATUS_X_U3M_BUREAU_BL', 'QT_MIN_STATUS_X_U3M_BUREAU_BL', 'QT_TT_STATUS_1_U3M_BUREAU_BL', 'QT_MED_STATUS_1_U3M_BUREAU_BL', 'QT_MAX_STATUS_1_U3M_BUREAU_BL', 'QT_MIN_STATUS_1_U3M_BUREAU_BL', 'QT_TT_STATUS_C_U6M_BUREAU_BL', 'QT_MED_STATUS_C_U6M_BUREAU_BL', 'QT_MAX_STATUS_C_U6M_BUREAU_BL', 'QT_MIN_STATUS_C_U6M_BUREAU_BL', 'QT_TT_STATUS_0_U6M_BUREAU_BL', 'QT_MED_STATUS_0_U6M_BUREAU_BL', 'QT_MAX_STATUS_0_U6M_BUREAU_BL', 'QT_MIN_STATUS_0_U6M_BUREAU_BL', 'QT_TT_STATUS_X_U6M_BUREAU_BL', 'QT_MED_STATUS_X_U6M_BUREAU_BL', 'QT_MAX_STATUS_X_U6M_BUREAU_BL', 'QT_MIN_STATUS_X_U6M_BUREAU_BL', 'QT_TT_STATUS_1_U6M_BUREAU_BL', 'QT_MED_STATUS_1_U6M_BUREAU_BL', 'QT_MAX_STATUS_1_U6M_BUREAU_BL', 'QT_MIN_STATUS_1_U6M_BUREAU_BL', 'QT_TT_STATUS_C_U9M_BUREAU_BL', 'QT_MED_STATUS_C_U9M_BUREAU_BL', 'QT_MAX_STATUS_C_U9M_BUREAU_BL', 'QT_MIN_STATUS_C_U9M_BUREAU_BL', 'QT_TT_STATUS_0_U9M_BUREAU_BL', 'QT_MED_STATUS_0_U9M_BUREAU_BL', 'QT_MAX_STATUS_0_U9M_BUREAU_BL', 'QT_MIN_STATUS_0_U9M_BUREAU_BL', 'QT_TT_STATUS_X_U9M_BUREAU_BL', 'QT_MED_STATUS_X_U9M_BUREAU_BL', 'QT_MAX_STATUS_X_U9M_BUREAU_BL', 'QT_MIN_STATUS_X_U9M_BUREAU_BL', 'QT_TT_STATUS_1_U9M_BUREAU_BL', 'QT_MED_STATUS_1_U9M_BUREAU_BL', 'QT_MAX_STATUS_1_U9M_BUREAU_BL', 'QT_MIN_STATUS_1_U9M_BUREAU_BL', 'QT_TT_STATUS_C_U12M_BUREAU_BL', 'QT_MED_STATUS_C_U12M_BUREAU_BL', 'QT_MAX_STATUS_C_U12M_BUREAU_BL', 'QT_MIN_STATUS_C_U12M_BUREAU_BL', 'QT_TT_STATUS_0_U12M_BUREAU_BL', 'QT_MED_STATUS_0_U12M_BUREAU_BL', 'QT_MAX_STATUS_0_U12M_BUREAU_BL', 'QT_MIN_STATUS_0_U12M_BUREAU_BL', 'QT_TT_STATUS_X_U12M_BUREAU_BL', 'QT_MED_STATUS_X_U12M_BUREAU_BL', 'QT_MAX_STATUS_X_U12M_BUREAU_BL', 'QT_MIN_STATUS_X_U12M_BUREAU_BL', 'QT_TT_STATUS_1_U12M_BUREAU_BL', 'QT_MED_STATUS_1_U12M_BUREAU_BL', 'QT_MAX_STATUS_1_U12M_BUREAU_BL', 'QT_MIN_STATUS_1_U12M_BUREAU_BL']\n",
      "\n",
      "\n"
     ]
    },
    {
     "name": "stderr",
     "output_type": "stream",
     "text": [
      "25/07/21 12:14:56 WARN SparkStringUtils: Truncated the string representation of a plan since it was too large. This behavior can be adjusted by setting 'spark.sql.debug.maxToStringFields'.\n"
     ]
    },
    {
     "name": "stdout",
     "output_type": "stream",
     "text": [
      "Quantidade de linhas do DataFrame: 817395\n",
      "Quantidade de colunas do DataFrame: 65\n",
      "\n",
      "\n"
     ]
    },
    {
     "name": "stderr",
     "output_type": "stream",
     "text": [
      "[Stage 30:>                                                         (0 + 6) / 6]"
     ]
    },
    {
     "name": "stdout",
     "output_type": "stream",
     "text": [
      "+------------+----------------------------+-----------------------------+-----------------------------+-----------------------------+----------------------------+-----------------------------+-----------------------------+-----------------------------+----------------------------+-----------------------------+-----------------------------+-----------------------------+----------------------------+-----------------------------+-----------------------------+-----------------------------+----------------------------+-----------------------------+-----------------------------+-----------------------------+----------------------------+-----------------------------+-----------------------------+-----------------------------+----------------------------+-----------------------------+-----------------------------+-----------------------------+----------------------------+-----------------------------+-----------------------------+-----------------------------+----------------------------+-----------------------------+-----------------------------+-----------------------------+----------------------------+-----------------------------+-----------------------------+-----------------------------+----------------------------+-----------------------------+-----------------------------+-----------------------------+----------------------------+-----------------------------+-----------------------------+-----------------------------+-----------------------------+------------------------------+------------------------------+------------------------------+-----------------------------+------------------------------+------------------------------+------------------------------+-----------------------------+------------------------------+------------------------------+------------------------------+-----------------------------+------------------------------+------------------------------+------------------------------+\n",
      "|SK_ID_BUREAU|QT_TT_STATUS_C_U3M_BUREAU_BL|QT_MED_STATUS_C_U3M_BUREAU_BL|QT_MAX_STATUS_C_U3M_BUREAU_BL|QT_MIN_STATUS_C_U3M_BUREAU_BL|QT_TT_STATUS_0_U3M_BUREAU_BL|QT_MED_STATUS_0_U3M_BUREAU_BL|QT_MAX_STATUS_0_U3M_BUREAU_BL|QT_MIN_STATUS_0_U3M_BUREAU_BL|QT_TT_STATUS_X_U3M_BUREAU_BL|QT_MED_STATUS_X_U3M_BUREAU_BL|QT_MAX_STATUS_X_U3M_BUREAU_BL|QT_MIN_STATUS_X_U3M_BUREAU_BL|QT_TT_STATUS_1_U3M_BUREAU_BL|QT_MED_STATUS_1_U3M_BUREAU_BL|QT_MAX_STATUS_1_U3M_BUREAU_BL|QT_MIN_STATUS_1_U3M_BUREAU_BL|QT_TT_STATUS_C_U6M_BUREAU_BL|QT_MED_STATUS_C_U6M_BUREAU_BL|QT_MAX_STATUS_C_U6M_BUREAU_BL|QT_MIN_STATUS_C_U6M_BUREAU_BL|QT_TT_STATUS_0_U6M_BUREAU_BL|QT_MED_STATUS_0_U6M_BUREAU_BL|QT_MAX_STATUS_0_U6M_BUREAU_BL|QT_MIN_STATUS_0_U6M_BUREAU_BL|QT_TT_STATUS_X_U6M_BUREAU_BL|QT_MED_STATUS_X_U6M_BUREAU_BL|QT_MAX_STATUS_X_U6M_BUREAU_BL|QT_MIN_STATUS_X_U6M_BUREAU_BL|QT_TT_STATUS_1_U6M_BUREAU_BL|QT_MED_STATUS_1_U6M_BUREAU_BL|QT_MAX_STATUS_1_U6M_BUREAU_BL|QT_MIN_STATUS_1_U6M_BUREAU_BL|QT_TT_STATUS_C_U9M_BUREAU_BL|QT_MED_STATUS_C_U9M_BUREAU_BL|QT_MAX_STATUS_C_U9M_BUREAU_BL|QT_MIN_STATUS_C_U9M_BUREAU_BL|QT_TT_STATUS_0_U9M_BUREAU_BL|QT_MED_STATUS_0_U9M_BUREAU_BL|QT_MAX_STATUS_0_U9M_BUREAU_BL|QT_MIN_STATUS_0_U9M_BUREAU_BL|QT_TT_STATUS_X_U9M_BUREAU_BL|QT_MED_STATUS_X_U9M_BUREAU_BL|QT_MAX_STATUS_X_U9M_BUREAU_BL|QT_MIN_STATUS_X_U9M_BUREAU_BL|QT_TT_STATUS_1_U9M_BUREAU_BL|QT_MED_STATUS_1_U9M_BUREAU_BL|QT_MAX_STATUS_1_U9M_BUREAU_BL|QT_MIN_STATUS_1_U9M_BUREAU_BL|QT_TT_STATUS_C_U12M_BUREAU_BL|QT_MED_STATUS_C_U12M_BUREAU_BL|QT_MAX_STATUS_C_U12M_BUREAU_BL|QT_MIN_STATUS_C_U12M_BUREAU_BL|QT_TT_STATUS_0_U12M_BUREAU_BL|QT_MED_STATUS_0_U12M_BUREAU_BL|QT_MAX_STATUS_0_U12M_BUREAU_BL|QT_MIN_STATUS_0_U12M_BUREAU_BL|QT_TT_STATUS_X_U12M_BUREAU_BL|QT_MED_STATUS_X_U12M_BUREAU_BL|QT_MAX_STATUS_X_U12M_BUREAU_BL|QT_MIN_STATUS_X_U12M_BUREAU_BL|QT_TT_STATUS_1_U12M_BUREAU_BL|QT_MED_STATUS_1_U12M_BUREAU_BL|QT_MAX_STATUS_1_U12M_BUREAU_BL|QT_MIN_STATUS_1_U12M_BUREAU_BL|\n",
      "+------------+----------------------------+-----------------------------+-----------------------------+-----------------------------+----------------------------+-----------------------------+-----------------------------+-----------------------------+----------------------------+-----------------------------+-----------------------------+-----------------------------+----------------------------+-----------------------------+-----------------------------+-----------------------------+----------------------------+-----------------------------+-----------------------------+-----------------------------+----------------------------+-----------------------------+-----------------------------+-----------------------------+----------------------------+-----------------------------+-----------------------------+-----------------------------+----------------------------+-----------------------------+-----------------------------+-----------------------------+----------------------------+-----------------------------+-----------------------------+-----------------------------+----------------------------+-----------------------------+-----------------------------+-----------------------------+----------------------------+-----------------------------+-----------------------------+-----------------------------+----------------------------+-----------------------------+-----------------------------+-----------------------------+-----------------------------+------------------------------+------------------------------+------------------------------+-----------------------------+------------------------------+------------------------------+------------------------------+-----------------------------+------------------------------+------------------------------+------------------------------+-----------------------------+------------------------------+------------------------------+------------------------------+\n",
      "|5001709     |4                           |1.0                          |1                            |1                            |4                           |0.0                          |0                            |0                            |4                           |0.0                          |0                            |0                            |4                           |0.0                          |0                            |0                            |7                           |1.0                          |1                            |1                            |7                           |0.0                          |0                            |0                            |7                           |0.0                          |0                            |0                            |7                           |0.0                          |0                            |0                            |10                          |1.0                          |1                            |1                            |10                          |0.0                          |0                            |0                            |10                          |0.0                          |0                            |0                            |10                          |0.0                          |0                            |0                            |13                           |1.0                           |1                             |1                             |13                           |0.0                           |0                             |0                             |13                           |0.0                           |0                             |0                             |13                           |0.0                           |0                             |0                             |\n",
      "|5001710     |4                           |1.0                          |1                            |1                            |4                           |0.0                          |0                            |0                            |4                           |0.0                          |0                            |0                            |4                           |0.0                          |0                            |0                            |7                           |1.0                          |1                            |1                            |7                           |0.0                          |0                            |0                            |7                           |0.0                          |0                            |0                            |7                           |0.0                          |0                            |0                            |10                          |1.0                          |1                            |1                            |10                          |0.0                          |0                            |0                            |10                          |0.0                          |0                            |0                            |10                          |0.0                          |0                            |0                            |13                           |1.0                           |1                             |1                             |13                           |0.0                           |0                             |0                             |13                           |0.0                           |0                             |0                             |13                           |0.0                           |0                             |0                             |\n",
      "|5001711     |4                           |0.0                          |0                            |0                            |4                           |0.75                         |1                            |0                            |4                           |0.25                         |1                            |0                            |4                           |0.0                          |0                            |0                            |4                           |0.0                          |0                            |0                            |4                           |0.75                         |1                            |0                            |4                           |0.25                         |1                            |0                            |4                           |0.0                          |0                            |0                            |4                           |0.0                          |0                            |0                            |4                           |0.75                         |1                            |0                            |4                           |0.25                         |1                            |0                            |4                           |0.0                          |0                            |0                            |4                            |0.0                           |0                             |0                             |4                            |0.75                          |1                             |0                             |4                            |0.25                          |1                             |0                             |4                            |0.0                           |0                             |0                             |\n",
      "|5001712     |4                           |1.0                          |1                            |1                            |4                           |0.0                          |0                            |0                            |4                           |0.0                          |0                            |0                            |4                           |0.0                          |0                            |0                            |7                           |1.0                          |1                            |1                            |7                           |0.0                          |0                            |0                            |7                           |0.0                          |0                            |0                            |7                           |0.0                          |0                            |0                            |10                          |0.9                          |1                            |0                            |10                          |0.1                          |1                            |0                            |10                          |0.0                          |0                            |0                            |10                          |0.0                          |0                            |0                            |13                           |0.69                          |1                             |0                             |13                           |0.31                          |1                             |0                             |13                           |0.0                           |0                             |0                             |13                           |0.0                           |0                             |0                             |\n",
      "|5001713     |4                           |0.0                          |0                            |0                            |4                           |0.0                          |0                            |0                            |4                           |1.0                          |1                            |1                            |4                           |0.0                          |0                            |0                            |7                           |0.0                          |0                            |0                            |7                           |0.0                          |0                            |0                            |7                           |1.0                          |1                            |1                            |7                           |0.0                          |0                            |0                            |10                          |0.0                          |0                            |0                            |10                          |0.0                          |0                            |0                            |10                          |1.0                          |1                            |1                            |10                          |0.0                          |0                            |0                            |13                           |0.0                           |0                             |0                             |13                           |0.0                           |0                             |0                             |13                           |1.0                           |1                             |1                             |13                           |0.0                           |0                             |0                             |\n",
      "+------------+----------------------------+-----------------------------+-----------------------------+-----------------------------+----------------------------+-----------------------------+-----------------------------+-----------------------------+----------------------------+-----------------------------+-----------------------------+-----------------------------+----------------------------+-----------------------------+-----------------------------+-----------------------------+----------------------------+-----------------------------+-----------------------------+-----------------------------+----------------------------+-----------------------------+-----------------------------+-----------------------------+----------------------------+-----------------------------+-----------------------------+-----------------------------+----------------------------+-----------------------------+-----------------------------+-----------------------------+----------------------------+-----------------------------+-----------------------------+-----------------------------+----------------------------+-----------------------------+-----------------------------+-----------------------------+----------------------------+-----------------------------+-----------------------------+-----------------------------+----------------------------+-----------------------------+-----------------------------+-----------------------------+-----------------------------+------------------------------+------------------------------+------------------------------+-----------------------------+------------------------------+------------------------------+------------------------------+-----------------------------+------------------------------+------------------------------+------------------------------+-----------------------------+------------------------------+------------------------------+------------------------------+\n",
      "only showing top 5 rows\n",
      "\n"
     ]
    },
    {
     "name": "stderr",
     "output_type": "stream",
     "text": [
      "                                                                                "
     ]
    }
   ],
   "source": [
    "from pyspark.sql.functions import col, round, sum, avg, max, min, when, count, lit\n",
    "\n",
    "colunas_agregacao_total = ['STATUS_C','STATUS_0','STATUS_X','STATUS_1']\n",
    "\n",
    "colunas_flags = ['U3M','U6M', 'U9M', 'U12M']\n",
    "expressoes_agregacao = []\n",
    "\n",
    "for flag in colunas_flags:\n",
    "  for coluna in colunas_agregacao_total:\n",
    "    expressoes_agregacao.append(round(count(when(col(flag) == 1, col(coluna))), 2).alias(f\"QT_TT_{coluna.upper()}_{flag.upper()}_BUREAU_BL\"))\n",
    "    expressoes_agregacao.append(round(avg(when(col(flag) == 1, col(coluna)).otherwise(lit(None))), 2).alias(f\"QT_MED_{coluna.upper()}_{flag.upper()}_BUREAU_BL\"))\n",
    "    expressoes_agregacao.append(round(max(when(col(flag) == 1, col(coluna))), 2).alias(f\"QT_MAX_{coluna.upper()}_{flag.upper()}_BUREAU_BL\"))\n",
    "    expressoes_agregacao.append(round(min(when(col(flag) == 1, col(coluna))), 2).alias(f\"QT_MIN_{coluna.upper()}_{flag.upper()}_BUREAU_BL\"))\n",
    "\n",
    "\n",
    "expressoes_agregacao = tuple(expressoes_agregacao)\n",
    "\n",
    "# Aplicar as expressões de agregação\n",
    "df_temp_03 = df_temp_02.groupBy(\"SK_ID_BUREAU\").agg(*expressoes_agregacao).orderBy(\"SK_ID_BUREAU\")\n",
    "\n",
    "\n",
    "# Quantidade e nome das variáveis criadas.\n",
    "nomes_cols = df_temp_03.columns\n",
    "nomes_cols_novas = nomes_cols[1:]\n",
    "print('Quantidade Total de Variáveis Criadas:', len(df_temp_03.columns) - 1)\n",
    "print('Nomes das Variáveis Criadas:', nomes_cols_novas)\n",
    "print('')\n",
    "print('')\n",
    "\n",
    "# Quantidade de linhas do DataFrame.\n",
    "num_rows_df = df_temp_03.count()\n",
    "\n",
    "# Quantidade de colunas do DataFrame.\n",
    "num_columns_df = len(df_temp_03.columns)\n",
    "\n",
    "# Imprimir o resultado de número de linhas e colunas.\n",
    "print(f'Quantidade de linhas do DataFrame: {num_rows_df}')\n",
    "print(f'Quantidade de colunas do DataFrame: {num_columns_df}')\n",
    "print('')\n",
    "print('')\n",
    "\n",
    "# Mostrando o novo DataFrame com as variáveis criadas.\n",
    "df_temp_03.show(5, False)"
   ]
  },
  {
   "cell_type": "code",
   "execution_count": 19,
   "id": "25c4de11-6f44-4010-915c-1cf0627b3809",
   "metadata": {},
   "outputs": [
    {
     "name": "stderr",
     "output_type": "stream",
     "text": [
      "                                                                                "
     ]
    }
   ],
   "source": [
    "\n",
    "df_temp_03.write.mode(\"overwrite\").parquet('/data/books/bureau_balance')\n",
    "\n"
   ]
  },
  {
   "cell_type": "code",
   "execution_count": 20,
   "id": "301e9829-8ae7-4ad0-a314-c26988bae296",
   "metadata": {},
   "outputs": [],
   "source": [
    "spark.stop()"
   ]
  }
 ],
 "metadata": {
  "kernelspec": {
   "display_name": "Python 3 (ipykernel)",
   "language": "python",
   "name": "python3"
  },
  "language_info": {
   "codemirror_mode": {
    "name": "ipython",
    "version": 3
   },
   "file_extension": ".py",
   "mimetype": "text/x-python",
   "name": "python",
   "nbconvert_exporter": "python",
   "pygments_lexer": "ipython3",
   "version": "3.9.2"
  }
 },
 "nbformat": 4,
 "nbformat_minor": 5
}
