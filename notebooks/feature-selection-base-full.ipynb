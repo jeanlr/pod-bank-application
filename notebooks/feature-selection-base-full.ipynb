{
 "cells": [
  {
   "cell_type": "markdown",
   "id": "21222376",
   "metadata": {},
   "source": [
    "## Importando bibliotecas"
   ]
  },
  {
   "cell_type": "code",
   "execution_count": 33,
   "id": "dfde6512",
   "metadata": {},
   "outputs": [
    {
     "name": "stderr",
     "output_type": "stream",
     "text": [
      "/home/jean/projetos/pod-bank/.venv/lib/python3.12/site-packages/tqdm/auto.py:21: TqdmWarning: IProgress not found. Please update jupyter and ipywidgets. See https://ipywidgets.readthedocs.io/en/stable/user_install.html\n",
      "  from .autonotebook import tqdm as notebook_tqdm\n"
     ]
    }
   ],
   "source": [
    "import pandas as pd\n",
    "import numpy as np\n",
    "import random\n",
    "import gc\n",
    "import matplotlib.pyplot as plt\n",
    "from sklearn.preprocessing import StandardScaler\n",
    "from sklearn.impute import SimpleImputer\n",
    "from sklearn.feature_selection import VarianceThreshold\n",
    "from sklearn.preprocessing import LabelEncoder\n",
    "from sklearn.ensemble import GradientBoostingClassifier\n",
    "import sys\n",
    "sys.path.append(r'/home/jean/projetos/pod-bank/global/')\n",
    "from util import *\n",
    "# Definindo a semente\n",
    "random.seed(16)"
   ]
  },
  {
   "cell_type": "markdown",
   "id": "96ac458e",
   "metadata": {},
   "source": [
    "## Leitura dos dados"
   ]
  },
  {
   "cell_type": "code",
   "execution_count": 34,
   "id": "8c8d26bf",
   "metadata": {},
   "outputs": [],
   "source": [
    "df_treino_full = pd.read_parquet('../data/abt/abt_train', engine='fastparquet')"
   ]
  },
  {
   "cell_type": "code",
   "execution_count": 35,
   "id": "29af6e11",
   "metadata": {},
   "outputs": [
    {
     "data": {
      "text/plain": [
       "(215257, 552)"
      ]
     },
     "execution_count": 35,
     "metadata": {},
     "output_type": "execute_result"
    }
   ],
   "source": [
    "df_treino_full.shape"
   ]
  },
  {
   "cell_type": "code",
   "execution_count": 36,
   "id": "236cb219",
   "metadata": {},
   "outputs": [],
   "source": [
    "# Separando as variáveis de entrada (features) e de saída (target)\n",
    "X = df_treino_full.drop(columns=[\"SK_ID_CURR\" ,\"TARGET\"])\n",
    "y = df_treino_full[\"TARGET\"]"
   ]
  },
  {
   "cell_type": "markdown",
   "id": "85d705ab",
   "metadata": {},
   "source": [
    "## Primeira seleção de variáveis"
   ]
  },
  {
   "cell_type": "code",
   "execution_count": 37,
   "id": "a7c3c46b",
   "metadata": {},
   "outputs": [],
   "source": [
    "df_tratado, colunas_removidas_por_correlacao, metadata = preprocessar_df(\n",
    "    df=X,\n",
    "    y_train=y,\n",
    "    threshold=0.5,\n",
    "    percentual_preenchimento=70  # só mantém colunas com até 70% de nulos\n",
    ")\n"
   ]
  },
  {
   "cell_type": "markdown",
   "id": "280d3a43",
   "metadata": {},
   "source": [
    "## Nome das colunas selecionadas"
   ]
  },
  {
   "cell_type": "code",
   "execution_count": 38,
   "id": "bdc73c85",
   "metadata": {},
   "outputs": [],
   "source": [
    "nomes_colunas = df_tratado.columns.tolist()"
   ]
  },
  {
   "cell_type": "code",
   "execution_count": 39,
   "id": "a0d3ded1",
   "metadata": {},
   "outputs": [
    {
     "data": {
      "text/plain": [
       "(215257, 159)"
      ]
     },
     "execution_count": 39,
     "metadata": {},
     "output_type": "execute_result"
    }
   ],
   "source": [
    "df_tratado.shape"
   ]
  },
  {
   "cell_type": "markdown",
   "id": "cc6503e7",
   "metadata": {},
   "source": [
    "## Dataframe Final Selecionado"
   ]
  },
  {
   "cell_type": "code",
   "execution_count": 40,
   "id": "97ac6d82",
   "metadata": {},
   "outputs": [],
   "source": [
    "colunas_finais = nomes_colunas + [\"SK_ID_CURR\", \"TARGET\"]\n",
    "df_treino_full = df_treino_full[colunas_finais]"
   ]
  },
  {
   "cell_type": "code",
   "execution_count": 41,
   "id": "787edfba",
   "metadata": {},
   "outputs": [
    {
     "data": {
      "text/plain": [
       "(215257, 161)"
      ]
     },
     "execution_count": 41,
     "metadata": {},
     "output_type": "execute_result"
    }
   ],
   "source": [
    "df_treino_full.shape"
   ]
  },
  {
   "cell_type": "code",
   "execution_count": 42,
   "id": "3fb01472",
   "metadata": {},
   "outputs": [
    {
     "data": {
      "text/html": [
       "<div>\n",
       "<style scoped>\n",
       "    .dataframe tbody tr th:only-of-type {\n",
       "        vertical-align: middle;\n",
       "    }\n",
       "\n",
       "    .dataframe tbody tr th {\n",
       "        vertical-align: top;\n",
       "    }\n",
       "\n",
       "    .dataframe thead th {\n",
       "        text-align: right;\n",
       "    }\n",
       "</style>\n",
       "<table border=\"1\" class=\"dataframe\">\n",
       "  <thead>\n",
       "    <tr style=\"text-align: right;\">\n",
       "      <th></th>\n",
       "      <th>COMMONAREA_MODE</th>\n",
       "      <th>QT_MAX_QT_MAX_DAYS_ENTRY_PAYMENT_U3M_INSTALLMENTS_U12M_PREV_APP</th>\n",
       "      <th>VL_MED_VL_TOT_AMT_PAYMENT_U3M_INSTALLMENTS_U12M_PREV_APP</th>\n",
       "      <th>QT_MAX_QT_MIN_DAYS_ENTRY_PAYMENT_U3M_INSTALLMENTS_U12M_PREV_APP</th>\n",
       "      <th>NONLIVINGAPARTMENTS_AVG</th>\n",
       "      <th>VL_MED_AMT_CREDIT_SUM_LIMIT_U9M_BUREAU</th>\n",
       "      <th>FLOORSMIN_AVG</th>\n",
       "      <th>VL_MED_VL_MED_CNT_INSTALMENT_FUTURE_U6M_CANCELED_POS_CASH_U12M_PREV_APP</th>\n",
       "      <th>QT_MAX_QT_TOT_SK_DPD_U6M_DEMAND_POS_CASH_U12M_PREV_APP</th>\n",
       "      <th>YEARS_BUILD_AVG</th>\n",
       "      <th>...</th>\n",
       "      <th>FLAG_OWN_REALTY</th>\n",
       "      <th>NAME_FAMILY_STATUS</th>\n",
       "      <th>NAME_EDUCATION_TYPE</th>\n",
       "      <th>NAME_HOUSING_TYPE</th>\n",
       "      <th>WEEKDAY_APPR_PROCESS_START</th>\n",
       "      <th>FLAG_OWN_CAR</th>\n",
       "      <th>CODE_GENDER</th>\n",
       "      <th>NAME_CONTRACT_TYPE</th>\n",
       "      <th>SK_ID_CURR</th>\n",
       "      <th>TARGET</th>\n",
       "    </tr>\n",
       "  </thead>\n",
       "  <tbody>\n",
       "    <tr>\n",
       "      <th>0</th>\n",
       "      <td>0.0497</td>\n",
       "      <td>NaN</td>\n",
       "      <td>NaN</td>\n",
       "      <td>NaN</td>\n",
       "      <td>0.0039</td>\n",
       "      <td>NaN</td>\n",
       "      <td>0.3333</td>\n",
       "      <td>NaN</td>\n",
       "      <td>NaN</td>\n",
       "      <td>0.7960</td>\n",
       "      <td>...</td>\n",
       "      <td>N</td>\n",
       "      <td>Married</td>\n",
       "      <td>Higher education</td>\n",
       "      <td>House / apartment</td>\n",
       "      <td>MONDAY</td>\n",
       "      <td>N</td>\n",
       "      <td>F</td>\n",
       "      <td>Cash loans</td>\n",
       "      <td>100003</td>\n",
       "      <td>0</td>\n",
       "    </tr>\n",
       "    <tr>\n",
       "      <th>1</th>\n",
       "      <td>0.0029</td>\n",
       "      <td>-16.0</td>\n",
       "      <td>23284.40</td>\n",
       "      <td>-83.0</td>\n",
       "      <td>0.0039</td>\n",
       "      <td>NaN</td>\n",
       "      <td>0.2083</td>\n",
       "      <td>10.0</td>\n",
       "      <td>0.0</td>\n",
       "      <td>0.8436</td>\n",
       "      <td>...</td>\n",
       "      <td>Y</td>\n",
       "      <td>Married</td>\n",
       "      <td>Secondary / secondary special</td>\n",
       "      <td>House / apartment</td>\n",
       "      <td>WEDNESDAY</td>\n",
       "      <td>N</td>\n",
       "      <td>M</td>\n",
       "      <td>Revolving loans</td>\n",
       "      <td>100068</td>\n",
       "      <td>0</td>\n",
       "    </tr>\n",
       "    <tr>\n",
       "      <th>2</th>\n",
       "      <td>0.0069</td>\n",
       "      <td>NaN</td>\n",
       "      <td>NaN</td>\n",
       "      <td>NaN</td>\n",
       "      <td>0.0039</td>\n",
       "      <td>NaN</td>\n",
       "      <td>0.2083</td>\n",
       "      <td>NaN</td>\n",
       "      <td>NaN</td>\n",
       "      <td>0.6600</td>\n",
       "      <td>...</td>\n",
       "      <td>N</td>\n",
       "      <td>Civil marriage</td>\n",
       "      <td>Secondary / secondary special</td>\n",
       "      <td>House / apartment</td>\n",
       "      <td>SATURDAY</td>\n",
       "      <td>Y</td>\n",
       "      <td>M</td>\n",
       "      <td>Cash loans</td>\n",
       "      <td>100081</td>\n",
       "      <td>0</td>\n",
       "    </tr>\n",
       "    <tr>\n",
       "      <th>3</th>\n",
       "      <td>NaN</td>\n",
       "      <td>NaN</td>\n",
       "      <td>NaN</td>\n",
       "      <td>NaN</td>\n",
       "      <td>NaN</td>\n",
       "      <td>NaN</td>\n",
       "      <td>NaN</td>\n",
       "      <td>NaN</td>\n",
       "      <td>NaN</td>\n",
       "      <td>NaN</td>\n",
       "      <td>...</td>\n",
       "      <td>Y</td>\n",
       "      <td>Single / not married</td>\n",
       "      <td>Higher education</td>\n",
       "      <td>House / apartment</td>\n",
       "      <td>WEDNESDAY</td>\n",
       "      <td>Y</td>\n",
       "      <td>F</td>\n",
       "      <td>Cash loans</td>\n",
       "      <td>100101</td>\n",
       "      <td>0</td>\n",
       "    </tr>\n",
       "    <tr>\n",
       "      <th>4</th>\n",
       "      <td>NaN</td>\n",
       "      <td>-28.0</td>\n",
       "      <td>31290.44</td>\n",
       "      <td>-84.0</td>\n",
       "      <td>NaN</td>\n",
       "      <td>0.0</td>\n",
       "      <td>NaN</td>\n",
       "      <td>22.0</td>\n",
       "      <td>0.0</td>\n",
       "      <td>NaN</td>\n",
       "      <td>...</td>\n",
       "      <td>Y</td>\n",
       "      <td>Married</td>\n",
       "      <td>Secondary / secondary special</td>\n",
       "      <td>House / apartment</td>\n",
       "      <td>WEDNESDAY</td>\n",
       "      <td>Y</td>\n",
       "      <td>M</td>\n",
       "      <td>Cash loans</td>\n",
       "      <td>100110</td>\n",
       "      <td>0</td>\n",
       "    </tr>\n",
       "  </tbody>\n",
       "</table>\n",
       "<p>5 rows × 161 columns</p>\n",
       "</div>"
      ],
      "text/plain": [
       "   COMMONAREA_MODE  \\\n",
       "0           0.0497   \n",
       "1           0.0029   \n",
       "2           0.0069   \n",
       "3              NaN   \n",
       "4              NaN   \n",
       "\n",
       "   QT_MAX_QT_MAX_DAYS_ENTRY_PAYMENT_U3M_INSTALLMENTS_U12M_PREV_APP  \\\n",
       "0                                                NaN                 \n",
       "1                                              -16.0                 \n",
       "2                                                NaN                 \n",
       "3                                                NaN                 \n",
       "4                                              -28.0                 \n",
       "\n",
       "   VL_MED_VL_TOT_AMT_PAYMENT_U3M_INSTALLMENTS_U12M_PREV_APP  \\\n",
       "0                                                NaN          \n",
       "1                                           23284.40          \n",
       "2                                                NaN          \n",
       "3                                                NaN          \n",
       "4                                           31290.44          \n",
       "\n",
       "   QT_MAX_QT_MIN_DAYS_ENTRY_PAYMENT_U3M_INSTALLMENTS_U12M_PREV_APP  \\\n",
       "0                                                NaN                 \n",
       "1                                              -83.0                 \n",
       "2                                                NaN                 \n",
       "3                                                NaN                 \n",
       "4                                              -84.0                 \n",
       "\n",
       "   NONLIVINGAPARTMENTS_AVG  VL_MED_AMT_CREDIT_SUM_LIMIT_U9M_BUREAU  \\\n",
       "0                   0.0039                                     NaN   \n",
       "1                   0.0039                                     NaN   \n",
       "2                   0.0039                                     NaN   \n",
       "3                      NaN                                     NaN   \n",
       "4                      NaN                                     0.0   \n",
       "\n",
       "   FLOORSMIN_AVG  \\\n",
       "0         0.3333   \n",
       "1         0.2083   \n",
       "2         0.2083   \n",
       "3            NaN   \n",
       "4            NaN   \n",
       "\n",
       "   VL_MED_VL_MED_CNT_INSTALMENT_FUTURE_U6M_CANCELED_POS_CASH_U12M_PREV_APP  \\\n",
       "0                                                NaN                         \n",
       "1                                               10.0                         \n",
       "2                                                NaN                         \n",
       "3                                                NaN                         \n",
       "4                                               22.0                         \n",
       "\n",
       "   QT_MAX_QT_TOT_SK_DPD_U6M_DEMAND_POS_CASH_U12M_PREV_APP  YEARS_BUILD_AVG  \\\n",
       "0                                                NaN                0.7960   \n",
       "1                                                0.0                0.8436   \n",
       "2                                                NaN                0.6600   \n",
       "3                                                NaN                   NaN   \n",
       "4                                                0.0                   NaN   \n",
       "\n",
       "   ...  FLAG_OWN_REALTY    NAME_FAMILY_STATUS            NAME_EDUCATION_TYPE  \\\n",
       "0  ...                N               Married               Higher education   \n",
       "1  ...                Y               Married  Secondary / secondary special   \n",
       "2  ...                N        Civil marriage  Secondary / secondary special   \n",
       "3  ...                Y  Single / not married               Higher education   \n",
       "4  ...                Y               Married  Secondary / secondary special   \n",
       "\n",
       "   NAME_HOUSING_TYPE  WEEKDAY_APPR_PROCESS_START  FLAG_OWN_CAR  CODE_GENDER  \\\n",
       "0  House / apartment                      MONDAY             N            F   \n",
       "1  House / apartment                   WEDNESDAY             N            M   \n",
       "2  House / apartment                    SATURDAY             Y            M   \n",
       "3  House / apartment                   WEDNESDAY             Y            F   \n",
       "4  House / apartment                   WEDNESDAY             Y            M   \n",
       "\n",
       "   NAME_CONTRACT_TYPE  SK_ID_CURR  TARGET  \n",
       "0          Cash loans      100003       0  \n",
       "1     Revolving loans      100068       0  \n",
       "2          Cash loans      100081       0  \n",
       "3          Cash loans      100101       0  \n",
       "4          Cash loans      100110       0  \n",
       "\n",
       "[5 rows x 161 columns]"
      ]
     },
     "execution_count": 42,
     "metadata": {},
     "output_type": "execute_result"
    }
   ],
   "source": [
    "df_treino_full.head()"
   ]
  },
  {
   "cell_type": "markdown",
   "id": "699edb9d",
   "metadata": {},
   "source": [
    "## Salvando lista das primeiras variáveis selecionadas"
   ]
  },
  {
   "cell_type": "code",
   "execution_count": 3,
   "id": "85f9a8b1",
   "metadata": {},
   "outputs": [],
   "source": [
    "# Salvar a lista em um arquivo .pkl\n",
    "import pickle\n",
    "with open('../artifacts/prd_first_list_features.pkl', 'wb') as f:\n",
    "    pickle.dump(colunas_finais, f)"
   ]
  }
 ],
 "metadata": {
  "kernelspec": {
   "display_name": ".venv",
   "language": "python",
   "name": "python3"
  },
  "language_info": {
   "codemirror_mode": {
    "name": "ipython",
    "version": 3
   },
   "file_extension": ".py",
   "mimetype": "text/x-python",
   "name": "python",
   "nbconvert_exporter": "python",
   "pygments_lexer": "ipython3",
   "version": "3.12.3"
  }
 },
 "nbformat": 4,
 "nbformat_minor": 5
}
